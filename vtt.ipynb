{
  "cells": [
    {
      "cell_type": "markdown",
      "metadata": {
        "id": "view-in-github",
        "colab_type": "text"
      },
      "source": [
        "<a href=\"https://colab.research.google.com/github/atomicai/BERTopic/blob/master/vtt.ipynb\" target=\"_parent\"><img src=\"https://colab.research.google.com/assets/colab-badge.svg\" alt=\"Open In Colab\"/></a>"
      ]
    },
    {
      "cell_type": "code",
      "execution_count": 4,
      "metadata": {
        "colab": {
          "base_uri": "https://localhost:8080/"
        },
        "id": "vwHMVrqW6VXu",
        "outputId": "528ca999-bf04-4c78-f444-244acb50619c"
      },
      "outputs": [
        {
          "output_type": "stream",
          "name": "stdout",
          "text": [
            "Collecting faster_whisper\n",
            "  Downloading faster_whisper-1.0.2-py3-none-any.whl (1.5 MB)\n",
            "\u001b[2K     \u001b[90m━━━━━━━━━━━━━━━━━━━━━━━━━━━━━━━━━━━━━━━━\u001b[0m \u001b[32m1.5/1.5 MB\u001b[0m \u001b[31m23.8 MB/s\u001b[0m eta \u001b[36m0:00:00\u001b[0m\n",
            "\u001b[?25hCollecting ffmpeg\n",
            "  Downloading ffmpeg-1.4.tar.gz (5.1 kB)\n",
            "  Preparing metadata (setup.py) ... \u001b[?25l\u001b[?25hdone\n",
            "Collecting loguru\n",
            "  Downloading loguru-0.7.2-py3-none-any.whl (62 kB)\n",
            "\u001b[2K     \u001b[90m━━━━━━━━━━━━━━━━━━━━━━━━━━━━━━━━━━━━━━━━\u001b[0m \u001b[32m62.5/62.5 kB\u001b[0m \u001b[31m9.2 MB/s\u001b[0m eta \u001b[36m0:00:00\u001b[0m\n",
            "\u001b[?25hCollecting bitsandbytes\n",
            "  Downloading bitsandbytes-0.43.1-py3-none-manylinux_2_24_x86_64.whl (119.8 MB)\n",
            "\u001b[2K     \u001b[90m━━━━━━━━━━━━━━━━━━━━━━━━━━━━━━━━━━━━━━━━\u001b[0m \u001b[32m119.8/119.8 MB\u001b[0m \u001b[31m14.3 MB/s\u001b[0m eta \u001b[36m0:00:00\u001b[0m\n",
            "\u001b[?25hCollecting googletrans==3.1.0a0\n",
            "  Downloading googletrans-3.1.0a0.tar.gz (19 kB)\n",
            "  Preparing metadata (setup.py) ... \u001b[?25l\u001b[?25hdone\n",
            "Collecting httpx==0.13.3 (from googletrans==3.1.0a0)\n",
            "  Downloading httpx-0.13.3-py3-none-any.whl (55 kB)\n",
            "\u001b[2K     \u001b[90m━━━━━━━━━━━━━━━━━━━━━━━━━━━━━━━━━━━━━━━━\u001b[0m \u001b[32m55.1/55.1 kB\u001b[0m \u001b[31m9.0 MB/s\u001b[0m eta \u001b[36m0:00:00\u001b[0m\n",
            "\u001b[?25hRequirement already satisfied: certifi in /usr/local/lib/python3.10/dist-packages (from httpx==0.13.3->googletrans==3.1.0a0) (2024.6.2)\n",
            "Collecting hstspreload (from httpx==0.13.3->googletrans==3.1.0a0)\n",
            "  Downloading hstspreload-2024.6.1-py3-none-any.whl (1.2 MB)\n",
            "\u001b[2K     \u001b[90m━━━━━━━━━━━━━━━━━━━━━━━━━━━━━━━━━━━━━━━━\u001b[0m \u001b[32m1.2/1.2 MB\u001b[0m \u001b[31m70.5 MB/s\u001b[0m eta \u001b[36m0:00:00\u001b[0m\n",
            "\u001b[?25hRequirement already satisfied: sniffio in /usr/local/lib/python3.10/dist-packages (from httpx==0.13.3->googletrans==3.1.0a0) (1.3.1)\n",
            "Collecting chardet==3.* (from httpx==0.13.3->googletrans==3.1.0a0)\n",
            "  Downloading chardet-3.0.4-py2.py3-none-any.whl (133 kB)\n",
            "\u001b[2K     \u001b[90m━━━━━━━━━━━━━━━━━━━━━━━━━━━━━━━━━━━━━━━━\u001b[0m \u001b[32m133.4/133.4 kB\u001b[0m \u001b[31m21.1 MB/s\u001b[0m eta \u001b[36m0:00:00\u001b[0m\n",
            "\u001b[?25hCollecting idna==2.* (from httpx==0.13.3->googletrans==3.1.0a0)\n",
            "  Downloading idna-2.10-py2.py3-none-any.whl (58 kB)\n",
            "\u001b[2K     \u001b[90m━━━━━━━━━━━━━━━━━━━━━━━━━━━━━━━━━━━━━━━━\u001b[0m \u001b[32m58.8/58.8 kB\u001b[0m \u001b[31m9.1 MB/s\u001b[0m eta \u001b[36m0:00:00\u001b[0m\n",
            "\u001b[?25hCollecting rfc3986<2,>=1.3 (from httpx==0.13.3->googletrans==3.1.0a0)\n",
            "  Downloading rfc3986-1.5.0-py2.py3-none-any.whl (31 kB)\n",
            "Collecting httpcore==0.9.* (from httpx==0.13.3->googletrans==3.1.0a0)\n",
            "  Downloading httpcore-0.9.1-py3-none-any.whl (42 kB)\n",
            "\u001b[2K     \u001b[90m━━━━━━━━━━━━━━━━━━━━━━━━━━━━━━━━━━━━━━━━\u001b[0m \u001b[32m42.6/42.6 kB\u001b[0m \u001b[31m6.4 MB/s\u001b[0m eta \u001b[36m0:00:00\u001b[0m\n",
            "\u001b[?25hCollecting h11<0.10,>=0.8 (from httpcore==0.9.*->httpx==0.13.3->googletrans==3.1.0a0)\n",
            "  Downloading h11-0.9.0-py2.py3-none-any.whl (53 kB)\n",
            "\u001b[2K     \u001b[90m━━━━━━━━━━━━━━━━━━━━━━━━━━━━━━━━━━━━━━━━\u001b[0m \u001b[32m53.6/53.6 kB\u001b[0m \u001b[31m8.1 MB/s\u001b[0m eta \u001b[36m0:00:00\u001b[0m\n",
            "\u001b[?25hCollecting h2==3.* (from httpcore==0.9.*->httpx==0.13.3->googletrans==3.1.0a0)\n",
            "  Downloading h2-3.2.0-py2.py3-none-any.whl (65 kB)\n",
            "\u001b[2K     \u001b[90m━━━━━━━━━━━━━━━━━━━━━━━━━━━━━━━━━━━━━━━━\u001b[0m \u001b[32m65.0/65.0 kB\u001b[0m \u001b[31m10.2 MB/s\u001b[0m eta \u001b[36m0:00:00\u001b[0m\n",
            "\u001b[?25hCollecting hyperframe<6,>=5.2.0 (from h2==3.*->httpcore==0.9.*->httpx==0.13.3->googletrans==3.1.0a0)\n",
            "  Downloading hyperframe-5.2.0-py2.py3-none-any.whl (12 kB)\n",
            "Collecting hpack<4,>=3.0 (from h2==3.*->httpcore==0.9.*->httpx==0.13.3->googletrans==3.1.0a0)\n",
            "  Downloading hpack-3.0.0-py2.py3-none-any.whl (38 kB)\n",
            "Collecting av<13,>=11.0 (from faster_whisper)\n",
            "  Downloading av-12.1.0-cp310-cp310-manylinux_2_17_x86_64.manylinux2014_x86_64.whl (34.3 MB)\n",
            "\u001b[2K     \u001b[90m━━━━━━━━━━━━━━━━━━━━━━━━━━━━━━━━━━━━━━━━\u001b[0m \u001b[32m34.3/34.3 MB\u001b[0m \u001b[31m48.9 MB/s\u001b[0m eta \u001b[36m0:00:00\u001b[0m\n",
            "\u001b[?25hCollecting ctranslate2<5,>=4.0 (from faster_whisper)\n",
            "  Downloading ctranslate2-4.3.1-cp310-cp310-manylinux_2_17_x86_64.manylinux2014_x86_64.whl (192.3 MB)\n",
            "\u001b[2K     \u001b[90m━━━━━━━━━━━━━━━━━━━━━━━━━━━━━━━━━━━━━━━━\u001b[0m \u001b[32m192.3/192.3 MB\u001b[0m \u001b[31m7.4 MB/s\u001b[0m eta \u001b[36m0:00:00\u001b[0m\n",
            "\u001b[?25hRequirement already satisfied: huggingface-hub>=0.13 in /usr/local/lib/python3.10/dist-packages (from faster_whisper) (0.23.2)\n",
            "Requirement already satisfied: tokenizers<1,>=0.13 in /usr/local/lib/python3.10/dist-packages (from faster_whisper) (0.19.1)\n",
            "Collecting onnxruntime<2,>=1.14 (from faster_whisper)\n",
            "  Downloading onnxruntime-1.18.0-cp310-cp310-manylinux_2_27_x86_64.manylinux_2_28_x86_64.whl (6.8 MB)\n",
            "\u001b[2K     \u001b[90m━━━━━━━━━━━━━━━━━━━━━━━━━━━━━━━━━━━━━━━━\u001b[0m \u001b[32m6.8/6.8 MB\u001b[0m \u001b[31m24.3 MB/s\u001b[0m eta \u001b[36m0:00:00\u001b[0m\n",
            "\u001b[?25hRequirement already satisfied: torch in /usr/local/lib/python3.10/dist-packages (from bitsandbytes) (2.3.0+cu121)\n",
            "Requirement already satisfied: numpy in /usr/local/lib/python3.10/dist-packages (from bitsandbytes) (1.25.2)\n",
            "Requirement already satisfied: setuptools in /usr/local/lib/python3.10/dist-packages (from ctranslate2<5,>=4.0->faster_whisper) (67.7.2)\n",
            "Requirement already satisfied: pyyaml<7,>=5.3 in /usr/local/lib/python3.10/dist-packages (from ctranslate2<5,>=4.0->faster_whisper) (6.0.1)\n",
            "Requirement already satisfied: filelock in /usr/local/lib/python3.10/dist-packages (from huggingface-hub>=0.13->faster_whisper) (3.14.0)\n",
            "Requirement already satisfied: fsspec>=2023.5.0 in /usr/local/lib/python3.10/dist-packages (from huggingface-hub>=0.13->faster_whisper) (2023.6.0)\n",
            "Requirement already satisfied: packaging>=20.9 in /usr/local/lib/python3.10/dist-packages (from huggingface-hub>=0.13->faster_whisper) (24.0)\n",
            "Requirement already satisfied: requests in /usr/local/lib/python3.10/dist-packages (from huggingface-hub>=0.13->faster_whisper) (2.31.0)\n",
            "Requirement already satisfied: tqdm>=4.42.1 in /usr/local/lib/python3.10/dist-packages (from huggingface-hub>=0.13->faster_whisper) (4.66.4)\n",
            "Requirement already satisfied: typing-extensions>=3.7.4.3 in /usr/local/lib/python3.10/dist-packages (from huggingface-hub>=0.13->faster_whisper) (4.12.1)\n",
            "Collecting coloredlogs (from onnxruntime<2,>=1.14->faster_whisper)\n",
            "  Downloading coloredlogs-15.0.1-py2.py3-none-any.whl (46 kB)\n",
            "\u001b[2K     \u001b[90m━━━━━━━━━━━━━━━━━━━━━━━━━━━━━━━━━━━━━━━━\u001b[0m \u001b[32m46.0/46.0 kB\u001b[0m \u001b[31m7.2 MB/s\u001b[0m eta \u001b[36m0:00:00\u001b[0m\n",
            "\u001b[?25hRequirement already satisfied: flatbuffers in /usr/local/lib/python3.10/dist-packages (from onnxruntime<2,>=1.14->faster_whisper) (24.3.25)\n",
            "Requirement already satisfied: protobuf in /usr/local/lib/python3.10/dist-packages (from onnxruntime<2,>=1.14->faster_whisper) (3.20.3)\n",
            "Requirement already satisfied: sympy in /usr/local/lib/python3.10/dist-packages (from onnxruntime<2,>=1.14->faster_whisper) (1.12.1)\n",
            "Requirement already satisfied: networkx in /usr/local/lib/python3.10/dist-packages (from torch->bitsandbytes) (3.3)\n",
            "Requirement already satisfied: jinja2 in /usr/local/lib/python3.10/dist-packages (from torch->bitsandbytes) (3.1.4)\n",
            "Collecting nvidia-cuda-nvrtc-cu12==12.1.105 (from torch->bitsandbytes)\n",
            "  Using cached nvidia_cuda_nvrtc_cu12-12.1.105-py3-none-manylinux1_x86_64.whl (23.7 MB)\n",
            "Collecting nvidia-cuda-runtime-cu12==12.1.105 (from torch->bitsandbytes)\n",
            "  Using cached nvidia_cuda_runtime_cu12-12.1.105-py3-none-manylinux1_x86_64.whl (823 kB)\n",
            "Collecting nvidia-cuda-cupti-cu12==12.1.105 (from torch->bitsandbytes)\n",
            "  Using cached nvidia_cuda_cupti_cu12-12.1.105-py3-none-manylinux1_x86_64.whl (14.1 MB)\n",
            "Collecting nvidia-cudnn-cu12==8.9.2.26 (from torch->bitsandbytes)\n",
            "  Using cached nvidia_cudnn_cu12-8.9.2.26-py3-none-manylinux1_x86_64.whl (731.7 MB)\n",
            "Collecting nvidia-cublas-cu12==12.1.3.1 (from torch->bitsandbytes)\n",
            "  Using cached nvidia_cublas_cu12-12.1.3.1-py3-none-manylinux1_x86_64.whl (410.6 MB)\n",
            "Collecting nvidia-cufft-cu12==11.0.2.54 (from torch->bitsandbytes)\n",
            "  Using cached nvidia_cufft_cu12-11.0.2.54-py3-none-manylinux1_x86_64.whl (121.6 MB)\n",
            "Collecting nvidia-curand-cu12==10.3.2.106 (from torch->bitsandbytes)\n",
            "  Using cached nvidia_curand_cu12-10.3.2.106-py3-none-manylinux1_x86_64.whl (56.5 MB)\n",
            "Collecting nvidia-cusolver-cu12==11.4.5.107 (from torch->bitsandbytes)\n",
            "  Using cached nvidia_cusolver_cu12-11.4.5.107-py3-none-manylinux1_x86_64.whl (124.2 MB)\n",
            "Collecting nvidia-cusparse-cu12==12.1.0.106 (from torch->bitsandbytes)\n",
            "  Using cached nvidia_cusparse_cu12-12.1.0.106-py3-none-manylinux1_x86_64.whl (196.0 MB)\n",
            "Collecting nvidia-nccl-cu12==2.20.5 (from torch->bitsandbytes)\n",
            "  Using cached nvidia_nccl_cu12-2.20.5-py3-none-manylinux2014_x86_64.whl (176.2 MB)\n",
            "Collecting nvidia-nvtx-cu12==12.1.105 (from torch->bitsandbytes)\n",
            "  Using cached nvidia_nvtx_cu12-12.1.105-py3-none-manylinux1_x86_64.whl (99 kB)\n",
            "Requirement already satisfied: triton==2.3.0 in /usr/local/lib/python3.10/dist-packages (from torch->bitsandbytes) (2.3.0)\n",
            "Collecting nvidia-nvjitlink-cu12 (from nvidia-cusolver-cu12==11.4.5.107->torch->bitsandbytes)\n",
            "  Downloading nvidia_nvjitlink_cu12-12.5.40-py3-none-manylinux2014_x86_64.whl (21.3 MB)\n",
            "\u001b[2K     \u001b[90m━━━━━━━━━━━━━━━━━━━━━━━━━━━━━━━━━━━━━━━━\u001b[0m \u001b[32m21.3/21.3 MB\u001b[0m \u001b[31m14.2 MB/s\u001b[0m eta \u001b[36m0:00:00\u001b[0m\n",
            "\u001b[?25hCollecting humanfriendly>=9.1 (from coloredlogs->onnxruntime<2,>=1.14->faster_whisper)\n",
            "  Downloading humanfriendly-10.0-py2.py3-none-any.whl (86 kB)\n",
            "\u001b[2K     \u001b[90m━━━━━━━━━━━━━━━━━━━━━━━━━━━━━━━━━━━━━━━━\u001b[0m \u001b[32m86.8/86.8 kB\u001b[0m \u001b[31m12.3 MB/s\u001b[0m eta \u001b[36m0:00:00\u001b[0m\n",
            "\u001b[?25hRequirement already satisfied: MarkupSafe>=2.0 in /usr/local/lib/python3.10/dist-packages (from jinja2->torch->bitsandbytes) (2.1.5)\n",
            "Requirement already satisfied: charset-normalizer<4,>=2 in /usr/local/lib/python3.10/dist-packages (from requests->huggingface-hub>=0.13->faster_whisper) (3.3.2)\n",
            "Requirement already satisfied: urllib3<3,>=1.21.1 in /usr/local/lib/python3.10/dist-packages (from requests->huggingface-hub>=0.13->faster_whisper) (2.0.7)\n",
            "Requirement already satisfied: mpmath<1.4.0,>=1.1.0 in /usr/local/lib/python3.10/dist-packages (from sympy->onnxruntime<2,>=1.14->faster_whisper) (1.3.0)\n",
            "Building wheels for collected packages: googletrans, ffmpeg\n",
            "  Building wheel for googletrans (setup.py) ... \u001b[?25l\u001b[?25hdone\n",
            "  Created wheel for googletrans: filename=googletrans-3.1.0a0-py3-none-any.whl size=16353 sha256=4f09f84da542fdbc1fa6bed132d6af79e348d656f50b05a40a061e00f0b5106b\n",
            "  Stored in directory: /root/.cache/pip/wheels/50/5d/3c/8477d0af4ca2b8b1308812c09f1930863caeebc762fe265a95\n",
            "  Building wheel for ffmpeg (setup.py) ... \u001b[?25l\u001b[?25hdone\n",
            "  Created wheel for ffmpeg: filename=ffmpeg-1.4-py3-none-any.whl size=6082 sha256=a859bef4c3478032c183c2769ed84fe516fefea431c1102d0f7526ce9e0273d5\n",
            "  Stored in directory: /root/.cache/pip/wheels/8e/7a/69/cd6aeb83b126a7f04cbe7c9d929028dc52a6e7d525ff56003a\n",
            "Successfully built googletrans ffmpeg\n",
            "Installing collected packages: rfc3986, hyperframe, hpack, h11, ffmpeg, chardet, nvidia-nvtx-cu12, nvidia-nvjitlink-cu12, nvidia-nccl-cu12, nvidia-curand-cu12, nvidia-cufft-cu12, nvidia-cuda-runtime-cu12, nvidia-cuda-nvrtc-cu12, nvidia-cuda-cupti-cu12, nvidia-cublas-cu12, loguru, idna, humanfriendly, hstspreload, h2, ctranslate2, av, nvidia-cusparse-cu12, nvidia-cudnn-cu12, httpcore, coloredlogs, onnxruntime, nvidia-cusolver-cu12, httpx, googletrans, faster_whisper, bitsandbytes\n",
            "  Attempting uninstall: chardet\n",
            "    Found existing installation: chardet 5.2.0\n",
            "    Uninstalling chardet-5.2.0:\n",
            "      Successfully uninstalled chardet-5.2.0\n",
            "  Attempting uninstall: idna\n",
            "    Found existing installation: idna 3.7\n",
            "    Uninstalling idna-3.7:\n",
            "      Successfully uninstalled idna-3.7\n",
            "Successfully installed av-12.1.0 bitsandbytes-0.43.1 chardet-3.0.4 coloredlogs-15.0.1 ctranslate2-4.3.1 faster_whisper-1.0.2 ffmpeg-1.4 googletrans-3.1.0a0 h11-0.9.0 h2-3.2.0 hpack-3.0.0 hstspreload-2024.6.1 httpcore-0.9.1 httpx-0.13.3 humanfriendly-10.0 hyperframe-5.2.0 idna-2.10 loguru-0.7.2 nvidia-cublas-cu12-12.1.3.1 nvidia-cuda-cupti-cu12-12.1.105 nvidia-cuda-nvrtc-cu12-12.1.105 nvidia-cuda-runtime-cu12-12.1.105 nvidia-cudnn-cu12-8.9.2.26 nvidia-cufft-cu12-11.0.2.54 nvidia-curand-cu12-10.3.2.106 nvidia-cusolver-cu12-11.4.5.107 nvidia-cusparse-cu12-12.1.0.106 nvidia-nccl-cu12-2.20.5 nvidia-nvjitlink-cu12-12.5.40 nvidia-nvtx-cu12-12.1.105 onnxruntime-1.18.0 rfc3986-1.5.0\n"
          ]
        }
      ],
      "source": [
        "!pip install faster_whisper ffmpeg loguru bitsandbytes googletrans==3.1.0a0"
      ]
    },
    {
      "cell_type": "code",
      "execution_count": 5,
      "metadata": {
        "colab": {
          "base_uri": "https://localhost:8080/"
        },
        "id": "Vvzwq56Z6ZfM",
        "outputId": "b490260b-dcf3-4900-f694-dc5661a2c50d"
      },
      "outputs": [
        {
          "output_type": "stream",
          "name": "stdout",
          "text": [
            "Reading package lists... Done\n",
            "Building dependency tree... Done\n",
            "Reading state information... Done\n",
            "ffmpeg is already the newest version (7:4.4.2-0ubuntu0.22.04.1).\n",
            "0 upgraded, 0 newly installed, 0 to remove and 45 not upgraded.\n"
          ]
        }
      ],
      "source": [
        "!apt install ffmpeg"
      ]
    },
    {
      "cell_type": "code",
      "execution_count": 6,
      "metadata": {
        "id": "Bhjo-q25479r",
        "colab": {
          "base_uri": "https://localhost:8080/",
          "height": 267,
          "referenced_widgets": [
            "f4851802d61045d69cc7f04fa5bf20ed",
            "0e853b9d067442dcb5bf6766bc41299d",
            "ea55eb1aa6de4f3f86b24603bc43e3ef",
            "af4c1a9cc1b643248ba02ffe91d25bc0",
            "bcccc9e3fcd54c649bf27b82938edd27",
            "918e60d7f58349aeb66f013e17b32baa",
            "4fa559a3110a432e99c86b6dc66784e0",
            "618d7fe591604deeb09b7bffaf3cc5e9",
            "364226866b86422f92166ad5a311fa2b",
            "96669472034841da828308a0baf5375c",
            "7c7fb4dc5b054a76b84a6e8f06777650",
            "a6d78050136d4b32998969992162a155",
            "e75ddc3b6b8d480e86f11586645cbb31",
            "fc3ded38285340d9b16ec84aadb800b9",
            "b49b29413b2d4eecad51be4aa7dd41f1",
            "7cdfc5c79c354970b5d6a315fd1ee4e1",
            "8cb52c5222534b978917be908a32f7e7",
            "efe4224173fa4d0da888b60494e8a26a",
            "0b4da49595b04813891eabdc3cc5ceb3",
            "de69f08f55144847b4ae9ac2fc2f24fa",
            "45510befe08048f5980ec0a208959cc8",
            "6c35b66f61ea43f3b4a3511068ed035e",
            "102792717f3a46369f48f03e3370d4df",
            "c7e5fac1a0da4da9844900d0cb4655c9",
            "637298a782fb4d2f918cdd3f99ca259c",
            "76e819c13b434bccad56fd65c7ef72dd",
            "d0bd3f2da7b3444683fd537e234c54db",
            "1182786e72834675ab97760e097a135d",
            "9db2f8992895441abc22f90ddde560e2",
            "666f26738d1c4584a8e663fd2ad28b78",
            "9018ab5453744948b94e6a60630e570f",
            "d7fb9f3b0b3241e695c77f216823b532",
            "d4a67a2f41ab4aee94764df6489f3b2e",
            "2efba6fcb2d341688641865c71f9a8f0",
            "abc7443e98734f7c91d7f38076241fef",
            "ec965228c44e422f895a4bb4df294016",
            "7aa2c2da9faf4702bea5151738a8e93f",
            "fead4aca18b742f39f26790c36541802",
            "75649df3ada24c528a1f4b547de3c0a6",
            "fbe85ec3631b479e916ae7d113400fdb",
            "9dfec27ecf8e4bdeb5b070698d89caf7",
            "9efb5ec18fab4309992dcbccdd625a85",
            "6b20f934ca094330be6400f7e8f0f7dd",
            "aa33c0d6247741a184eccc92d4ebbf63"
          ]
        },
        "outputId": "a78a1a7d-73e6-40e9-894d-bd2fb9c68379"
      },
      "outputs": [
        {
          "output_type": "stream",
          "name": "stderr",
          "text": [
            "/usr/local/lib/python3.10/dist-packages/huggingface_hub/utils/_token.py:89: UserWarning: \n",
            "The secret `HF_TOKEN` does not exist in your Colab secrets.\n",
            "To authenticate with the Hugging Face Hub, create a token in your settings tab (https://huggingface.co/settings/tokens), set it as secret in your Google Colab and restart your session.\n",
            "You will be able to reuse this secret in all of your notebooks.\n",
            "Please note that authentication is recommended but still optional to access public models or datasets.\n",
            "  warnings.warn(\n"
          ]
        },
        {
          "output_type": "display_data",
          "data": {
            "text/plain": [
              "model.bin:   0%|          | 0.00/3.09G [00:00<?, ?B/s]"
            ],
            "application/vnd.jupyter.widget-view+json": {
              "version_major": 2,
              "version_minor": 0,
              "model_id": "f4851802d61045d69cc7f04fa5bf20ed"
            }
          },
          "metadata": {}
        },
        {
          "output_type": "display_data",
          "data": {
            "text/plain": [
              "vocabulary.txt:   0%|          | 0.00/460k [00:00<?, ?B/s]"
            ],
            "application/vnd.jupyter.widget-view+json": {
              "version_major": 2,
              "version_minor": 0,
              "model_id": "a6d78050136d4b32998969992162a155"
            }
          },
          "metadata": {}
        },
        {
          "output_type": "display_data",
          "data": {
            "text/plain": [
              "tokenizer.json:   0%|          | 0.00/2.20M [00:00<?, ?B/s]"
            ],
            "application/vnd.jupyter.widget-view+json": {
              "version_major": 2,
              "version_minor": 0,
              "model_id": "102792717f3a46369f48f03e3370d4df"
            }
          },
          "metadata": {}
        },
        {
          "output_type": "display_data",
          "data": {
            "text/plain": [
              "config.json:   0%|          | 0.00/2.80k [00:00<?, ?B/s]"
            ],
            "application/vnd.jupyter.widget-view+json": {
              "version_major": 2,
              "version_minor": 0,
              "model_id": "2efba6fcb2d341688641865c71f9a8f0"
            }
          },
          "metadata": {}
        }
      ],
      "source": [
        "from transformers import AutoModelForSeq2SeqLM, AutoTokenizer\n",
        "from subprocess import run\n",
        "from faster_whisper import WhisperModel\n",
        "import json\n",
        "import tempfile\n",
        "import os\n",
        "import ffmpeg\n",
        "from pathlib import Path\n",
        "from zipfile import ZipFile\n",
        "from loguru import logger\n",
        "import stat\n",
        "import uuid\n",
        "import subprocess\n",
        "import torch\n",
        "import bitsandbytes\n",
        "import scipy\n",
        "\n",
        "from googletrans import Translator\n",
        "import re\n",
        "import subprocess\n",
        "import datetime\n",
        "\n",
        "#ZipFile(\"ffmpeg.zip\").extractall()\n",
        "#st = os.stat(\"ffmpeg\")\n",
        "#os.chmod(\"ffmpeg\", st.st_mode | stat.S_IEXEC)\n",
        "\n",
        "\n",
        "# with open(\"google_lang_codes.json\", \"r\") as f:\n",
        "#     google_lang_codes = json.load(f)\n",
        "\n",
        "google_lang_codes = dict(\n",
        "    Russian=\"ru\",\n",
        "    English=\"en\"\n",
        ")\n",
        "\n",
        "translator = Translator()\n",
        "whisper_model = WhisperModel(\"large-v2\", device=\"auto\")"
      ]
    },
    {
      "cell_type": "code",
      "execution_count": 2,
      "metadata": {
        "colab": {
          "base_uri": "https://localhost:8080/"
        },
        "id": "G2AOpQVv6o43",
        "outputId": "23a95e9d-b164-4225-b5eb-ca6a1209f553"
      },
      "outputs": [
        {
          "output_type": "stream",
          "name": "stdout",
          "text": [
            "Mounted at /content/drive\n"
          ]
        }
      ],
      "source": [
        "from google.colab import drive\n",
        "drive.mount('/content/drive')"
      ]
    },
    {
      "cell_type": "code",
      "execution_count": 8,
      "metadata": {
        "colab": {
          "base_uri": "https://localhost:8080/"
        },
        "id": "dJnk-QrO7WJs",
        "outputId": "161e5425-ab23-4bf9-9083-1395a09a5802"
      },
      "outputs": [
        {
          "output_type": "stream",
          "name": "stdout",
          "text": [
            "top-100_transcript_response.csv  top-160_transcript_response.csv  top-40_transcript_response.csv\n",
            "top-10_transcript_response.csv\t top-170_transcript_response.csv  top-50_transcript_response.csv\n",
            "top-110_transcript_response.csv  top-180_transcript_response.csv  top-60_transcript_response.csv\n",
            "top-120_transcript_response.csv  top-190_transcript_response.csv  top-70_transcript_response.csv\n",
            "top-130_transcript_response.csv  top-200_transcript_response.csv  top-80_transcript_response.csv\n",
            "top-140_transcript_response.csv  top-20_transcript_response.csv   top-90_transcript_response.csv\n",
            "top-150_transcript_response.csv  top-30_transcript_response.csv\n"
          ]
        }
      ],
      "source": [
        "!ls ./drive/MyDrive/YAPPI"
      ]
    },
    {
      "cell_type": "code",
      "execution_count": 10,
      "metadata": {
        "id": "mO2l0Wb-77HX"
      },
      "outputs": [],
      "source": [
        "import polars as pl\n",
        "import pandas as pd"
      ]
    },
    {
      "cell_type": "code",
      "execution_count": 11,
      "metadata": {
        "id": "BaI6KCnu8CvE"
      },
      "outputs": [],
      "source": [
        "pl_docs = pl.read_csv(\"./drive/MyDrive/yappi_hackaton_2024_400k.csv\")"
      ]
    },
    {
      "cell_type": "code",
      "execution_count": 12,
      "metadata": {
        "id": "itNbFJOy8Hes"
      },
      "outputs": [],
      "source": [
        "pl_docs = pl_docs.filter(pl.col(\"description\").is_not_null())"
      ]
    },
    {
      "cell_type": "code",
      "execution_count": 13,
      "metadata": {
        "colab": {
          "base_uri": "https://localhost:8080/",
          "height": 252
        },
        "id": "Zw7-xY3d8Il-",
        "outputId": "1fa1e69d-a341-444d-9e7d-ffaf901ce04e"
      },
      "outputs": [
        {
          "output_type": "execute_result",
          "data": {
            "text/plain": [
              "shape: (5, 2)\n",
              "┌───────────────────────────────────┬───────────────────────────────────┐\n",
              "│ link                              ┆ description                       │\n",
              "│ ---                               ┆ ---                               │\n",
              "│ str                               ┆ str                               │\n",
              "╞═══════════════════════════════════╪═══════════════════════════════════╡\n",
              "│ https://cdn-st.rutubelist.ru/med… ┆ #нарезкистримов , #dota2 , #cs2 … │\n",
              "│ https://cdn-st.rutubelist.ru/med… ┆ 🤫НЕ ВВОДИ ЭТУ КОМАНДУ В РОБЛОКС  │\n",
              "│                                   ┆ …                                 │\n",
              "│ https://cdn-st.rutubelist.ru/med… ┆ #boobs , #красивыедевушки , #ass  │\n",
              "│ https://cdn-st.rutubelist.ru/med… ┆ #diy #постановка #юмор #комедия   │\n",
              "│ https://cdn-st.rutubelist.ru/med… ┆ #образ #lookbook #показ #неделям… │\n",
              "└───────────────────────────────────┴───────────────────────────────────┘"
            ],
            "text/html": [
              "<div><style>\n",
              ".dataframe > thead > tr,\n",
              ".dataframe > tbody > tr {\n",
              "  text-align: right;\n",
              "  white-space: pre-wrap;\n",
              "}\n",
              "</style>\n",
              "<small>shape: (5, 2)</small><table border=\"1\" class=\"dataframe\"><thead><tr><th>link</th><th>description</th></tr><tr><td>str</td><td>str</td></tr></thead><tbody><tr><td>&quot;https://cdn-st…</td><td>&quot;#нарезкистримо…</td></tr><tr><td>&quot;https://cdn-st…</td><td>&quot;🤫НЕ ВВОДИ ЭТУ …</td></tr><tr><td>&quot;https://cdn-st…</td><td>&quot;#boobs , #крас…</td></tr><tr><td>&quot;https://cdn-st…</td><td>&quot;#diy #постанов…</td></tr><tr><td>&quot;https://cdn-st…</td><td>&quot;#образ #lookbo…</td></tr></tbody></table></div>"
            ]
          },
          "metadata": {},
          "execution_count": 13
        }
      ],
      "source": [
        "pl_docs.head()"
      ]
    },
    {
      "cell_type": "code",
      "source": [
        "words_to_consider = [\"егэ2023\"]"
      ],
      "metadata": {
        "id": "4l1PGSnqKTOA"
      },
      "execution_count": 15,
      "outputs": []
    },
    {
      "cell_type": "code",
      "source": [
        "pl_docs = pl_docs.filter(pl.col(\"description\").str.contains_any(words_to_consider))"
      ],
      "metadata": {
        "id": "Si7NMABwKoyX"
      },
      "execution_count": 17,
      "outputs": []
    },
    {
      "cell_type": "code",
      "execution_count": 19,
      "metadata": {
        "id": "7dAsEDOe8VGC"
      },
      "outputs": [],
      "source": [
        "from tqdm.autonotebook import tqdm\n",
        "from more_itertools import chunked\n",
        "import asyncio as asio\n",
        "import smart_open as so"
      ]
    },
    {
      "cell_type": "code",
      "execution_count": 20,
      "metadata": {
        "id": "cSQLXrNG84u4"
      },
      "outputs": [],
      "source": [
        "docs = pl_docs.select(\"link\").to_series().to_list()"
      ]
    },
    {
      "cell_type": "code",
      "source": [
        "async def parallel_download(url):\n",
        "  # Download video via url.\n",
        "  # 1) Создаем уникальный .wav файл\n",
        "  # 2) Качаем\n",
        "  # 3) Возвращаем\n",
        "  fname = f\"{uuid.uuid4()}.wav\"\n",
        "  proc = await asio.create_subprocess_exec(\n",
        "   'ffmpeg','-i', url, fname,\n",
        "   stdout=asio.subprocess.PIPE,\n",
        "   stderr=asio.subprocess.PIPE)\n",
        "  stdout, stderr = await proc.communicate()\n",
        "  return fname"
      ],
      "metadata": {
        "id": "qWccy5x0Q5mP"
      },
      "execution_count": 21,
      "outputs": []
    },
    {
      "cell_type": "code",
      "source": [
        "import smart_open as so\n",
        "\n",
        "def stream_uri(uri_in, uri_out, chunk_size=1 << 18):  # 256kB chunks\n",
        "    \"\"\"Write from uri_in to uri_out with minimal memory footprint.\"\"\"\n",
        "    with so.open(uri_in, \"rb\") as fin, so.open(uri_out, \"wb\") as fout:\n",
        "        while chunk := fin.read(chunk_size):\n",
        "            fout.write(chunk)\n",
        "    return uri_out"
      ],
      "metadata": {
        "id": "wCN_64NInX-I"
      },
      "execution_count": 22,
      "outputs": []
    },
    {
      "cell_type": "code",
      "source": [
        "async def ignite_video_processing(fpath: Path, codes_mapping, lang_to_translate = \"Russian\", translate_video: bool = True):\n",
        "    cur_uuid = str(Path(fpath).stem)\n",
        "    cur_path = Path(os.getcwd())\n",
        "    transcript_file = str(Path(fpath).stem) + \".srt\"\n",
        "    print(transcript_file)\n",
        "    # Transcription with Whisper.\n",
        "    target_language_code = codes_mapping.get(lang_to_translate, \"ru\")\n",
        "    logger.info(f\"Using target lagnuage code {lang_to_translate}\")\n",
        "    segments, _ = whisper_model.transcribe(fpath, beam_size=5)\n",
        "    segments = list(segments)\n",
        "\n",
        "    with open(transcript_file, \"w+\", encoding=\"utf-8\") as f:\n",
        "        counter = 1\n",
        "        for segment in segments:\n",
        "            start_hours = int(segment.start // 3600)\n",
        "            start_minutes = int((segment.start % 3600) // 60)\n",
        "            start_seconds = int(segment.start % 60)\n",
        "            start_milliseconds = int((segment.start - int(segment.start)) * 1000)\n",
        "\n",
        "            end_hours = int(segment.end // 3600)\n",
        "            end_minutes = int((segment.end % 3600) // 60)\n",
        "            end_seconds = int(segment.end % 60)\n",
        "            end_milliseconds = int((segment.end - int(segment.end)) * 1000)\n",
        "\n",
        "            formatted_start = f\"{start_hours:02d}:{start_minutes:02d}:{start_seconds:02d},{start_milliseconds:03d}\"\n",
        "            formatted_end = f\"{end_hours:02d}:{end_minutes:02d}:{end_seconds:02d},{end_milliseconds:03d}\"\n",
        "\n",
        "            f.write(f\"{counter}\\n\")\n",
        "            f.write(f\"{formatted_start} --> {formatted_end}\\n\")\n",
        "            f.write(f\"{segment.text}\\n\\n\")\n",
        "            counter += 1\n",
        "\n",
        "        # Check if translation is needed\n",
        "        if translate_video:\n",
        "            # Translating the SRT from Whisper with Google Translate.\n",
        "            translated_lines = []\n",
        "            f.seek(0)  # Move the file pointer to the beginning of the file.\n",
        "            for line in f:\n",
        "                if line.strip().isnumeric() or \"-->\" in line:\n",
        "                    translated_lines.append(line)\n",
        "                elif line.strip() != \"\":\n",
        "                    translated_text = translator.translate(line.strip(), dest=target_language_code).text\n",
        "                    translated_lines.append(translated_text + \"\\n\")\n",
        "                else:\n",
        "                    translated_lines.append(\"\\n\")\n",
        "\n",
        "            f.seek(0)  # Move the file pointer to the beginning of the file and truncate it.\n",
        "            f.truncate()\n",
        "            f.writelines(translated_lines)  # Write the translated lines back into the original file.\n",
        "    # Debugging: Validate FFmpeg command for subtitle embedding\n",
        "    print(\"Validating FFmpeg command for subtitle embedding...\")\n",
        "    print(f\"Translated SRT file: {transcript_file}\")\n",
        "    os.unlink(str(fpath))\n",
        "    os.unlink(str(transcript_file))\n",
        "    return translated_lines"
      ],
      "metadata": {
        "id": "DaP2yjXcVj9-"
      },
      "execution_count": 24,
      "outputs": []
    },
    {
      "cell_type": "code",
      "source": [
        "offset = 0\n",
        "batch_size = 16"
      ],
      "metadata": {
        "id": "eBLVkDRmq2yX"
      },
      "execution_count": 29,
      "outputs": []
    },
    {
      "cell_type": "code",
      "source": [
        "probs = []"
      ],
      "metadata": {
        "id": "hMKkhohbrYXY"
      },
      "execution_count": 26,
      "outputs": []
    },
    {
      "cell_type": "code",
      "source": [
        "snapshot_name = \"_\".join(words_to_consider)"
      ],
      "metadata": {
        "id": "57CUkhDcK_t2"
      },
      "execution_count": 27,
      "outputs": []
    },
    {
      "cell_type": "code",
      "execution_count": null,
      "metadata": {
        "colab": {
          "base_uri": "https://localhost:8080/",
          "height": 1000,
          "referenced_widgets": [
            "28c28e0e44634fd0aa1f68fae5da76e4",
            "5e1e1992df014d448da357447634d253",
            "f5e4ab5cf5154a188544eb21051b1c07",
            "b6c7a36243814311ae14bae9b2cf2a7f",
            "aaf55a984ee14737a66504279d8ba507",
            "d5b9bee1cfca4d29838ac91b06b4192f",
            "0489f744d1734341b1b9b656d156b438",
            "a567cd46bb19473f9275cb3cce663d2f",
            "4a291fc4695445cfb30eaba1a6b30e78",
            "4893ab31d95c4cd3b60fd3b7005bee6a",
            "f376a00c09e642158eb57cd04ed1a4a9"
          ]
        },
        "id": "Jx-giVXu8Okq",
        "outputId": "cd13d5ba-a013-4143-b46a-da368d4b30c2"
      },
      "outputs": [
        {
          "output_type": "display_data",
          "data": {
            "text/plain": [
              "0it [00:00, ?it/s]"
            ],
            "application/vnd.jupyter.widget-view+json": {
              "version_major": 2,
              "version_minor": 0,
              "model_id": "28c28e0e44634fd0aa1f68fae5da76e4"
            }
          },
          "metadata": {}
        },
        {
          "output_type": "stream",
          "name": "stderr",
          "text": [
            "\u001b[32m2024-06-12 11:20:12.437\u001b[0m | \u001b[1mINFO    \u001b[0m | \u001b[36m__main__\u001b[0m:\u001b[36mignite_video_processing\u001b[0m:\u001b[36m8\u001b[0m - \u001b[1mUsing target lagnuage code Russian\u001b[0m\n"
          ]
        },
        {
          "output_type": "stream",
          "name": "stdout",
          "text": [
            "8c06802e-1df6-43eb-8980-ff5e92cfe712.srt\n"
          ]
        },
        {
          "output_type": "stream",
          "name": "stderr",
          "text": [
            "\u001b[32m2024-06-12 11:20:15.449\u001b[0m | \u001b[1mINFO    \u001b[0m | \u001b[36m__main__\u001b[0m:\u001b[36mignite_video_processing\u001b[0m:\u001b[36m8\u001b[0m - \u001b[1mUsing target lagnuage code Russian\u001b[0m\n"
          ]
        },
        {
          "output_type": "stream",
          "name": "stdout",
          "text": [
            "Validating FFmpeg command for subtitle embedding...\n",
            "Translated SRT file: 8c06802e-1df6-43eb-8980-ff5e92cfe712.srt\n",
            "d42f7762-2383-4c76-8c49-f68f92717f64.srt\n"
          ]
        },
        {
          "output_type": "stream",
          "name": "stderr",
          "text": [
            "\u001b[32m2024-06-12 11:20:20.344\u001b[0m | \u001b[1mINFO    \u001b[0m | \u001b[36m__main__\u001b[0m:\u001b[36mignite_video_processing\u001b[0m:\u001b[36m8\u001b[0m - \u001b[1mUsing target lagnuage code Russian\u001b[0m\n"
          ]
        },
        {
          "output_type": "stream",
          "name": "stdout",
          "text": [
            "Validating FFmpeg command for subtitle embedding...\n",
            "Translated SRT file: d42f7762-2383-4c76-8c49-f68f92717f64.srt\n",
            "3c263dc3-baf0-43f1-bd4f-6a2788bf103e.srt\n"
          ]
        },
        {
          "output_type": "stream",
          "name": "stderr",
          "text": [
            "\u001b[32m2024-06-12 11:20:26.557\u001b[0m | \u001b[1mINFO    \u001b[0m | \u001b[36m__main__\u001b[0m:\u001b[36mignite_video_processing\u001b[0m:\u001b[36m8\u001b[0m - \u001b[1mUsing target lagnuage code Russian\u001b[0m\n"
          ]
        },
        {
          "output_type": "stream",
          "name": "stdout",
          "text": [
            "Validating FFmpeg command for subtitle embedding...\n",
            "Translated SRT file: 3c263dc3-baf0-43f1-bd4f-6a2788bf103e.srt\n",
            "8ac46907-e706-4552-83f4-bcaa7027b357.srt\n"
          ]
        },
        {
          "output_type": "stream",
          "name": "stderr",
          "text": [
            "\u001b[32m2024-06-12 11:20:33.038\u001b[0m | \u001b[1mINFO    \u001b[0m | \u001b[36m__main__\u001b[0m:\u001b[36mignite_video_processing\u001b[0m:\u001b[36m8\u001b[0m - \u001b[1mUsing target lagnuage code Russian\u001b[0m\n"
          ]
        },
        {
          "output_type": "stream",
          "name": "stdout",
          "text": [
            "Validating FFmpeg command for subtitle embedding...\n",
            "Translated SRT file: 8ac46907-e706-4552-83f4-bcaa7027b357.srt\n",
            "f274d939-a45f-4997-95d3-60e32d2675e5.srt\n"
          ]
        },
        {
          "output_type": "stream",
          "name": "stderr",
          "text": [
            "\u001b[32m2024-06-12 11:20:36.109\u001b[0m | \u001b[1mINFO    \u001b[0m | \u001b[36m__main__\u001b[0m:\u001b[36mignite_video_processing\u001b[0m:\u001b[36m8\u001b[0m - \u001b[1mUsing target lagnuage code Russian\u001b[0m\n"
          ]
        },
        {
          "output_type": "stream",
          "name": "stdout",
          "text": [
            "Validating FFmpeg command for subtitle embedding...\n",
            "Translated SRT file: f274d939-a45f-4997-95d3-60e32d2675e5.srt\n",
            "d807711e-dc31-4922-89f4-d5c1100d251b.srt\n"
          ]
        },
        {
          "output_type": "stream",
          "name": "stderr",
          "text": [
            "\u001b[32m2024-06-12 11:20:39.202\u001b[0m | \u001b[1mINFO    \u001b[0m | \u001b[36m__main__\u001b[0m:\u001b[36mignite_video_processing\u001b[0m:\u001b[36m8\u001b[0m - \u001b[1mUsing target lagnuage code Russian\u001b[0m\n"
          ]
        },
        {
          "output_type": "stream",
          "name": "stdout",
          "text": [
            "Validating FFmpeg command for subtitle embedding...\n",
            "Translated SRT file: d807711e-dc31-4922-89f4-d5c1100d251b.srt\n",
            "eb615d92-596f-4c47-b98b-f0f5a63c36f4.srt\n"
          ]
        },
        {
          "output_type": "stream",
          "name": "stderr",
          "text": [
            "\u001b[32m2024-06-12 11:20:40.628\u001b[0m | \u001b[1mINFO    \u001b[0m | \u001b[36m__main__\u001b[0m:\u001b[36mignite_video_processing\u001b[0m:\u001b[36m8\u001b[0m - \u001b[1mUsing target lagnuage code Russian\u001b[0m\n"
          ]
        },
        {
          "output_type": "stream",
          "name": "stdout",
          "text": [
            "Validating FFmpeg command for subtitle embedding...\n",
            "Translated SRT file: eb615d92-596f-4c47-b98b-f0f5a63c36f4.srt\n",
            "2e12703a-b7b6-4962-bd3b-615e5b76f0fe.srt\n"
          ]
        },
        {
          "output_type": "stream",
          "name": "stderr",
          "text": [
            "\u001b[32m2024-06-12 11:20:46.149\u001b[0m | \u001b[1mINFO    \u001b[0m | \u001b[36m__main__\u001b[0m:\u001b[36mignite_video_processing\u001b[0m:\u001b[36m8\u001b[0m - \u001b[1mUsing target lagnuage code Russian\u001b[0m\n"
          ]
        },
        {
          "output_type": "stream",
          "name": "stdout",
          "text": [
            "Validating FFmpeg command for subtitle embedding...\n",
            "Translated SRT file: 2e12703a-b7b6-4962-bd3b-615e5b76f0fe.srt\n",
            "7109cf5a-5581-4189-88a4-faf5077783fb.srt\n"
          ]
        },
        {
          "output_type": "stream",
          "name": "stderr",
          "text": [
            "\u001b[32m2024-06-12 11:20:46.959\u001b[0m | \u001b[1mINFO    \u001b[0m | \u001b[36m__main__\u001b[0m:\u001b[36mignite_video_processing\u001b[0m:\u001b[36m8\u001b[0m - \u001b[1mUsing target lagnuage code Russian\u001b[0m\n"
          ]
        },
        {
          "output_type": "stream",
          "name": "stdout",
          "text": [
            "Validating FFmpeg command for subtitle embedding...\n",
            "Translated SRT file: 7109cf5a-5581-4189-88a4-faf5077783fb.srt\n",
            "300daf8a-6461-4388-9b5d-c6011cd2c1e5.srt\n"
          ]
        },
        {
          "output_type": "stream",
          "name": "stderr",
          "text": [
            "\u001b[32m2024-06-12 11:20:49.584\u001b[0m | \u001b[1mINFO    \u001b[0m | \u001b[36m__main__\u001b[0m:\u001b[36mignite_video_processing\u001b[0m:\u001b[36m8\u001b[0m - \u001b[1mUsing target lagnuage code Russian\u001b[0m\n"
          ]
        },
        {
          "output_type": "stream",
          "name": "stdout",
          "text": [
            "Validating FFmpeg command for subtitle embedding...\n",
            "Translated SRT file: 300daf8a-6461-4388-9b5d-c6011cd2c1e5.srt\n",
            "24237218-5821-4db8-a579-697f44560dff.srt\n"
          ]
        },
        {
          "output_type": "stream",
          "name": "stderr",
          "text": [
            "\u001b[32m2024-06-12 11:20:57.219\u001b[0m | \u001b[1mINFO    \u001b[0m | \u001b[36m__main__\u001b[0m:\u001b[36mignite_video_processing\u001b[0m:\u001b[36m8\u001b[0m - \u001b[1mUsing target lagnuage code Russian\u001b[0m\n"
          ]
        },
        {
          "output_type": "stream",
          "name": "stdout",
          "text": [
            "Validating FFmpeg command for subtitle embedding...\n",
            "Translated SRT file: 24237218-5821-4db8-a579-697f44560dff.srt\n",
            "1b2ae9e8-075c-45a8-a776-d1ab38a7027f.srt\n"
          ]
        },
        {
          "output_type": "stream",
          "name": "stderr",
          "text": [
            "\u001b[32m2024-06-12 11:21:02.821\u001b[0m | \u001b[1mINFO    \u001b[0m | \u001b[36m__main__\u001b[0m:\u001b[36mignite_video_processing\u001b[0m:\u001b[36m8\u001b[0m - \u001b[1mUsing target lagnuage code Russian\u001b[0m\n"
          ]
        },
        {
          "output_type": "stream",
          "name": "stdout",
          "text": [
            "Validating FFmpeg command for subtitle embedding...\n",
            "Translated SRT file: 1b2ae9e8-075c-45a8-a776-d1ab38a7027f.srt\n",
            "c37b7561-4334-456b-b65c-f25912f33ab3.srt\n"
          ]
        },
        {
          "output_type": "stream",
          "name": "stderr",
          "text": [
            "\u001b[32m2024-06-12 11:21:04.269\u001b[0m | \u001b[1mINFO    \u001b[0m | \u001b[36m__main__\u001b[0m:\u001b[36mignite_video_processing\u001b[0m:\u001b[36m8\u001b[0m - \u001b[1mUsing target lagnuage code Russian\u001b[0m\n"
          ]
        },
        {
          "output_type": "stream",
          "name": "stdout",
          "text": [
            "Validating FFmpeg command for subtitle embedding...\n",
            "Translated SRT file: c37b7561-4334-456b-b65c-f25912f33ab3.srt\n",
            "1317bf62-2eb3-474a-b473-3cad7b3edda3.srt\n"
          ]
        },
        {
          "output_type": "stream",
          "name": "stderr",
          "text": [
            "\u001b[32m2024-06-12 11:21:04.894\u001b[0m | \u001b[1mINFO    \u001b[0m | \u001b[36m__main__\u001b[0m:\u001b[36mignite_video_processing\u001b[0m:\u001b[36m8\u001b[0m - \u001b[1mUsing target lagnuage code Russian\u001b[0m\n"
          ]
        },
        {
          "output_type": "stream",
          "name": "stdout",
          "text": [
            "Validating FFmpeg command for subtitle embedding...\n",
            "Translated SRT file: 1317bf62-2eb3-474a-b473-3cad7b3edda3.srt\n",
            "6d0bdf5b-07f1-4769-9e4b-e824466ab064.srt\n"
          ]
        },
        {
          "output_type": "stream",
          "name": "stderr",
          "text": [
            "\u001b[32m2024-06-12 11:21:12.518\u001b[0m | \u001b[1mINFO    \u001b[0m | \u001b[36m__main__\u001b[0m:\u001b[36mignite_video_processing\u001b[0m:\u001b[36m8\u001b[0m - \u001b[1mUsing target lagnuage code Russian\u001b[0m\n"
          ]
        },
        {
          "output_type": "stream",
          "name": "stdout",
          "text": [
            "Validating FFmpeg command for subtitle embedding...\n",
            "Translated SRT file: 6d0bdf5b-07f1-4769-9e4b-e824466ab064.srt\n",
            "1651591b-927f-4737-87a2-c04b81f6b23b.srt\n",
            "Validating FFmpeg command for subtitle embedding...\n",
            "Translated SRT file: 1651591b-927f-4737-87a2-c04b81f6b23b.srt\n"
          ]
        },
        {
          "output_type": "stream",
          "name": "stderr",
          "text": [
            "\u001b[32m2024-06-12 11:21:25.176\u001b[0m | \u001b[1mINFO    \u001b[0m | \u001b[36m__main__\u001b[0m:\u001b[36mignite_video_processing\u001b[0m:\u001b[36m8\u001b[0m - \u001b[1mUsing target lagnuage code Russian\u001b[0m\n"
          ]
        },
        {
          "output_type": "stream",
          "name": "stdout",
          "text": [
            "aa8b4b38-f799-4c1c-b5e2-4e790258b82a.srt\n"
          ]
        },
        {
          "output_type": "stream",
          "name": "stderr",
          "text": [
            "\u001b[32m2024-06-12 11:21:25.628\u001b[0m | \u001b[1mINFO    \u001b[0m | \u001b[36m__main__\u001b[0m:\u001b[36mignite_video_processing\u001b[0m:\u001b[36m8\u001b[0m - \u001b[1mUsing target lagnuage code Russian\u001b[0m\n"
          ]
        },
        {
          "output_type": "stream",
          "name": "stdout",
          "text": [
            "Validating FFmpeg command for subtitle embedding...\n",
            "Translated SRT file: aa8b4b38-f799-4c1c-b5e2-4e790258b82a.srt\n",
            "89d36ac4-e475-4d5c-a0ef-4d746811424b.srt\n"
          ]
        },
        {
          "output_type": "stream",
          "name": "stderr",
          "text": [
            "\u001b[32m2024-06-12 11:21:26.328\u001b[0m | \u001b[1mINFO    \u001b[0m | \u001b[36m__main__\u001b[0m:\u001b[36mignite_video_processing\u001b[0m:\u001b[36m8\u001b[0m - \u001b[1mUsing target lagnuage code Russian\u001b[0m\n"
          ]
        },
        {
          "output_type": "stream",
          "name": "stdout",
          "text": [
            "Validating FFmpeg command for subtitle embedding...\n",
            "Translated SRT file: 89d36ac4-e475-4d5c-a0ef-4d746811424b.srt\n",
            "93709a69-ba93-445e-b187-5f8031f4904b.srt\n"
          ]
        },
        {
          "output_type": "stream",
          "name": "stderr",
          "text": [
            "\u001b[32m2024-06-12 11:21:32.204\u001b[0m | \u001b[1mINFO    \u001b[0m | \u001b[36m__main__\u001b[0m:\u001b[36mignite_video_processing\u001b[0m:\u001b[36m8\u001b[0m - \u001b[1mUsing target lagnuage code Russian\u001b[0m\n"
          ]
        },
        {
          "output_type": "stream",
          "name": "stdout",
          "text": [
            "Validating FFmpeg command for subtitle embedding...\n",
            "Translated SRT file: 93709a69-ba93-445e-b187-5f8031f4904b.srt\n",
            "4fd7e371-ddf2-47ab-a3bf-d5f9e5689ffe.srt\n"
          ]
        },
        {
          "output_type": "stream",
          "name": "stderr",
          "text": [
            "\u001b[32m2024-06-12 11:21:32.901\u001b[0m | \u001b[1mINFO    \u001b[0m | \u001b[36m__main__\u001b[0m:\u001b[36mignite_video_processing\u001b[0m:\u001b[36m8\u001b[0m - \u001b[1mUsing target lagnuage code Russian\u001b[0m\n"
          ]
        },
        {
          "output_type": "stream",
          "name": "stdout",
          "text": [
            "Validating FFmpeg command for subtitle embedding...\n",
            "Translated SRT file: 4fd7e371-ddf2-47ab-a3bf-d5f9e5689ffe.srt\n",
            "0f0c5faa-7b46-4ab7-86cc-1b72efea0662.srt\n"
          ]
        },
        {
          "output_type": "stream",
          "name": "stderr",
          "text": [
            "\u001b[32m2024-06-12 11:21:39.177\u001b[0m | \u001b[1mINFO    \u001b[0m | \u001b[36m__main__\u001b[0m:\u001b[36mignite_video_processing\u001b[0m:\u001b[36m8\u001b[0m - \u001b[1mUsing target lagnuage code Russian\u001b[0m\n"
          ]
        },
        {
          "output_type": "stream",
          "name": "stdout",
          "text": [
            "Validating FFmpeg command for subtitle embedding...\n",
            "Translated SRT file: 0f0c5faa-7b46-4ab7-86cc-1b72efea0662.srt\n",
            "6ed17ade-9a55-4fa6-bca9-297bfed70794.srt\n"
          ]
        },
        {
          "output_type": "stream",
          "name": "stderr",
          "text": [
            "\u001b[32m2024-06-12 11:21:46.846\u001b[0m | \u001b[1mINFO    \u001b[0m | \u001b[36m__main__\u001b[0m:\u001b[36mignite_video_processing\u001b[0m:\u001b[36m8\u001b[0m - \u001b[1mUsing target lagnuage code Russian\u001b[0m\n"
          ]
        },
        {
          "output_type": "stream",
          "name": "stdout",
          "text": [
            "Validating FFmpeg command for subtitle embedding...\n",
            "Translated SRT file: 6ed17ade-9a55-4fa6-bca9-297bfed70794.srt\n",
            "638ea616-4678-4880-bcef-2d115c676365.srt\n"
          ]
        },
        {
          "output_type": "stream",
          "name": "stderr",
          "text": [
            "\u001b[32m2024-06-12 11:21:47.451\u001b[0m | \u001b[1mINFO    \u001b[0m | \u001b[36m__main__\u001b[0m:\u001b[36mignite_video_processing\u001b[0m:\u001b[36m8\u001b[0m - \u001b[1mUsing target lagnuage code Russian\u001b[0m\n"
          ]
        },
        {
          "output_type": "stream",
          "name": "stdout",
          "text": [
            "Validating FFmpeg command for subtitle embedding...\n",
            "Translated SRT file: 638ea616-4678-4880-bcef-2d115c676365.srt\n",
            "3bbb5baa-32b7-44fb-bcd4-38a558cd0146.srt\n"
          ]
        },
        {
          "output_type": "stream",
          "name": "stderr",
          "text": [
            "\u001b[32m2024-06-12 11:21:48.500\u001b[0m | \u001b[1mINFO    \u001b[0m | \u001b[36m__main__\u001b[0m:\u001b[36mignite_video_processing\u001b[0m:\u001b[36m8\u001b[0m - \u001b[1mUsing target lagnuage code Russian\u001b[0m\n"
          ]
        },
        {
          "output_type": "stream",
          "name": "stdout",
          "text": [
            "Validating FFmpeg command for subtitle embedding...\n",
            "Translated SRT file: 3bbb5baa-32b7-44fb-bcd4-38a558cd0146.srt\n",
            "7886150c-e862-459e-926f-e0742d0558c8.srt\n"
          ]
        },
        {
          "output_type": "stream",
          "name": "stderr",
          "text": [
            "\u001b[32m2024-06-12 11:21:51.793\u001b[0m | \u001b[1mINFO    \u001b[0m | \u001b[36m__main__\u001b[0m:\u001b[36mignite_video_processing\u001b[0m:\u001b[36m8\u001b[0m - \u001b[1mUsing target lagnuage code Russian\u001b[0m\n"
          ]
        },
        {
          "output_type": "stream",
          "name": "stdout",
          "text": [
            "Validating FFmpeg command for subtitle embedding...\n",
            "Translated SRT file: 7886150c-e862-459e-926f-e0742d0558c8.srt\n",
            "88d43d1a-4504-4e6e-bcac-9a15bf1b7fd8.srt\n"
          ]
        },
        {
          "output_type": "stream",
          "name": "stderr",
          "text": [
            "\u001b[32m2024-06-12 11:21:53.519\u001b[0m | \u001b[1mINFO    \u001b[0m | \u001b[36m__main__\u001b[0m:\u001b[36mignite_video_processing\u001b[0m:\u001b[36m8\u001b[0m - \u001b[1mUsing target lagnuage code Russian\u001b[0m\n"
          ]
        },
        {
          "output_type": "stream",
          "name": "stdout",
          "text": [
            "Validating FFmpeg command for subtitle embedding...\n",
            "Translated SRT file: 88d43d1a-4504-4e6e-bcac-9a15bf1b7fd8.srt\n",
            "fa3a04f1-58ac-4968-8099-711718518e45.srt\n"
          ]
        },
        {
          "output_type": "stream",
          "name": "stderr",
          "text": [
            "\u001b[32m2024-06-12 11:21:54.769\u001b[0m | \u001b[1mINFO    \u001b[0m | \u001b[36m__main__\u001b[0m:\u001b[36mignite_video_processing\u001b[0m:\u001b[36m8\u001b[0m - \u001b[1mUsing target lagnuage code Russian\u001b[0m\n"
          ]
        },
        {
          "output_type": "stream",
          "name": "stdout",
          "text": [
            "Validating FFmpeg command for subtitle embedding...\n",
            "Translated SRT file: fa3a04f1-58ac-4968-8099-711718518e45.srt\n",
            "fa13687e-4f7d-4951-814c-3a2bb94c8916.srt\n"
          ]
        },
        {
          "output_type": "stream",
          "name": "stderr",
          "text": [
            "\u001b[32m2024-06-12 11:22:00.420\u001b[0m | \u001b[1mINFO    \u001b[0m | \u001b[36m__main__\u001b[0m:\u001b[36mignite_video_processing\u001b[0m:\u001b[36m8\u001b[0m - \u001b[1mUsing target lagnuage code Russian\u001b[0m\n"
          ]
        },
        {
          "output_type": "stream",
          "name": "stdout",
          "text": [
            "Validating FFmpeg command for subtitle embedding...\n",
            "Translated SRT file: fa13687e-4f7d-4951-814c-3a2bb94c8916.srt\n",
            "be25a4d1-8d76-497c-888c-cb01712f66c9.srt\n"
          ]
        },
        {
          "output_type": "stream",
          "name": "stderr",
          "text": [
            "\u001b[32m2024-06-12 11:22:16.965\u001b[0m | \u001b[1mINFO    \u001b[0m | \u001b[36m__main__\u001b[0m:\u001b[36mignite_video_processing\u001b[0m:\u001b[36m8\u001b[0m - \u001b[1mUsing target lagnuage code Russian\u001b[0m\n"
          ]
        },
        {
          "output_type": "stream",
          "name": "stdout",
          "text": [
            "Validating FFmpeg command for subtitle embedding...\n",
            "Translated SRT file: be25a4d1-8d76-497c-888c-cb01712f66c9.srt\n",
            "0ef63221-ee43-45ce-a03c-f4ad0a63eff3.srt\n"
          ]
        },
        {
          "output_type": "stream",
          "name": "stderr",
          "text": [
            "\u001b[32m2024-06-12 11:22:18.957\u001b[0m | \u001b[1mINFO    \u001b[0m | \u001b[36m__main__\u001b[0m:\u001b[36mignite_video_processing\u001b[0m:\u001b[36m8\u001b[0m - \u001b[1mUsing target lagnuage code Russian\u001b[0m\n"
          ]
        },
        {
          "output_type": "stream",
          "name": "stdout",
          "text": [
            "Validating FFmpeg command for subtitle embedding...\n",
            "Translated SRT file: 0ef63221-ee43-45ce-a03c-f4ad0a63eff3.srt\n",
            "4d762fd5-7191-4864-9c9f-d90250ec1ded.srt\n"
          ]
        },
        {
          "output_type": "stream",
          "name": "stderr",
          "text": [
            "\u001b[32m2024-06-12 11:22:20.868\u001b[0m | \u001b[1mINFO    \u001b[0m | \u001b[36m__main__\u001b[0m:\u001b[36mignite_video_processing\u001b[0m:\u001b[36m8\u001b[0m - \u001b[1mUsing target lagnuage code Russian\u001b[0m\n"
          ]
        },
        {
          "output_type": "stream",
          "name": "stdout",
          "text": [
            "Validating FFmpeg command for subtitle embedding...\n",
            "Translated SRT file: 4d762fd5-7191-4864-9c9f-d90250ec1ded.srt\n",
            "61d68b3e-fe4d-41c7-8e38-cb7ea3adbdda.srt\n",
            "Validating FFmpeg command for subtitle embedding...\n",
            "Translated SRT file: 61d68b3e-fe4d-41c7-8e38-cb7ea3adbdda.srt\n"
          ]
        },
        {
          "output_type": "stream",
          "name": "stderr",
          "text": [
            "\u001b[32m2024-06-12 11:22:29.374\u001b[0m | \u001b[1mINFO    \u001b[0m | \u001b[36m__main__\u001b[0m:\u001b[36mignite_video_processing\u001b[0m:\u001b[36m8\u001b[0m - \u001b[1mUsing target lagnuage code Russian\u001b[0m\n"
          ]
        },
        {
          "output_type": "stream",
          "name": "stdout",
          "text": [
            "e2a399e0-bcd1-4742-b1f9-b2b0e8d84636.srt\n"
          ]
        },
        {
          "output_type": "stream",
          "name": "stderr",
          "text": [
            "\u001b[32m2024-06-12 11:22:33.936\u001b[0m | \u001b[1mINFO    \u001b[0m | \u001b[36m__main__\u001b[0m:\u001b[36mignite_video_processing\u001b[0m:\u001b[36m8\u001b[0m - \u001b[1mUsing target lagnuage code Russian\u001b[0m\n"
          ]
        },
        {
          "output_type": "stream",
          "name": "stdout",
          "text": [
            "Validating FFmpeg command for subtitle embedding...\n",
            "Translated SRT file: e2a399e0-bcd1-4742-b1f9-b2b0e8d84636.srt\n",
            "7031c93e-6d96-43d9-bbd0-313fbf58b354.srt\n"
          ]
        },
        {
          "output_type": "stream",
          "name": "stderr",
          "text": [
            "\u001b[32m2024-06-12 11:22:36.577\u001b[0m | \u001b[1mINFO    \u001b[0m | \u001b[36m__main__\u001b[0m:\u001b[36mignite_video_processing\u001b[0m:\u001b[36m8\u001b[0m - \u001b[1mUsing target lagnuage code Russian\u001b[0m\n"
          ]
        },
        {
          "output_type": "stream",
          "name": "stdout",
          "text": [
            "Validating FFmpeg command for subtitle embedding...\n",
            "Translated SRT file: 7031c93e-6d96-43d9-bbd0-313fbf58b354.srt\n",
            "da1e1a7b-39bf-493a-aca7-dbeed98a7664.srt\n"
          ]
        },
        {
          "output_type": "stream",
          "name": "stderr",
          "text": [
            "\u001b[32m2024-06-12 11:22:47.815\u001b[0m | \u001b[1mINFO    \u001b[0m | \u001b[36m__main__\u001b[0m:\u001b[36mignite_video_processing\u001b[0m:\u001b[36m8\u001b[0m - \u001b[1mUsing target lagnuage code Russian\u001b[0m\n"
          ]
        },
        {
          "output_type": "stream",
          "name": "stdout",
          "text": [
            "Validating FFmpeg command for subtitle embedding...\n",
            "Translated SRT file: da1e1a7b-39bf-493a-aca7-dbeed98a7664.srt\n",
            "b7db05b0-8960-4663-bcc6-c79452cef57f.srt\n"
          ]
        },
        {
          "output_type": "stream",
          "name": "stderr",
          "text": [
            "\u001b[32m2024-06-12 11:22:55.165\u001b[0m | \u001b[1mINFO    \u001b[0m | \u001b[36m__main__\u001b[0m:\u001b[36mignite_video_processing\u001b[0m:\u001b[36m8\u001b[0m - \u001b[1mUsing target lagnuage code Russian\u001b[0m\n"
          ]
        },
        {
          "output_type": "stream",
          "name": "stdout",
          "text": [
            "Validating FFmpeg command for subtitle embedding...\n",
            "Translated SRT file: b7db05b0-8960-4663-bcc6-c79452cef57f.srt\n",
            "d261b280-3f34-4b92-ba68-5d4dbbdada59.srt\n"
          ]
        },
        {
          "output_type": "stream",
          "name": "stderr",
          "text": [
            "\u001b[32m2024-06-12 11:22:57.590\u001b[0m | \u001b[1mINFO    \u001b[0m | \u001b[36m__main__\u001b[0m:\u001b[36mignite_video_processing\u001b[0m:\u001b[36m8\u001b[0m - \u001b[1mUsing target lagnuage code Russian\u001b[0m\n"
          ]
        },
        {
          "output_type": "stream",
          "name": "stdout",
          "text": [
            "Validating FFmpeg command for subtitle embedding...\n",
            "Translated SRT file: d261b280-3f34-4b92-ba68-5d4dbbdada59.srt\n",
            "d3dafb2d-b2ae-42fe-8c8a-f19b582b45d9.srt\n"
          ]
        },
        {
          "output_type": "stream",
          "name": "stderr",
          "text": [
            "\u001b[32m2024-06-12 11:23:00.611\u001b[0m | \u001b[1mINFO    \u001b[0m | \u001b[36m__main__\u001b[0m:\u001b[36mignite_video_processing\u001b[0m:\u001b[36m8\u001b[0m - \u001b[1mUsing target lagnuage code Russian\u001b[0m\n"
          ]
        },
        {
          "output_type": "stream",
          "name": "stdout",
          "text": [
            "Validating FFmpeg command for subtitle embedding...\n",
            "Translated SRT file: d3dafb2d-b2ae-42fe-8c8a-f19b582b45d9.srt\n",
            "157e351c-efc8-4f60-9b92-596b1bc19253.srt\n"
          ]
        },
        {
          "output_type": "stream",
          "name": "stderr",
          "text": [
            "\u001b[32m2024-06-12 11:23:01.114\u001b[0m | \u001b[1mINFO    \u001b[0m | \u001b[36m__main__\u001b[0m:\u001b[36mignite_video_processing\u001b[0m:\u001b[36m8\u001b[0m - \u001b[1mUsing target lagnuage code Russian\u001b[0m\n"
          ]
        },
        {
          "output_type": "stream",
          "name": "stdout",
          "text": [
            "Validating FFmpeg command for subtitle embedding...\n",
            "Translated SRT file: 157e351c-efc8-4f60-9b92-596b1bc19253.srt\n",
            "873a8acc-66c8-4f9e-8a23-e0dc9f69333c.srt\n"
          ]
        },
        {
          "output_type": "stream",
          "name": "stderr",
          "text": [
            "\u001b[32m2024-06-12 11:23:02.708\u001b[0m | \u001b[1mINFO    \u001b[0m | \u001b[36m__main__\u001b[0m:\u001b[36mignite_video_processing\u001b[0m:\u001b[36m8\u001b[0m - \u001b[1mUsing target lagnuage code Russian\u001b[0m\n"
          ]
        },
        {
          "output_type": "stream",
          "name": "stdout",
          "text": [
            "Validating FFmpeg command for subtitle embedding...\n",
            "Translated SRT file: 873a8acc-66c8-4f9e-8a23-e0dc9f69333c.srt\n",
            "1196c133-d8ab-4849-a04b-c04b31d68db0.srt\n"
          ]
        },
        {
          "output_type": "stream",
          "name": "stderr",
          "text": [
            "\u001b[32m2024-06-12 11:23:07.331\u001b[0m | \u001b[1mINFO    \u001b[0m | \u001b[36m__main__\u001b[0m:\u001b[36mignite_video_processing\u001b[0m:\u001b[36m8\u001b[0m - \u001b[1mUsing target lagnuage code Russian\u001b[0m\n"
          ]
        },
        {
          "output_type": "stream",
          "name": "stdout",
          "text": [
            "Validating FFmpeg command for subtitle embedding...\n",
            "Translated SRT file: 1196c133-d8ab-4849-a04b-c04b31d68db0.srt\n",
            "4c21ed7e-bb07-474f-ad1f-551f0bf6bc5b.srt\n"
          ]
        },
        {
          "output_type": "stream",
          "name": "stderr",
          "text": [
            "\u001b[32m2024-06-12 11:23:08.825\u001b[0m | \u001b[1mINFO    \u001b[0m | \u001b[36m__main__\u001b[0m:\u001b[36mignite_video_processing\u001b[0m:\u001b[36m8\u001b[0m - \u001b[1mUsing target lagnuage code Russian\u001b[0m\n"
          ]
        },
        {
          "output_type": "stream",
          "name": "stdout",
          "text": [
            "Validating FFmpeg command for subtitle embedding...\n",
            "Translated SRT file: 4c21ed7e-bb07-474f-ad1f-551f0bf6bc5b.srt\n",
            "9e570aa4-54cd-4b9a-a4c8-9615f3fec388.srt\n"
          ]
        },
        {
          "output_type": "stream",
          "name": "stderr",
          "text": [
            "\u001b[32m2024-06-12 11:23:12.576\u001b[0m | \u001b[1mINFO    \u001b[0m | \u001b[36m__main__\u001b[0m:\u001b[36mignite_video_processing\u001b[0m:\u001b[36m8\u001b[0m - \u001b[1mUsing target lagnuage code Russian\u001b[0m\n"
          ]
        },
        {
          "output_type": "stream",
          "name": "stdout",
          "text": [
            "Validating FFmpeg command for subtitle embedding...\n",
            "Translated SRT file: 9e570aa4-54cd-4b9a-a4c8-9615f3fec388.srt\n",
            "2dc9fcf3-1ae0-472e-9892-a646a08c21c0.srt\n"
          ]
        },
        {
          "output_type": "stream",
          "name": "stderr",
          "text": [
            "\u001b[32m2024-06-12 11:23:17.030\u001b[0m | \u001b[1mINFO    \u001b[0m | \u001b[36m__main__\u001b[0m:\u001b[36mignite_video_processing\u001b[0m:\u001b[36m8\u001b[0m - \u001b[1mUsing target lagnuage code Russian\u001b[0m\n"
          ]
        },
        {
          "output_type": "stream",
          "name": "stdout",
          "text": [
            "Validating FFmpeg command for subtitle embedding...\n",
            "Translated SRT file: 2dc9fcf3-1ae0-472e-9892-a646a08c21c0.srt\n",
            "d03bc59e-b3e4-4423-9c89-56bc476d521a.srt\n"
          ]
        },
        {
          "output_type": "stream",
          "name": "stderr",
          "text": [
            "\u001b[32m2024-06-12 11:23:17.839\u001b[0m | \u001b[1mINFO    \u001b[0m | \u001b[36m__main__\u001b[0m:\u001b[36mignite_video_processing\u001b[0m:\u001b[36m8\u001b[0m - \u001b[1mUsing target lagnuage code Russian\u001b[0m\n"
          ]
        },
        {
          "output_type": "stream",
          "name": "stdout",
          "text": [
            "Validating FFmpeg command for subtitle embedding...\n",
            "Translated SRT file: d03bc59e-b3e4-4423-9c89-56bc476d521a.srt\n",
            "d5947d8b-90d7-4cd1-8501-3cc710ccac02.srt\n"
          ]
        },
        {
          "output_type": "stream",
          "name": "stderr",
          "text": [
            "\u001b[32m2024-06-12 11:23:24.706\u001b[0m | \u001b[1mINFO    \u001b[0m | \u001b[36m__main__\u001b[0m:\u001b[36mignite_video_processing\u001b[0m:\u001b[36m8\u001b[0m - \u001b[1mUsing target lagnuage code Russian\u001b[0m\n"
          ]
        },
        {
          "output_type": "stream",
          "name": "stdout",
          "text": [
            "Validating FFmpeg command for subtitle embedding...\n",
            "Translated SRT file: d5947d8b-90d7-4cd1-8501-3cc710ccac02.srt\n",
            "acfda758-c3ef-416b-8e9d-14f56e38d740.srt\n"
          ]
        },
        {
          "output_type": "stream",
          "name": "stderr",
          "text": [
            "\u001b[32m2024-06-12 11:23:29.885\u001b[0m | \u001b[1mINFO    \u001b[0m | \u001b[36m__main__\u001b[0m:\u001b[36mignite_video_processing\u001b[0m:\u001b[36m8\u001b[0m - \u001b[1mUsing target lagnuage code Russian\u001b[0m\n"
          ]
        },
        {
          "output_type": "stream",
          "name": "stdout",
          "text": [
            "Validating FFmpeg command for subtitle embedding...\n",
            "Translated SRT file: acfda758-c3ef-416b-8e9d-14f56e38d740.srt\n",
            "7daef155-b416-4ce9-b3b1-264d7aabb641.srt\n",
            "Validating FFmpeg command for subtitle embedding...\n",
            "Translated SRT file: 7daef155-b416-4ce9-b3b1-264d7aabb641.srt\n"
          ]
        },
        {
          "output_type": "stream",
          "name": "stderr",
          "text": [
            "\u001b[32m2024-06-12 11:23:35.187\u001b[0m | \u001b[1mINFO    \u001b[0m | \u001b[36m__main__\u001b[0m:\u001b[36mignite_video_processing\u001b[0m:\u001b[36m8\u001b[0m - \u001b[1mUsing target lagnuage code Russian\u001b[0m\n"
          ]
        },
        {
          "output_type": "stream",
          "name": "stdout",
          "text": [
            "2d016d82-0e8e-4d52-80d1-bfab3979a3f3.srt\n"
          ]
        },
        {
          "output_type": "stream",
          "name": "stderr",
          "text": [
            "\u001b[32m2024-06-12 11:23:38.822\u001b[0m | \u001b[1mINFO    \u001b[0m | \u001b[36m__main__\u001b[0m:\u001b[36mignite_video_processing\u001b[0m:\u001b[36m8\u001b[0m - \u001b[1mUsing target lagnuage code Russian\u001b[0m\n"
          ]
        },
        {
          "output_type": "stream",
          "name": "stdout",
          "text": [
            "Validating FFmpeg command for subtitle embedding...\n",
            "Translated SRT file: 2d016d82-0e8e-4d52-80d1-bfab3979a3f3.srt\n",
            "ef4cb9b6-6ff3-412f-9fc7-05fca302c02c.srt\n"
          ]
        },
        {
          "output_type": "stream",
          "name": "stderr",
          "text": [
            "\u001b[32m2024-06-12 11:23:40.961\u001b[0m | \u001b[1mINFO    \u001b[0m | \u001b[36m__main__\u001b[0m:\u001b[36mignite_video_processing\u001b[0m:\u001b[36m8\u001b[0m - \u001b[1mUsing target lagnuage code Russian\u001b[0m\n"
          ]
        },
        {
          "output_type": "stream",
          "name": "stdout",
          "text": [
            "Validating FFmpeg command for subtitle embedding...\n",
            "Translated SRT file: ef4cb9b6-6ff3-412f-9fc7-05fca302c02c.srt\n",
            "1ceae273-e0d7-4f28-9a3a-1f3518cf2aa5.srt\n"
          ]
        },
        {
          "output_type": "stream",
          "name": "stderr",
          "text": [
            "\u001b[32m2024-06-12 11:23:44.860\u001b[0m | \u001b[1mINFO    \u001b[0m | \u001b[36m__main__\u001b[0m:\u001b[36mignite_video_processing\u001b[0m:\u001b[36m8\u001b[0m - \u001b[1mUsing target lagnuage code Russian\u001b[0m\n"
          ]
        },
        {
          "output_type": "stream",
          "name": "stdout",
          "text": [
            "Validating FFmpeg command for subtitle embedding...\n",
            "Translated SRT file: 1ceae273-e0d7-4f28-9a3a-1f3518cf2aa5.srt\n",
            "5bad924a-4858-4f68-a14e-9208d11bece3.srt\n"
          ]
        },
        {
          "output_type": "stream",
          "name": "stderr",
          "text": [
            "\u001b[32m2024-06-12 11:23:50.032\u001b[0m | \u001b[1mINFO    \u001b[0m | \u001b[36m__main__\u001b[0m:\u001b[36mignite_video_processing\u001b[0m:\u001b[36m8\u001b[0m - \u001b[1mUsing target lagnuage code Russian\u001b[0m\n"
          ]
        },
        {
          "output_type": "stream",
          "name": "stdout",
          "text": [
            "Validating FFmpeg command for subtitle embedding...\n",
            "Translated SRT file: 5bad924a-4858-4f68-a14e-9208d11bece3.srt\n",
            "b5ffb642-e3f1-4828-bade-685fe4eb64b4.srt\n"
          ]
        },
        {
          "output_type": "stream",
          "name": "stderr",
          "text": [
            "\u001b[32m2024-06-12 11:23:50.798\u001b[0m | \u001b[1mINFO    \u001b[0m | \u001b[36m__main__\u001b[0m:\u001b[36mignite_video_processing\u001b[0m:\u001b[36m8\u001b[0m - \u001b[1mUsing target lagnuage code Russian\u001b[0m\n"
          ]
        },
        {
          "output_type": "stream",
          "name": "stdout",
          "text": [
            "Validating FFmpeg command for subtitle embedding...\n",
            "Translated SRT file: b5ffb642-e3f1-4828-bade-685fe4eb64b4.srt\n",
            "98a04b56-29e9-45b7-a6a2-0e508640ba26.srt\n"
          ]
        },
        {
          "output_type": "stream",
          "name": "stderr",
          "text": [
            "\u001b[32m2024-06-12 11:23:55.012\u001b[0m | \u001b[1mINFO    \u001b[0m | \u001b[36m__main__\u001b[0m:\u001b[36mignite_video_processing\u001b[0m:\u001b[36m8\u001b[0m - \u001b[1mUsing target lagnuage code Russian\u001b[0m\n"
          ]
        },
        {
          "output_type": "stream",
          "name": "stdout",
          "text": [
            "Validating FFmpeg command for subtitle embedding...\n",
            "Translated SRT file: 98a04b56-29e9-45b7-a6a2-0e508640ba26.srt\n",
            "2e1b01a9-f6a4-41e1-b2c5-d39bb0422aeb.srt\n"
          ]
        },
        {
          "output_type": "stream",
          "name": "stderr",
          "text": [
            "\u001b[32m2024-06-12 11:24:02.413\u001b[0m | \u001b[1mINFO    \u001b[0m | \u001b[36m__main__\u001b[0m:\u001b[36mignite_video_processing\u001b[0m:\u001b[36m8\u001b[0m - \u001b[1mUsing target lagnuage code Russian\u001b[0m\n"
          ]
        },
        {
          "output_type": "stream",
          "name": "stdout",
          "text": [
            "Validating FFmpeg command for subtitle embedding...\n",
            "Translated SRT file: 2e1b01a9-f6a4-41e1-b2c5-d39bb0422aeb.srt\n",
            "2ec265ea-6c7d-425c-b26d-8ab1b3a0f67c.srt\n"
          ]
        },
        {
          "output_type": "stream",
          "name": "stderr",
          "text": [
            "\u001b[32m2024-06-12 11:24:03.853\u001b[0m | \u001b[1mINFO    \u001b[0m | \u001b[36m__main__\u001b[0m:\u001b[36mignite_video_processing\u001b[0m:\u001b[36m8\u001b[0m - \u001b[1mUsing target lagnuage code Russian\u001b[0m\n"
          ]
        },
        {
          "output_type": "stream",
          "name": "stdout",
          "text": [
            "Validating FFmpeg command for subtitle embedding...\n",
            "Translated SRT file: 2ec265ea-6c7d-425c-b26d-8ab1b3a0f67c.srt\n",
            "6221f7e6-eda2-493d-8b32-247d3b796f5d.srt\n"
          ]
        },
        {
          "output_type": "stream",
          "name": "stderr",
          "text": [
            "\u001b[32m2024-06-12 11:24:05.968\u001b[0m | \u001b[1mINFO    \u001b[0m | \u001b[36m__main__\u001b[0m:\u001b[36mignite_video_processing\u001b[0m:\u001b[36m8\u001b[0m - \u001b[1mUsing target lagnuage code Russian\u001b[0m\n"
          ]
        },
        {
          "output_type": "stream",
          "name": "stdout",
          "text": [
            "Validating FFmpeg command for subtitle embedding...\n",
            "Translated SRT file: 6221f7e6-eda2-493d-8b32-247d3b796f5d.srt\n",
            "66bfde33-7dc9-4528-84bd-e7704039c961.srt\n"
          ]
        },
        {
          "output_type": "stream",
          "name": "stderr",
          "text": [
            "\u001b[32m2024-06-12 11:24:08.965\u001b[0m | \u001b[1mINFO    \u001b[0m | \u001b[36m__main__\u001b[0m:\u001b[36mignite_video_processing\u001b[0m:\u001b[36m8\u001b[0m - \u001b[1mUsing target lagnuage code Russian\u001b[0m\n"
          ]
        },
        {
          "output_type": "stream",
          "name": "stdout",
          "text": [
            "Validating FFmpeg command for subtitle embedding...\n",
            "Translated SRT file: 66bfde33-7dc9-4528-84bd-e7704039c961.srt\n",
            "c7c05fa4-2acf-4cfe-8bf6-80f6c2897e8e.srt\n"
          ]
        },
        {
          "output_type": "stream",
          "name": "stderr",
          "text": [
            "\u001b[32m2024-06-12 11:24:10.267\u001b[0m | \u001b[1mINFO    \u001b[0m | \u001b[36m__main__\u001b[0m:\u001b[36mignite_video_processing\u001b[0m:\u001b[36m8\u001b[0m - \u001b[1mUsing target lagnuage code Russian\u001b[0m\n"
          ]
        },
        {
          "output_type": "stream",
          "name": "stdout",
          "text": [
            "Validating FFmpeg command for subtitle embedding...\n",
            "Translated SRT file: c7c05fa4-2acf-4cfe-8bf6-80f6c2897e8e.srt\n",
            "4eacba42-a89c-43fc-8ea6-155dbd1f7a76.srt\n"
          ]
        },
        {
          "output_type": "stream",
          "name": "stderr",
          "text": [
            "\u001b[32m2024-06-12 11:24:16.104\u001b[0m | \u001b[1mINFO    \u001b[0m | \u001b[36m__main__\u001b[0m:\u001b[36mignite_video_processing\u001b[0m:\u001b[36m8\u001b[0m - \u001b[1mUsing target lagnuage code Russian\u001b[0m\n"
          ]
        },
        {
          "output_type": "stream",
          "name": "stdout",
          "text": [
            "Validating FFmpeg command for subtitle embedding...\n",
            "Translated SRT file: 4eacba42-a89c-43fc-8ea6-155dbd1f7a76.srt\n",
            "9b010296-9878-43a3-b775-c6422490055d.srt\n"
          ]
        },
        {
          "output_type": "stream",
          "name": "stderr",
          "text": [
            "\u001b[32m2024-06-12 11:24:20.347\u001b[0m | \u001b[1mINFO    \u001b[0m | \u001b[36m__main__\u001b[0m:\u001b[36mignite_video_processing\u001b[0m:\u001b[36m8\u001b[0m - \u001b[1mUsing target lagnuage code Russian\u001b[0m\n"
          ]
        },
        {
          "output_type": "stream",
          "name": "stdout",
          "text": [
            "Validating FFmpeg command for subtitle embedding...\n",
            "Translated SRT file: 9b010296-9878-43a3-b775-c6422490055d.srt\n",
            "a2de1985-eb63-4dac-892c-6a9b1794bb1e.srt\n"
          ]
        },
        {
          "output_type": "stream",
          "name": "stderr",
          "text": [
            "\u001b[32m2024-06-12 11:24:22.357\u001b[0m | \u001b[1mINFO    \u001b[0m | \u001b[36m__main__\u001b[0m:\u001b[36mignite_video_processing\u001b[0m:\u001b[36m8\u001b[0m - \u001b[1mUsing target lagnuage code Russian\u001b[0m\n"
          ]
        },
        {
          "output_type": "stream",
          "name": "stdout",
          "text": [
            "Validating FFmpeg command for subtitle embedding...\n",
            "Translated SRT file: a2de1985-eb63-4dac-892c-6a9b1794bb1e.srt\n",
            "a5be3cc1-0845-4902-ac2c-e5178f104a94.srt\n"
          ]
        },
        {
          "output_type": "stream",
          "name": "stderr",
          "text": [
            "\u001b[32m2024-06-12 11:24:24.302\u001b[0m | \u001b[1mINFO    \u001b[0m | \u001b[36m__main__\u001b[0m:\u001b[36mignite_video_processing\u001b[0m:\u001b[36m8\u001b[0m - \u001b[1mUsing target lagnuage code Russian\u001b[0m\n"
          ]
        },
        {
          "output_type": "stream",
          "name": "stdout",
          "text": [
            "Validating FFmpeg command for subtitle embedding...\n",
            "Translated SRT file: a5be3cc1-0845-4902-ac2c-e5178f104a94.srt\n",
            "82522617-cfd1-44a8-a69e-bf7f861b31e3.srt\n",
            "Validating FFmpeg command for subtitle embedding...\n",
            "Translated SRT file: 82522617-cfd1-44a8-a69e-bf7f861b31e3.srt\n"
          ]
        },
        {
          "output_type": "stream",
          "name": "stderr",
          "text": [
            "\u001b[32m2024-06-12 11:24:30.456\u001b[0m | \u001b[1mINFO    \u001b[0m | \u001b[36m__main__\u001b[0m:\u001b[36mignite_video_processing\u001b[0m:\u001b[36m8\u001b[0m - \u001b[1mUsing target lagnuage code Russian\u001b[0m\n"
          ]
        },
        {
          "output_type": "stream",
          "name": "stdout",
          "text": [
            "c0ba0ea4-ebae-4d49-a6c8-b2ff29d766cd.srt\n"
          ]
        },
        {
          "output_type": "stream",
          "name": "stderr",
          "text": [
            "\u001b[32m2024-06-12 11:24:30.956\u001b[0m | \u001b[1mINFO    \u001b[0m | \u001b[36m__main__\u001b[0m:\u001b[36mignite_video_processing\u001b[0m:\u001b[36m8\u001b[0m - \u001b[1mUsing target lagnuage code Russian\u001b[0m\n"
          ]
        },
        {
          "output_type": "stream",
          "name": "stdout",
          "text": [
            "Validating FFmpeg command for subtitle embedding...\n",
            "Translated SRT file: c0ba0ea4-ebae-4d49-a6c8-b2ff29d766cd.srt\n",
            "1d8b322f-4f21-4091-923c-56167d5a5a32.srt\n"
          ]
        },
        {
          "output_type": "stream",
          "name": "stderr",
          "text": [
            "\u001b[32m2024-06-12 11:24:34.379\u001b[0m | \u001b[1mINFO    \u001b[0m | \u001b[36m__main__\u001b[0m:\u001b[36mignite_video_processing\u001b[0m:\u001b[36m8\u001b[0m - \u001b[1mUsing target lagnuage code Russian\u001b[0m\n"
          ]
        },
        {
          "output_type": "stream",
          "name": "stdout",
          "text": [
            "Validating FFmpeg command for subtitle embedding...\n",
            "Translated SRT file: 1d8b322f-4f21-4091-923c-56167d5a5a32.srt\n",
            "424130c4-c523-46f2-af8d-02bd07502665.srt\n"
          ]
        },
        {
          "output_type": "stream",
          "name": "stderr",
          "text": [
            "\u001b[32m2024-06-12 11:24:36.089\u001b[0m | \u001b[1mINFO    \u001b[0m | \u001b[36m__main__\u001b[0m:\u001b[36mignite_video_processing\u001b[0m:\u001b[36m8\u001b[0m - \u001b[1mUsing target lagnuage code Russian\u001b[0m\n"
          ]
        },
        {
          "output_type": "stream",
          "name": "stdout",
          "text": [
            "Validating FFmpeg command for subtitle embedding...\n",
            "Translated SRT file: 424130c4-c523-46f2-af8d-02bd07502665.srt\n",
            "d4e2874e-5275-4c3f-8a5c-baf2df9c95ec.srt\n"
          ]
        },
        {
          "output_type": "stream",
          "name": "stderr",
          "text": [
            "\u001b[32m2024-06-12 11:24:39.993\u001b[0m | \u001b[1mINFO    \u001b[0m | \u001b[36m__main__\u001b[0m:\u001b[36mignite_video_processing\u001b[0m:\u001b[36m8\u001b[0m - \u001b[1mUsing target lagnuage code Russian\u001b[0m\n"
          ]
        },
        {
          "output_type": "stream",
          "name": "stdout",
          "text": [
            "Validating FFmpeg command for subtitle embedding...\n",
            "Translated SRT file: d4e2874e-5275-4c3f-8a5c-baf2df9c95ec.srt\n",
            "9616e680-7911-44a2-b4c3-b0b560e54bfe.srt\n"
          ]
        },
        {
          "output_type": "stream",
          "name": "stderr",
          "text": [
            "\u001b[32m2024-06-12 11:24:44.014\u001b[0m | \u001b[1mINFO    \u001b[0m | \u001b[36m__main__\u001b[0m:\u001b[36mignite_video_processing\u001b[0m:\u001b[36m8\u001b[0m - \u001b[1mUsing target lagnuage code Russian\u001b[0m\n"
          ]
        },
        {
          "output_type": "stream",
          "name": "stdout",
          "text": [
            "Validating FFmpeg command for subtitle embedding...\n",
            "Translated SRT file: 9616e680-7911-44a2-b4c3-b0b560e54bfe.srt\n",
            "4190a1c4-d58e-430b-a780-a98abe33a4d5.srt\n"
          ]
        },
        {
          "output_type": "stream",
          "name": "stderr",
          "text": [
            "\u001b[32m2024-06-12 11:24:54.080\u001b[0m | \u001b[1mINFO    \u001b[0m | \u001b[36m__main__\u001b[0m:\u001b[36mignite_video_processing\u001b[0m:\u001b[36m8\u001b[0m - \u001b[1mUsing target lagnuage code Russian\u001b[0m\n"
          ]
        },
        {
          "output_type": "stream",
          "name": "stdout",
          "text": [
            "Validating FFmpeg command for subtitle embedding...\n",
            "Translated SRT file: 4190a1c4-d58e-430b-a780-a98abe33a4d5.srt\n",
            "f2a9625d-be52-4338-95f1-2562dc10a172.srt\n"
          ]
        },
        {
          "output_type": "stream",
          "name": "stderr",
          "text": [
            "\u001b[32m2024-06-12 11:24:59.031\u001b[0m | \u001b[1mINFO    \u001b[0m | \u001b[36m__main__\u001b[0m:\u001b[36mignite_video_processing\u001b[0m:\u001b[36m8\u001b[0m - \u001b[1mUsing target lagnuage code Russian\u001b[0m\n"
          ]
        },
        {
          "output_type": "stream",
          "name": "stdout",
          "text": [
            "Validating FFmpeg command for subtitle embedding...\n",
            "Translated SRT file: f2a9625d-be52-4338-95f1-2562dc10a172.srt\n",
            "438794c3-e46b-4ecd-978c-4af3d3af7132.srt\n"
          ]
        },
        {
          "output_type": "stream",
          "name": "stderr",
          "text": [
            "\u001b[32m2024-06-12 11:25:06.232\u001b[0m | \u001b[1mINFO    \u001b[0m | \u001b[36m__main__\u001b[0m:\u001b[36mignite_video_processing\u001b[0m:\u001b[36m8\u001b[0m - \u001b[1mUsing target lagnuage code Russian\u001b[0m\n"
          ]
        },
        {
          "output_type": "stream",
          "name": "stdout",
          "text": [
            "Validating FFmpeg command for subtitle embedding...\n",
            "Translated SRT file: 438794c3-e46b-4ecd-978c-4af3d3af7132.srt\n",
            "b19b0024-5d46-43d5-893c-9c1980e304d8.srt\n"
          ]
        },
        {
          "output_type": "stream",
          "name": "stderr",
          "text": [
            "\u001b[32m2024-06-12 11:25:13.466\u001b[0m | \u001b[1mINFO    \u001b[0m | \u001b[36m__main__\u001b[0m:\u001b[36mignite_video_processing\u001b[0m:\u001b[36m8\u001b[0m - \u001b[1mUsing target lagnuage code Russian\u001b[0m\n"
          ]
        },
        {
          "output_type": "stream",
          "name": "stdout",
          "text": [
            "Validating FFmpeg command for subtitle embedding...\n",
            "Translated SRT file: b19b0024-5d46-43d5-893c-9c1980e304d8.srt\n",
            "3cc1a841-dd31-4030-9f40-17a01011712a.srt\n"
          ]
        },
        {
          "output_type": "stream",
          "name": "stderr",
          "text": [
            "\u001b[32m2024-06-12 11:25:18.501\u001b[0m | \u001b[1mINFO    \u001b[0m | \u001b[36m__main__\u001b[0m:\u001b[36mignite_video_processing\u001b[0m:\u001b[36m8\u001b[0m - \u001b[1mUsing target lagnuage code Russian\u001b[0m\n"
          ]
        },
        {
          "output_type": "stream",
          "name": "stdout",
          "text": [
            "Validating FFmpeg command for subtitle embedding...\n",
            "Translated SRT file: 3cc1a841-dd31-4030-9f40-17a01011712a.srt\n",
            "b12554b0-5f68-4c07-ae94-7f049ec25bc2.srt\n"
          ]
        },
        {
          "output_type": "stream",
          "name": "stderr",
          "text": [
            "\u001b[32m2024-06-12 11:25:23.801\u001b[0m | \u001b[1mINFO    \u001b[0m | \u001b[36m__main__\u001b[0m:\u001b[36mignite_video_processing\u001b[0m:\u001b[36m8\u001b[0m - \u001b[1mUsing target lagnuage code Russian\u001b[0m\n"
          ]
        },
        {
          "output_type": "stream",
          "name": "stdout",
          "text": [
            "Validating FFmpeg command for subtitle embedding...\n",
            "Translated SRT file: b12554b0-5f68-4c07-ae94-7f049ec25bc2.srt\n",
            "ced24d14-e55e-41ec-b69b-718ff7b0d1af.srt\n"
          ]
        },
        {
          "output_type": "stream",
          "name": "stderr",
          "text": [
            "\u001b[32m2024-06-12 11:25:25.446\u001b[0m | \u001b[1mINFO    \u001b[0m | \u001b[36m__main__\u001b[0m:\u001b[36mignite_video_processing\u001b[0m:\u001b[36m8\u001b[0m - \u001b[1mUsing target lagnuage code Russian\u001b[0m\n"
          ]
        },
        {
          "output_type": "stream",
          "name": "stdout",
          "text": [
            "Validating FFmpeg command for subtitle embedding...\n",
            "Translated SRT file: ced24d14-e55e-41ec-b69b-718ff7b0d1af.srt\n",
            "3c312961-36c4-4774-8753-192bb67ecd02.srt\n"
          ]
        },
        {
          "output_type": "stream",
          "name": "stderr",
          "text": [
            "\u001b[32m2024-06-12 11:25:27.046\u001b[0m | \u001b[1mINFO    \u001b[0m | \u001b[36m__main__\u001b[0m:\u001b[36mignite_video_processing\u001b[0m:\u001b[36m8\u001b[0m - \u001b[1mUsing target lagnuage code Russian\u001b[0m\n"
          ]
        },
        {
          "output_type": "stream",
          "name": "stdout",
          "text": [
            "Validating FFmpeg command for subtitle embedding...\n",
            "Translated SRT file: 3c312961-36c4-4774-8753-192bb67ecd02.srt\n",
            "efc9b412-9557-4eea-b6d7-c8772df6fc2c.srt\n"
          ]
        },
        {
          "output_type": "stream",
          "name": "stderr",
          "text": [
            "\u001b[32m2024-06-12 11:25:31.510\u001b[0m | \u001b[1mINFO    \u001b[0m | \u001b[36m__main__\u001b[0m:\u001b[36mignite_video_processing\u001b[0m:\u001b[36m8\u001b[0m - \u001b[1mUsing target lagnuage code Russian\u001b[0m\n"
          ]
        },
        {
          "output_type": "stream",
          "name": "stdout",
          "text": [
            "Validating FFmpeg command for subtitle embedding...\n",
            "Translated SRT file: efc9b412-9557-4eea-b6d7-c8772df6fc2c.srt\n",
            "57bba477-7617-4f1a-90d4-b5a74bc2a380.srt\n"
          ]
        },
        {
          "output_type": "stream",
          "name": "stderr",
          "text": [
            "\u001b[32m2024-06-12 11:25:32.824\u001b[0m | \u001b[1mINFO    \u001b[0m | \u001b[36m__main__\u001b[0m:\u001b[36mignite_video_processing\u001b[0m:\u001b[36m8\u001b[0m - \u001b[1mUsing target lagnuage code Russian\u001b[0m\n"
          ]
        },
        {
          "output_type": "stream",
          "name": "stdout",
          "text": [
            "Validating FFmpeg command for subtitle embedding...\n",
            "Translated SRT file: 57bba477-7617-4f1a-90d4-b5a74bc2a380.srt\n",
            "0e139cfc-e7a8-4cb6-bb80-3a1392a8aa82.srt\n",
            "Validating FFmpeg command for subtitle embedding...\n",
            "Translated SRT file: 0e139cfc-e7a8-4cb6-bb80-3a1392a8aa82.srt\n"
          ]
        },
        {
          "output_type": "stream",
          "name": "stderr",
          "text": [
            "\u001b[32m2024-06-12 11:25:53.004\u001b[0m | \u001b[1mINFO    \u001b[0m | \u001b[36m__main__\u001b[0m:\u001b[36mignite_video_processing\u001b[0m:\u001b[36m8\u001b[0m - \u001b[1mUsing target lagnuage code Russian\u001b[0m\n"
          ]
        },
        {
          "output_type": "stream",
          "name": "stdout",
          "text": [
            "7bf431e6-759b-48f4-bc35-cb44404a8651.srt\n"
          ]
        },
        {
          "output_type": "stream",
          "name": "stderr",
          "text": [
            "\u001b[32m2024-06-12 11:26:00.258\u001b[0m | \u001b[1mINFO    \u001b[0m | \u001b[36m__main__\u001b[0m:\u001b[36mignite_video_processing\u001b[0m:\u001b[36m8\u001b[0m - \u001b[1mUsing target lagnuage code Russian\u001b[0m\n"
          ]
        },
        {
          "output_type": "stream",
          "name": "stdout",
          "text": [
            "Validating FFmpeg command for subtitle embedding...\n",
            "Translated SRT file: 7bf431e6-759b-48f4-bc35-cb44404a8651.srt\n",
            "804fb2d5-d2b3-442b-9a78-68595a302c29.srt\n"
          ]
        },
        {
          "output_type": "stream",
          "name": "stderr",
          "text": [
            "\u001b[32m2024-06-12 11:26:05.613\u001b[0m | \u001b[1mINFO    \u001b[0m | \u001b[36m__main__\u001b[0m:\u001b[36mignite_video_processing\u001b[0m:\u001b[36m8\u001b[0m - \u001b[1mUsing target lagnuage code Russian\u001b[0m\n"
          ]
        },
        {
          "output_type": "stream",
          "name": "stdout",
          "text": [
            "Validating FFmpeg command for subtitle embedding...\n",
            "Translated SRT file: 804fb2d5-d2b3-442b-9a78-68595a302c29.srt\n",
            "65149317-74bc-4f9e-bfcc-55377ce07e77.srt\n"
          ]
        },
        {
          "output_type": "stream",
          "name": "stderr",
          "text": [
            "\u001b[32m2024-06-12 11:26:06.574\u001b[0m | \u001b[1mINFO    \u001b[0m | \u001b[36m__main__\u001b[0m:\u001b[36mignite_video_processing\u001b[0m:\u001b[36m8\u001b[0m - \u001b[1mUsing target lagnuage code Russian\u001b[0m\n"
          ]
        },
        {
          "output_type": "stream",
          "name": "stdout",
          "text": [
            "Validating FFmpeg command for subtitle embedding...\n",
            "Translated SRT file: 65149317-74bc-4f9e-bfcc-55377ce07e77.srt\n",
            "73c1e368-13a8-467d-8914-8e5ac0ec8698.srt\n"
          ]
        },
        {
          "output_type": "stream",
          "name": "stderr",
          "text": [
            "\u001b[32m2024-06-12 11:26:09.475\u001b[0m | \u001b[1mINFO    \u001b[0m | \u001b[36m__main__\u001b[0m:\u001b[36mignite_video_processing\u001b[0m:\u001b[36m8\u001b[0m - \u001b[1mUsing target lagnuage code Russian\u001b[0m\n"
          ]
        },
        {
          "output_type": "stream",
          "name": "stdout",
          "text": [
            "Validating FFmpeg command for subtitle embedding...\n",
            "Translated SRT file: 73c1e368-13a8-467d-8914-8e5ac0ec8698.srt\n",
            "4c023a88-ca24-4ead-a526-a7bbae676224.srt\n"
          ]
        },
        {
          "output_type": "stream",
          "name": "stderr",
          "text": [
            "\u001b[32m2024-06-12 11:26:16.225\u001b[0m | \u001b[1mINFO    \u001b[0m | \u001b[36m__main__\u001b[0m:\u001b[36mignite_video_processing\u001b[0m:\u001b[36m8\u001b[0m - \u001b[1mUsing target lagnuage code Russian\u001b[0m\n"
          ]
        },
        {
          "output_type": "stream",
          "name": "stdout",
          "text": [
            "Validating FFmpeg command for subtitle embedding...\n",
            "Translated SRT file: 4c023a88-ca24-4ead-a526-a7bbae676224.srt\n",
            "e3798b12-64a8-40ff-b229-c467bd4e82c1.srt\n"
          ]
        },
        {
          "output_type": "stream",
          "name": "stderr",
          "text": [
            "\u001b[32m2024-06-12 11:26:22.806\u001b[0m | \u001b[1mINFO    \u001b[0m | \u001b[36m__main__\u001b[0m:\u001b[36mignite_video_processing\u001b[0m:\u001b[36m8\u001b[0m - \u001b[1mUsing target lagnuage code Russian\u001b[0m\n"
          ]
        },
        {
          "output_type": "stream",
          "name": "stdout",
          "text": [
            "Validating FFmpeg command for subtitle embedding...\n",
            "Translated SRT file: e3798b12-64a8-40ff-b229-c467bd4e82c1.srt\n",
            "a31f190e-9af4-4a88-bafe-f9387cc6f5c7.srt\n"
          ]
        },
        {
          "output_type": "stream",
          "name": "stderr",
          "text": [
            "\u001b[32m2024-06-12 11:26:23.403\u001b[0m | \u001b[1mINFO    \u001b[0m | \u001b[36m__main__\u001b[0m:\u001b[36mignite_video_processing\u001b[0m:\u001b[36m8\u001b[0m - \u001b[1mUsing target lagnuage code Russian\u001b[0m\n"
          ]
        },
        {
          "output_type": "stream",
          "name": "stdout",
          "text": [
            "Validating FFmpeg command for subtitle embedding...\n",
            "Translated SRT file: a31f190e-9af4-4a88-bafe-f9387cc6f5c7.srt\n",
            "81cea65a-f0b5-45ca-a553-81e350f28df5.srt\n"
          ]
        },
        {
          "output_type": "stream",
          "name": "stderr",
          "text": [
            "\u001b[32m2024-06-12 11:26:26.356\u001b[0m | \u001b[1mINFO    \u001b[0m | \u001b[36m__main__\u001b[0m:\u001b[36mignite_video_processing\u001b[0m:\u001b[36m8\u001b[0m - \u001b[1mUsing target lagnuage code Russian\u001b[0m\n"
          ]
        },
        {
          "output_type": "stream",
          "name": "stdout",
          "text": [
            "Validating FFmpeg command for subtitle embedding...\n",
            "Translated SRT file: 81cea65a-f0b5-45ca-a553-81e350f28df5.srt\n",
            "aefbfae2-d498-45a9-90fa-58080b50aae6.srt\n"
          ]
        },
        {
          "output_type": "stream",
          "name": "stderr",
          "text": [
            "\u001b[32m2024-06-12 11:26:27.736\u001b[0m | \u001b[1mINFO    \u001b[0m | \u001b[36m__main__\u001b[0m:\u001b[36mignite_video_processing\u001b[0m:\u001b[36m8\u001b[0m - \u001b[1mUsing target lagnuage code Russian\u001b[0m\n"
          ]
        },
        {
          "output_type": "stream",
          "name": "stdout",
          "text": [
            "Validating FFmpeg command for subtitle embedding...\n",
            "Translated SRT file: aefbfae2-d498-45a9-90fa-58080b50aae6.srt\n",
            "90c37418-01b2-42f4-8b89-01e9ad5a8b9d.srt\n"
          ]
        },
        {
          "output_type": "stream",
          "name": "stderr",
          "text": [
            "\u001b[32m2024-06-12 11:26:32.433\u001b[0m | \u001b[1mINFO    \u001b[0m | \u001b[36m__main__\u001b[0m:\u001b[36mignite_video_processing\u001b[0m:\u001b[36m8\u001b[0m - \u001b[1mUsing target lagnuage code Russian\u001b[0m\n"
          ]
        },
        {
          "output_type": "stream",
          "name": "stdout",
          "text": [
            "Validating FFmpeg command for subtitle embedding...\n",
            "Translated SRT file: 90c37418-01b2-42f4-8b89-01e9ad5a8b9d.srt\n",
            "59f87a69-9d12-45a2-b613-b4ca04312a61.srt\n"
          ]
        },
        {
          "output_type": "stream",
          "name": "stderr",
          "text": [
            "\u001b[32m2024-06-12 11:26:39.070\u001b[0m | \u001b[1mINFO    \u001b[0m | \u001b[36m__main__\u001b[0m:\u001b[36mignite_video_processing\u001b[0m:\u001b[36m8\u001b[0m - \u001b[1mUsing target lagnuage code Russian\u001b[0m\n"
          ]
        },
        {
          "output_type": "stream",
          "name": "stdout",
          "text": [
            "Validating FFmpeg command for subtitle embedding...\n",
            "Translated SRT file: 59f87a69-9d12-45a2-b613-b4ca04312a61.srt\n",
            "f88666cd-c998-45dd-967f-5c685e23126b.srt\n"
          ]
        },
        {
          "output_type": "stream",
          "name": "stderr",
          "text": [
            "\u001b[32m2024-06-12 11:26:41.647\u001b[0m | \u001b[1mINFO    \u001b[0m | \u001b[36m__main__\u001b[0m:\u001b[36mignite_video_processing\u001b[0m:\u001b[36m8\u001b[0m - \u001b[1mUsing target lagnuage code Russian\u001b[0m\n"
          ]
        },
        {
          "output_type": "stream",
          "name": "stdout",
          "text": [
            "Validating FFmpeg command for subtitle embedding...\n",
            "Translated SRT file: f88666cd-c998-45dd-967f-5c685e23126b.srt\n",
            "81259dd5-93bb-49a4-aedf-0bd6b74a432d.srt\n"
          ]
        },
        {
          "output_type": "stream",
          "name": "stderr",
          "text": [
            "\u001b[32m2024-06-12 11:26:42.578\u001b[0m | \u001b[1mINFO    \u001b[0m | \u001b[36m__main__\u001b[0m:\u001b[36mignite_video_processing\u001b[0m:\u001b[36m8\u001b[0m - \u001b[1mUsing target lagnuage code Russian\u001b[0m\n"
          ]
        },
        {
          "output_type": "stream",
          "name": "stdout",
          "text": [
            "Validating FFmpeg command for subtitle embedding...\n",
            "Translated SRT file: 81259dd5-93bb-49a4-aedf-0bd6b74a432d.srt\n",
            "95d7dcb5-533e-4ba5-9773-1c88e0edf5ae.srt\n"
          ]
        },
        {
          "output_type": "stream",
          "name": "stderr",
          "text": [
            "\u001b[32m2024-06-12 11:26:45.640\u001b[0m | \u001b[1mINFO    \u001b[0m | \u001b[36m__main__\u001b[0m:\u001b[36mignite_video_processing\u001b[0m:\u001b[36m8\u001b[0m - \u001b[1mUsing target lagnuage code Russian\u001b[0m\n"
          ]
        },
        {
          "output_type": "stream",
          "name": "stdout",
          "text": [
            "Validating FFmpeg command for subtitle embedding...\n",
            "Translated SRT file: 95d7dcb5-533e-4ba5-9773-1c88e0edf5ae.srt\n",
            "4c61330f-f9e5-4372-a7b7-b34fa497e7b5.srt\n"
          ]
        },
        {
          "output_type": "stream",
          "name": "stderr",
          "text": [
            "\u001b[32m2024-06-12 11:26:46.283\u001b[0m | \u001b[1mINFO    \u001b[0m | \u001b[36m__main__\u001b[0m:\u001b[36mignite_video_processing\u001b[0m:\u001b[36m8\u001b[0m - \u001b[1mUsing target lagnuage code Russian\u001b[0m\n"
          ]
        },
        {
          "output_type": "stream",
          "name": "stdout",
          "text": [
            "Validating FFmpeg command for subtitle embedding...\n",
            "Translated SRT file: 4c61330f-f9e5-4372-a7b7-b34fa497e7b5.srt\n",
            "c74ffb44-cebc-4844-96a0-de4aff12b14a.srt\n",
            "Validating FFmpeg command for subtitle embedding...\n",
            "Translated SRT file: c74ffb44-cebc-4844-96a0-de4aff12b14a.srt\n"
          ]
        },
        {
          "output_type": "stream",
          "name": "stderr",
          "text": [
            "\u001b[32m2024-06-12 11:26:52.364\u001b[0m | \u001b[1mINFO    \u001b[0m | \u001b[36m__main__\u001b[0m:\u001b[36mignite_video_processing\u001b[0m:\u001b[36m8\u001b[0m - \u001b[1mUsing target lagnuage code Russian\u001b[0m\n"
          ]
        },
        {
          "output_type": "stream",
          "name": "stdout",
          "text": [
            "3d0e330b-33e1-407e-a217-b85cce8182f1.srt\n"
          ]
        },
        {
          "output_type": "stream",
          "name": "stderr",
          "text": [
            "\u001b[32m2024-06-12 11:26:53.344\u001b[0m | \u001b[1mINFO    \u001b[0m | \u001b[36m__main__\u001b[0m:\u001b[36mignite_video_processing\u001b[0m:\u001b[36m8\u001b[0m - \u001b[1mUsing target lagnuage code Russian\u001b[0m\n"
          ]
        },
        {
          "output_type": "stream",
          "name": "stdout",
          "text": [
            "Validating FFmpeg command for subtitle embedding...\n",
            "Translated SRT file: 3d0e330b-33e1-407e-a217-b85cce8182f1.srt\n",
            "088d858c-de32-4b7c-9f25-b664d204d565.srt\n"
          ]
        },
        {
          "output_type": "stream",
          "name": "stderr",
          "text": [
            "\u001b[32m2024-06-12 11:26:57.012\u001b[0m | \u001b[1mINFO    \u001b[0m | \u001b[36m__main__\u001b[0m:\u001b[36mignite_video_processing\u001b[0m:\u001b[36m8\u001b[0m - \u001b[1mUsing target lagnuage code Russian\u001b[0m\n"
          ]
        },
        {
          "output_type": "stream",
          "name": "stdout",
          "text": [
            "Validating FFmpeg command for subtitle embedding...\n",
            "Translated SRT file: 088d858c-de32-4b7c-9f25-b664d204d565.srt\n",
            "133118a1-537e-4663-89b2-e54b3a7db3aa.srt\n"
          ]
        },
        {
          "output_type": "stream",
          "name": "stderr",
          "text": [
            "\u001b[32m2024-06-12 11:26:59.745\u001b[0m | \u001b[1mINFO    \u001b[0m | \u001b[36m__main__\u001b[0m:\u001b[36mignite_video_processing\u001b[0m:\u001b[36m8\u001b[0m - \u001b[1mUsing target lagnuage code Russian\u001b[0m\n"
          ]
        },
        {
          "output_type": "stream",
          "name": "stdout",
          "text": [
            "Validating FFmpeg command for subtitle embedding...\n",
            "Translated SRT file: 133118a1-537e-4663-89b2-e54b3a7db3aa.srt\n",
            "69605fc1-deb4-49a4-8771-e0509d6e1979.srt\n"
          ]
        },
        {
          "output_type": "stream",
          "name": "stderr",
          "text": [
            "\u001b[32m2024-06-12 11:27:05.729\u001b[0m | \u001b[1mINFO    \u001b[0m | \u001b[36m__main__\u001b[0m:\u001b[36mignite_video_processing\u001b[0m:\u001b[36m8\u001b[0m - \u001b[1mUsing target lagnuage code Russian\u001b[0m\n"
          ]
        },
        {
          "output_type": "stream",
          "name": "stdout",
          "text": [
            "Validating FFmpeg command for subtitle embedding...\n",
            "Translated SRT file: 69605fc1-deb4-49a4-8771-e0509d6e1979.srt\n",
            "8260c5a7-3e4c-47a7-a0d8-6cac31dc96b0.srt\n"
          ]
        },
        {
          "output_type": "stream",
          "name": "stderr",
          "text": [
            "\u001b[32m2024-06-12 11:27:07.012\u001b[0m | \u001b[1mINFO    \u001b[0m | \u001b[36m__main__\u001b[0m:\u001b[36mignite_video_processing\u001b[0m:\u001b[36m8\u001b[0m - \u001b[1mUsing target lagnuage code Russian\u001b[0m\n"
          ]
        },
        {
          "output_type": "stream",
          "name": "stdout",
          "text": [
            "Validating FFmpeg command for subtitle embedding...\n",
            "Translated SRT file: 8260c5a7-3e4c-47a7-a0d8-6cac31dc96b0.srt\n",
            "6cbc0907-a00f-475f-91db-e1b112259258.srt\n"
          ]
        },
        {
          "output_type": "stream",
          "name": "stderr",
          "text": [
            "\u001b[32m2024-06-12 11:27:12.850\u001b[0m | \u001b[1mINFO    \u001b[0m | \u001b[36m__main__\u001b[0m:\u001b[36mignite_video_processing\u001b[0m:\u001b[36m8\u001b[0m - \u001b[1mUsing target lagnuage code Russian\u001b[0m\n"
          ]
        },
        {
          "output_type": "stream",
          "name": "stdout",
          "text": [
            "Validating FFmpeg command for subtitle embedding...\n",
            "Translated SRT file: 6cbc0907-a00f-475f-91db-e1b112259258.srt\n",
            "ddfe0213-32e2-4699-a009-1b4dd380ed07.srt\n"
          ]
        },
        {
          "output_type": "stream",
          "name": "stderr",
          "text": [
            "\u001b[32m2024-06-12 11:27:18.640\u001b[0m | \u001b[1mINFO    \u001b[0m | \u001b[36m__main__\u001b[0m:\u001b[36mignite_video_processing\u001b[0m:\u001b[36m8\u001b[0m - \u001b[1mUsing target lagnuage code Russian\u001b[0m\n"
          ]
        },
        {
          "output_type": "stream",
          "name": "stdout",
          "text": [
            "Validating FFmpeg command for subtitle embedding...\n",
            "Translated SRT file: ddfe0213-32e2-4699-a009-1b4dd380ed07.srt\n",
            "3f4ef4dd-579d-45b2-b866-b0abf9597b60.srt\n"
          ]
        },
        {
          "output_type": "stream",
          "name": "stderr",
          "text": [
            "\u001b[32m2024-06-12 11:27:19.668\u001b[0m | \u001b[1mINFO    \u001b[0m | \u001b[36m__main__\u001b[0m:\u001b[36mignite_video_processing\u001b[0m:\u001b[36m8\u001b[0m - \u001b[1mUsing target lagnuage code Russian\u001b[0m\n"
          ]
        },
        {
          "output_type": "stream",
          "name": "stdout",
          "text": [
            "Validating FFmpeg command for subtitle embedding...\n",
            "Translated SRT file: 3f4ef4dd-579d-45b2-b866-b0abf9597b60.srt\n",
            "ca039be7-03d4-4c82-a3cd-b904f2a9eb6a.srt\n"
          ]
        },
        {
          "output_type": "stream",
          "name": "stderr",
          "text": [
            "\u001b[32m2024-06-12 11:27:26.712\u001b[0m | \u001b[1mINFO    \u001b[0m | \u001b[36m__main__\u001b[0m:\u001b[36mignite_video_processing\u001b[0m:\u001b[36m8\u001b[0m - \u001b[1mUsing target lagnuage code Russian\u001b[0m\n"
          ]
        },
        {
          "output_type": "stream",
          "name": "stdout",
          "text": [
            "Validating FFmpeg command for subtitle embedding...\n",
            "Translated SRT file: ca039be7-03d4-4c82-a3cd-b904f2a9eb6a.srt\n",
            "b64ab238-d27f-4b95-a619-ea8b538fe1b8.srt\n"
          ]
        },
        {
          "output_type": "stream",
          "name": "stderr",
          "text": [
            "\u001b[32m2024-06-12 11:27:31.257\u001b[0m | \u001b[1mINFO    \u001b[0m | \u001b[36m__main__\u001b[0m:\u001b[36mignite_video_processing\u001b[0m:\u001b[36m8\u001b[0m - \u001b[1mUsing target lagnuage code Russian\u001b[0m\n"
          ]
        },
        {
          "output_type": "stream",
          "name": "stdout",
          "text": [
            "Validating FFmpeg command for subtitle embedding...\n",
            "Translated SRT file: b64ab238-d27f-4b95-a619-ea8b538fe1b8.srt\n",
            "b981ccea-8148-4e34-a55c-17dfc9456f1f.srt\n"
          ]
        },
        {
          "output_type": "stream",
          "name": "stderr",
          "text": [
            "\u001b[32m2024-06-12 11:27:32.835\u001b[0m | \u001b[1mINFO    \u001b[0m | \u001b[36m__main__\u001b[0m:\u001b[36mignite_video_processing\u001b[0m:\u001b[36m8\u001b[0m - \u001b[1mUsing target lagnuage code Russian\u001b[0m\n"
          ]
        },
        {
          "output_type": "stream",
          "name": "stdout",
          "text": [
            "Validating FFmpeg command for subtitle embedding...\n",
            "Translated SRT file: b981ccea-8148-4e34-a55c-17dfc9456f1f.srt\n",
            "08cba246-f006-4e2a-b3b9-adfd801a642b.srt\n"
          ]
        },
        {
          "output_type": "stream",
          "name": "stderr",
          "text": [
            "\u001b[32m2024-06-12 11:27:35.198\u001b[0m | \u001b[1mINFO    \u001b[0m | \u001b[36m__main__\u001b[0m:\u001b[36mignite_video_processing\u001b[0m:\u001b[36m8\u001b[0m - \u001b[1mUsing target lagnuage code Russian\u001b[0m\n"
          ]
        },
        {
          "output_type": "stream",
          "name": "stdout",
          "text": [
            "Validating FFmpeg command for subtitle embedding...\n",
            "Translated SRT file: 08cba246-f006-4e2a-b3b9-adfd801a642b.srt\n",
            "45ecfa3e-ef25-4c77-b9bf-ab7ef49d80f0.srt\n"
          ]
        },
        {
          "output_type": "stream",
          "name": "stderr",
          "text": [
            "\u001b[32m2024-06-12 11:27:41.304\u001b[0m | \u001b[1mINFO    \u001b[0m | \u001b[36m__main__\u001b[0m:\u001b[36mignite_video_processing\u001b[0m:\u001b[36m8\u001b[0m - \u001b[1mUsing target lagnuage code Russian\u001b[0m\n"
          ]
        },
        {
          "output_type": "stream",
          "name": "stdout",
          "text": [
            "Validating FFmpeg command for subtitle embedding...\n",
            "Translated SRT file: 45ecfa3e-ef25-4c77-b9bf-ab7ef49d80f0.srt\n",
            "812bf138-46f4-43c2-86f7-cb098098e23e.srt\n"
          ]
        },
        {
          "output_type": "stream",
          "name": "stderr",
          "text": [
            "\u001b[32m2024-06-12 11:27:42.116\u001b[0m | \u001b[1mINFO    \u001b[0m | \u001b[36m__main__\u001b[0m:\u001b[36mignite_video_processing\u001b[0m:\u001b[36m8\u001b[0m - \u001b[1mUsing target lagnuage code Russian\u001b[0m\n"
          ]
        },
        {
          "output_type": "stream",
          "name": "stdout",
          "text": [
            "Validating FFmpeg command for subtitle embedding...\n",
            "Translated SRT file: 812bf138-46f4-43c2-86f7-cb098098e23e.srt\n",
            "9b15b7b7-7c19-4615-84d4-ecfa80714505.srt\n"
          ]
        },
        {
          "output_type": "stream",
          "name": "stderr",
          "text": [
            "\u001b[32m2024-06-12 11:27:43.820\u001b[0m | \u001b[1mINFO    \u001b[0m | \u001b[36m__main__\u001b[0m:\u001b[36mignite_video_processing\u001b[0m:\u001b[36m8\u001b[0m - \u001b[1mUsing target lagnuage code Russian\u001b[0m\n"
          ]
        },
        {
          "output_type": "stream",
          "name": "stdout",
          "text": [
            "Validating FFmpeg command for subtitle embedding...\n",
            "Translated SRT file: 9b15b7b7-7c19-4615-84d4-ecfa80714505.srt\n",
            "652d3be7-7184-4fd3-b2de-3fe0ddca70df.srt\n",
            "Validating FFmpeg command for subtitle embedding...\n",
            "Translated SRT file: 652d3be7-7184-4fd3-b2de-3fe0ddca70df.srt\n"
          ]
        },
        {
          "output_type": "stream",
          "name": "stderr",
          "text": [
            "\u001b[32m2024-06-12 11:27:54.157\u001b[0m | \u001b[1mINFO    \u001b[0m | \u001b[36m__main__\u001b[0m:\u001b[36mignite_video_processing\u001b[0m:\u001b[36m8\u001b[0m - \u001b[1mUsing target lagnuage code Russian\u001b[0m\n"
          ]
        },
        {
          "output_type": "stream",
          "name": "stdout",
          "text": [
            "ed801462-086f-4c89-b787-a4b44f600a6e.srt\n"
          ]
        },
        {
          "output_type": "stream",
          "name": "stderr",
          "text": [
            "\u001b[32m2024-06-12 11:27:56.182\u001b[0m | \u001b[1mINFO    \u001b[0m | \u001b[36m__main__\u001b[0m:\u001b[36mignite_video_processing\u001b[0m:\u001b[36m8\u001b[0m - \u001b[1mUsing target lagnuage code Russian\u001b[0m\n"
          ]
        },
        {
          "output_type": "stream",
          "name": "stdout",
          "text": [
            "Validating FFmpeg command for subtitle embedding...\n",
            "Translated SRT file: ed801462-086f-4c89-b787-a4b44f600a6e.srt\n",
            "6706d00c-517e-4fd2-9d3f-33ef8f44b3bf.srt\n"
          ]
        },
        {
          "output_type": "stream",
          "name": "stderr",
          "text": [
            "\u001b[32m2024-06-12 11:28:05.374\u001b[0m | \u001b[1mINFO    \u001b[0m | \u001b[36m__main__\u001b[0m:\u001b[36mignite_video_processing\u001b[0m:\u001b[36m8\u001b[0m - \u001b[1mUsing target lagnuage code Russian\u001b[0m\n"
          ]
        },
        {
          "output_type": "stream",
          "name": "stdout",
          "text": [
            "Validating FFmpeg command for subtitle embedding...\n",
            "Translated SRT file: 6706d00c-517e-4fd2-9d3f-33ef8f44b3bf.srt\n",
            "7abc64c1-aee9-48ae-8282-b701e94485ab.srt\n"
          ]
        },
        {
          "output_type": "stream",
          "name": "stderr",
          "text": [
            "\u001b[32m2024-06-12 11:28:06.123\u001b[0m | \u001b[1mINFO    \u001b[0m | \u001b[36m__main__\u001b[0m:\u001b[36mignite_video_processing\u001b[0m:\u001b[36m8\u001b[0m - \u001b[1mUsing target lagnuage code Russian\u001b[0m\n"
          ]
        },
        {
          "output_type": "stream",
          "name": "stdout",
          "text": [
            "Validating FFmpeg command for subtitle embedding...\n",
            "Translated SRT file: 7abc64c1-aee9-48ae-8282-b701e94485ab.srt\n",
            "e2fbd6ab-4da9-4666-90e0-5f55d53d3f24.srt\n"
          ]
        },
        {
          "output_type": "stream",
          "name": "stderr",
          "text": [
            "\u001b[32m2024-06-12 11:28:10.396\u001b[0m | \u001b[1mINFO    \u001b[0m | \u001b[36m__main__\u001b[0m:\u001b[36mignite_video_processing\u001b[0m:\u001b[36m8\u001b[0m - \u001b[1mUsing target lagnuage code Russian\u001b[0m\n"
          ]
        },
        {
          "output_type": "stream",
          "name": "stdout",
          "text": [
            "Validating FFmpeg command for subtitle embedding...\n",
            "Translated SRT file: e2fbd6ab-4da9-4666-90e0-5f55d53d3f24.srt\n",
            "b9ef3c76-3906-42f5-97d6-4a2f32f4108a.srt\n"
          ]
        },
        {
          "output_type": "stream",
          "name": "stderr",
          "text": [
            "\u001b[32m2024-06-12 11:28:17.075\u001b[0m | \u001b[1mINFO    \u001b[0m | \u001b[36m__main__\u001b[0m:\u001b[36mignite_video_processing\u001b[0m:\u001b[36m8\u001b[0m - \u001b[1mUsing target lagnuage code Russian\u001b[0m\n"
          ]
        },
        {
          "output_type": "stream",
          "name": "stdout",
          "text": [
            "Validating FFmpeg command for subtitle embedding...\n",
            "Translated SRT file: b9ef3c76-3906-42f5-97d6-4a2f32f4108a.srt\n",
            "c035bc56-3bef-404d-acc1-d997023913ff.srt\n"
          ]
        },
        {
          "output_type": "stream",
          "name": "stderr",
          "text": [
            "\u001b[32m2024-06-12 11:28:22.423\u001b[0m | \u001b[1mINFO    \u001b[0m | \u001b[36m__main__\u001b[0m:\u001b[36mignite_video_processing\u001b[0m:\u001b[36m8\u001b[0m - \u001b[1mUsing target lagnuage code Russian\u001b[0m\n"
          ]
        },
        {
          "output_type": "stream",
          "name": "stdout",
          "text": [
            "Validating FFmpeg command for subtitle embedding...\n",
            "Translated SRT file: c035bc56-3bef-404d-acc1-d997023913ff.srt\n",
            "74bcf5ec-a5d4-432c-964e-c5c03ade18e4.srt\n"
          ]
        },
        {
          "output_type": "stream",
          "name": "stderr",
          "text": [
            "\u001b[32m2024-06-12 11:28:25.475\u001b[0m | \u001b[1mINFO    \u001b[0m | \u001b[36m__main__\u001b[0m:\u001b[36mignite_video_processing\u001b[0m:\u001b[36m8\u001b[0m - \u001b[1mUsing target lagnuage code Russian\u001b[0m\n"
          ]
        },
        {
          "output_type": "stream",
          "name": "stdout",
          "text": [
            "Validating FFmpeg command for subtitle embedding...\n",
            "Translated SRT file: 74bcf5ec-a5d4-432c-964e-c5c03ade18e4.srt\n",
            "04e5772a-adc7-4190-8df9-cbe56b8ced5e.srt\n"
          ]
        },
        {
          "output_type": "stream",
          "name": "stderr",
          "text": [
            "\u001b[32m2024-06-12 11:28:26.008\u001b[0m | \u001b[1mINFO    \u001b[0m | \u001b[36m__main__\u001b[0m:\u001b[36mignite_video_processing\u001b[0m:\u001b[36m8\u001b[0m - \u001b[1mUsing target lagnuage code Russian\u001b[0m\n"
          ]
        },
        {
          "output_type": "stream",
          "name": "stdout",
          "text": [
            "Validating FFmpeg command for subtitle embedding...\n",
            "Translated SRT file: 04e5772a-adc7-4190-8df9-cbe56b8ced5e.srt\n",
            "62c67ffb-54c7-40ea-b890-54cea9ad9c63.srt\n"
          ]
        },
        {
          "output_type": "stream",
          "name": "stderr",
          "text": [
            "\u001b[32m2024-06-12 11:28:26.795\u001b[0m | \u001b[1mINFO    \u001b[0m | \u001b[36m__main__\u001b[0m:\u001b[36mignite_video_processing\u001b[0m:\u001b[36m8\u001b[0m - \u001b[1mUsing target lagnuage code Russian\u001b[0m\n"
          ]
        },
        {
          "output_type": "stream",
          "name": "stdout",
          "text": [
            "Validating FFmpeg command for subtitle embedding...\n",
            "Translated SRT file: 62c67ffb-54c7-40ea-b890-54cea9ad9c63.srt\n",
            "0aa5d647-41fd-4a45-8480-3d7bfb1cdcab.srt\n"
          ]
        },
        {
          "output_type": "stream",
          "name": "stderr",
          "text": [
            "\u001b[32m2024-06-12 11:28:28.636\u001b[0m | \u001b[1mINFO    \u001b[0m | \u001b[36m__main__\u001b[0m:\u001b[36mignite_video_processing\u001b[0m:\u001b[36m8\u001b[0m - \u001b[1mUsing target lagnuage code Russian\u001b[0m\n"
          ]
        },
        {
          "output_type": "stream",
          "name": "stdout",
          "text": [
            "Validating FFmpeg command for subtitle embedding...\n",
            "Translated SRT file: 0aa5d647-41fd-4a45-8480-3d7bfb1cdcab.srt\n",
            "b076ad02-3dd0-414d-ba9e-0847dc898eea.srt\n"
          ]
        },
        {
          "output_type": "stream",
          "name": "stderr",
          "text": [
            "\u001b[32m2024-06-12 11:28:30.386\u001b[0m | \u001b[1mINFO    \u001b[0m | \u001b[36m__main__\u001b[0m:\u001b[36mignite_video_processing\u001b[0m:\u001b[36m8\u001b[0m - \u001b[1mUsing target lagnuage code Russian\u001b[0m\n"
          ]
        },
        {
          "output_type": "stream",
          "name": "stdout",
          "text": [
            "Validating FFmpeg command for subtitle embedding...\n",
            "Translated SRT file: b076ad02-3dd0-414d-ba9e-0847dc898eea.srt\n",
            "6b02514d-5208-4f5c-a099-bbe9b693d9c2.srt\n"
          ]
        },
        {
          "output_type": "stream",
          "name": "stderr",
          "text": [
            "\u001b[32m2024-06-12 11:28:30.882\u001b[0m | \u001b[1mINFO    \u001b[0m | \u001b[36m__main__\u001b[0m:\u001b[36mignite_video_processing\u001b[0m:\u001b[36m8\u001b[0m - \u001b[1mUsing target lagnuage code Russian\u001b[0m\n"
          ]
        },
        {
          "output_type": "stream",
          "name": "stdout",
          "text": [
            "Validating FFmpeg command for subtitle embedding...\n",
            "Translated SRT file: 6b02514d-5208-4f5c-a099-bbe9b693d9c2.srt\n",
            "2c8bf5c5-f707-4737-8a32-11c0ae256a3d.srt\n"
          ]
        },
        {
          "output_type": "stream",
          "name": "stderr",
          "text": [
            "\u001b[32m2024-06-12 11:28:35.447\u001b[0m | \u001b[1mINFO    \u001b[0m | \u001b[36m__main__\u001b[0m:\u001b[36mignite_video_processing\u001b[0m:\u001b[36m8\u001b[0m - \u001b[1mUsing target lagnuage code Russian\u001b[0m\n"
          ]
        },
        {
          "output_type": "stream",
          "name": "stdout",
          "text": [
            "Validating FFmpeg command for subtitle embedding...\n",
            "Translated SRT file: 2c8bf5c5-f707-4737-8a32-11c0ae256a3d.srt\n",
            "f872cd37-7fec-4313-8b91-e8080e1c7266.srt\n"
          ]
        },
        {
          "output_type": "stream",
          "name": "stderr",
          "text": [
            "\u001b[32m2024-06-12 11:28:41.528\u001b[0m | \u001b[1mINFO    \u001b[0m | \u001b[36m__main__\u001b[0m:\u001b[36mignite_video_processing\u001b[0m:\u001b[36m8\u001b[0m - \u001b[1mUsing target lagnuage code Russian\u001b[0m\n"
          ]
        },
        {
          "output_type": "stream",
          "name": "stdout",
          "text": [
            "Validating FFmpeg command for subtitle embedding...\n",
            "Translated SRT file: f872cd37-7fec-4313-8b91-e8080e1c7266.srt\n",
            "2e46e581-6bfd-4f79-9f36-0d014a277eba.srt\n"
          ]
        },
        {
          "output_type": "stream",
          "name": "stderr",
          "text": [
            "\u001b[32m2024-06-12 11:28:46.405\u001b[0m | \u001b[1mINFO    \u001b[0m | \u001b[36m__main__\u001b[0m:\u001b[36mignite_video_processing\u001b[0m:\u001b[36m8\u001b[0m - \u001b[1mUsing target lagnuage code Russian\u001b[0m\n"
          ]
        },
        {
          "output_type": "stream",
          "name": "stdout",
          "text": [
            "Validating FFmpeg command for subtitle embedding...\n",
            "Translated SRT file: 2e46e581-6bfd-4f79-9f36-0d014a277eba.srt\n",
            "68857ac5-d796-4a13-913d-5fcfbd1f7608.srt\n",
            "Validating FFmpeg command for subtitle embedding...\n",
            "Translated SRT file: 68857ac5-d796-4a13-913d-5fcfbd1f7608.srt\n"
          ]
        },
        {
          "output_type": "stream",
          "name": "stderr",
          "text": [
            "\u001b[32m2024-06-12 11:28:55.331\u001b[0m | \u001b[1mINFO    \u001b[0m | \u001b[36m__main__\u001b[0m:\u001b[36mignite_video_processing\u001b[0m:\u001b[36m8\u001b[0m - \u001b[1mUsing target lagnuage code Russian\u001b[0m\n"
          ]
        },
        {
          "output_type": "stream",
          "name": "stdout",
          "text": [
            "9a5d568e-4a56-497f-9030-951ea842e2ee.srt\n"
          ]
        },
        {
          "output_type": "stream",
          "name": "stderr",
          "text": [
            "\u001b[32m2024-06-12 11:28:59.019\u001b[0m | \u001b[1mINFO    \u001b[0m | \u001b[36m__main__\u001b[0m:\u001b[36mignite_video_processing\u001b[0m:\u001b[36m8\u001b[0m - \u001b[1mUsing target lagnuage code Russian\u001b[0m\n"
          ]
        },
        {
          "output_type": "stream",
          "name": "stdout",
          "text": [
            "Validating FFmpeg command for subtitle embedding...\n",
            "Translated SRT file: 9a5d568e-4a56-497f-9030-951ea842e2ee.srt\n",
            "a1759bec-c2e8-4182-8608-f6c2afaecf44.srt\n"
          ]
        },
        {
          "output_type": "stream",
          "name": "stderr",
          "text": [
            "\u001b[32m2024-06-12 11:29:00.895\u001b[0m | \u001b[1mINFO    \u001b[0m | \u001b[36m__main__\u001b[0m:\u001b[36mignite_video_processing\u001b[0m:\u001b[36m8\u001b[0m - \u001b[1mUsing target lagnuage code Russian\u001b[0m\n"
          ]
        },
        {
          "output_type": "stream",
          "name": "stdout",
          "text": [
            "Validating FFmpeg command for subtitle embedding...\n",
            "Translated SRT file: a1759bec-c2e8-4182-8608-f6c2afaecf44.srt\n",
            "ccb07aab-fade-445a-bf4f-4cb7238717f5.srt\n"
          ]
        },
        {
          "output_type": "stream",
          "name": "stderr",
          "text": [
            "\u001b[32m2024-06-12 11:29:06.495\u001b[0m | \u001b[1mINFO    \u001b[0m | \u001b[36m__main__\u001b[0m:\u001b[36mignite_video_processing\u001b[0m:\u001b[36m8\u001b[0m - \u001b[1mUsing target lagnuage code Russian\u001b[0m\n"
          ]
        },
        {
          "output_type": "stream",
          "name": "stdout",
          "text": [
            "Validating FFmpeg command for subtitle embedding...\n",
            "Translated SRT file: ccb07aab-fade-445a-bf4f-4cb7238717f5.srt\n",
            "959ba284-80a2-41fa-b429-d541c2ead79d.srt\n"
          ]
        },
        {
          "output_type": "stream",
          "name": "stderr",
          "text": [
            "\u001b[32m2024-06-12 11:29:11.260\u001b[0m | \u001b[1mINFO    \u001b[0m | \u001b[36m__main__\u001b[0m:\u001b[36mignite_video_processing\u001b[0m:\u001b[36m8\u001b[0m - \u001b[1mUsing target lagnuage code Russian\u001b[0m\n"
          ]
        },
        {
          "output_type": "stream",
          "name": "stdout",
          "text": [
            "Validating FFmpeg command for subtitle embedding...\n",
            "Translated SRT file: 959ba284-80a2-41fa-b429-d541c2ead79d.srt\n",
            "4ffcf91e-1d20-4dfa-8e55-aeb39ebe140c.srt\n"
          ]
        },
        {
          "output_type": "stream",
          "name": "stderr",
          "text": [
            "\u001b[32m2024-06-12 11:29:16.473\u001b[0m | \u001b[1mINFO    \u001b[0m | \u001b[36m__main__\u001b[0m:\u001b[36mignite_video_processing\u001b[0m:\u001b[36m8\u001b[0m - \u001b[1mUsing target lagnuage code Russian\u001b[0m\n"
          ]
        },
        {
          "output_type": "stream",
          "name": "stdout",
          "text": [
            "Validating FFmpeg command for subtitle embedding...\n",
            "Translated SRT file: 4ffcf91e-1d20-4dfa-8e55-aeb39ebe140c.srt\n",
            "dce36d03-1ae2-44ac-879f-2d3c49a96c66.srt\n"
          ]
        },
        {
          "output_type": "stream",
          "name": "stderr",
          "text": [
            "\u001b[32m2024-06-12 11:29:22.522\u001b[0m | \u001b[1mINFO    \u001b[0m | \u001b[36m__main__\u001b[0m:\u001b[36mignite_video_processing\u001b[0m:\u001b[36m8\u001b[0m - \u001b[1mUsing target lagnuage code Russian\u001b[0m\n"
          ]
        },
        {
          "output_type": "stream",
          "name": "stdout",
          "text": [
            "Validating FFmpeg command for subtitle embedding...\n",
            "Translated SRT file: dce36d03-1ae2-44ac-879f-2d3c49a96c66.srt\n",
            "42d82254-75bb-4afe-8266-a69ad6f40cd7.srt\n"
          ]
        },
        {
          "output_type": "stream",
          "name": "stderr",
          "text": [
            "\u001b[32m2024-06-12 11:29:26.404\u001b[0m | \u001b[1mINFO    \u001b[0m | \u001b[36m__main__\u001b[0m:\u001b[36mignite_video_processing\u001b[0m:\u001b[36m8\u001b[0m - \u001b[1mUsing target lagnuage code Russian\u001b[0m\n"
          ]
        },
        {
          "output_type": "stream",
          "name": "stdout",
          "text": [
            "Validating FFmpeg command for subtitle embedding...\n",
            "Translated SRT file: 42d82254-75bb-4afe-8266-a69ad6f40cd7.srt\n",
            "dc2cbd96-65ac-4bc2-8ca7-4c271439cd96.srt\n"
          ]
        },
        {
          "output_type": "stream",
          "name": "stderr",
          "text": [
            "\u001b[32m2024-06-12 11:29:28.964\u001b[0m | \u001b[1mINFO    \u001b[0m | \u001b[36m__main__\u001b[0m:\u001b[36mignite_video_processing\u001b[0m:\u001b[36m8\u001b[0m - \u001b[1mUsing target lagnuage code Russian\u001b[0m\n"
          ]
        },
        {
          "output_type": "stream",
          "name": "stdout",
          "text": [
            "Validating FFmpeg command for subtitle embedding...\n",
            "Translated SRT file: dc2cbd96-65ac-4bc2-8ca7-4c271439cd96.srt\n",
            "fd89b3eb-e32c-40cf-9a7d-2b046adededc.srt\n"
          ]
        },
        {
          "output_type": "stream",
          "name": "stderr",
          "text": [
            "\u001b[32m2024-06-12 11:29:34.654\u001b[0m | \u001b[1mINFO    \u001b[0m | \u001b[36m__main__\u001b[0m:\u001b[36mignite_video_processing\u001b[0m:\u001b[36m8\u001b[0m - \u001b[1mUsing target lagnuage code Russian\u001b[0m\n"
          ]
        },
        {
          "output_type": "stream",
          "name": "stdout",
          "text": [
            "Validating FFmpeg command for subtitle embedding...\n",
            "Translated SRT file: fd89b3eb-e32c-40cf-9a7d-2b046adededc.srt\n",
            "bd38b4a5-86f9-4dac-93d8-bf6b2544a248.srt\n"
          ]
        },
        {
          "output_type": "stream",
          "name": "stderr",
          "text": [
            "\u001b[32m2024-06-12 11:29:38.876\u001b[0m | \u001b[1mINFO    \u001b[0m | \u001b[36m__main__\u001b[0m:\u001b[36mignite_video_processing\u001b[0m:\u001b[36m8\u001b[0m - \u001b[1mUsing target lagnuage code Russian\u001b[0m\n"
          ]
        },
        {
          "output_type": "stream",
          "name": "stdout",
          "text": [
            "Validating FFmpeg command for subtitle embedding...\n",
            "Translated SRT file: bd38b4a5-86f9-4dac-93d8-bf6b2544a248.srt\n",
            "61be49a5-fd4d-4d5f-96b9-fe3ffaba0375.srt\n"
          ]
        },
        {
          "output_type": "stream",
          "name": "stderr",
          "text": [
            "\u001b[32m2024-06-12 11:29:39.369\u001b[0m | \u001b[1mINFO    \u001b[0m | \u001b[36m__main__\u001b[0m:\u001b[36mignite_video_processing\u001b[0m:\u001b[36m8\u001b[0m - \u001b[1mUsing target lagnuage code Russian\u001b[0m\n"
          ]
        },
        {
          "output_type": "stream",
          "name": "stdout",
          "text": [
            "Validating FFmpeg command for subtitle embedding...\n",
            "Translated SRT file: 61be49a5-fd4d-4d5f-96b9-fe3ffaba0375.srt\n",
            "e92aa80d-01e2-4264-a9bb-69fbfb34b3f1.srt\n"
          ]
        },
        {
          "output_type": "stream",
          "name": "stderr",
          "text": [
            "\u001b[32m2024-06-12 11:29:45.039\u001b[0m | \u001b[1mINFO    \u001b[0m | \u001b[36m__main__\u001b[0m:\u001b[36mignite_video_processing\u001b[0m:\u001b[36m8\u001b[0m - \u001b[1mUsing target lagnuage code Russian\u001b[0m\n"
          ]
        },
        {
          "output_type": "stream",
          "name": "stdout",
          "text": [
            "Validating FFmpeg command for subtitle embedding...\n",
            "Translated SRT file: e92aa80d-01e2-4264-a9bb-69fbfb34b3f1.srt\n",
            "37c23cdf-e27a-4181-9c4c-f0b7a8e6dfcd.srt\n"
          ]
        },
        {
          "output_type": "stream",
          "name": "stderr",
          "text": [
            "\u001b[32m2024-06-12 11:29:47.771\u001b[0m | \u001b[1mINFO    \u001b[0m | \u001b[36m__main__\u001b[0m:\u001b[36mignite_video_processing\u001b[0m:\u001b[36m8\u001b[0m - \u001b[1mUsing target lagnuage code Russian\u001b[0m\n"
          ]
        },
        {
          "output_type": "stream",
          "name": "stdout",
          "text": [
            "Validating FFmpeg command for subtitle embedding...\n",
            "Translated SRT file: 37c23cdf-e27a-4181-9c4c-f0b7a8e6dfcd.srt\n",
            "fd90924d-bab0-4b27-a512-2082852a385e.srt\n"
          ]
        },
        {
          "output_type": "stream",
          "name": "stderr",
          "text": [
            "\u001b[32m2024-06-12 11:29:54.997\u001b[0m | \u001b[1mINFO    \u001b[0m | \u001b[36m__main__\u001b[0m:\u001b[36mignite_video_processing\u001b[0m:\u001b[36m8\u001b[0m - \u001b[1mUsing target lagnuage code Russian\u001b[0m\n"
          ]
        },
        {
          "output_type": "stream",
          "name": "stdout",
          "text": [
            "Validating FFmpeg command for subtitle embedding...\n",
            "Translated SRT file: fd90924d-bab0-4b27-a512-2082852a385e.srt\n",
            "8dc2a7af-f3a7-41ef-8cdd-f95aae329c83.srt\n"
          ]
        },
        {
          "output_type": "stream",
          "name": "stderr",
          "text": [
            "\u001b[32m2024-06-12 11:29:57.895\u001b[0m | \u001b[1mINFO    \u001b[0m | \u001b[36m__main__\u001b[0m:\u001b[36mignite_video_processing\u001b[0m:\u001b[36m8\u001b[0m - \u001b[1mUsing target lagnuage code Russian\u001b[0m\n"
          ]
        },
        {
          "output_type": "stream",
          "name": "stdout",
          "text": [
            "Validating FFmpeg command for subtitle embedding...\n",
            "Translated SRT file: 8dc2a7af-f3a7-41ef-8cdd-f95aae329c83.srt\n",
            "22be502d-c7ca-4a3e-bb63-143b5049debe.srt\n",
            "Validating FFmpeg command for subtitle embedding...\n",
            "Translated SRT file: 22be502d-c7ca-4a3e-bb63-143b5049debe.srt\n"
          ]
        },
        {
          "output_type": "stream",
          "name": "stderr",
          "text": [
            "\u001b[32m2024-06-12 11:30:07.518\u001b[0m | \u001b[1mINFO    \u001b[0m | \u001b[36m__main__\u001b[0m:\u001b[36mignite_video_processing\u001b[0m:\u001b[36m8\u001b[0m - \u001b[1mUsing target lagnuage code Russian\u001b[0m\n"
          ]
        },
        {
          "output_type": "stream",
          "name": "stdout",
          "text": [
            "e2673d35-38a0-48c8-9326-e316e86ea060.srt\n"
          ]
        },
        {
          "output_type": "stream",
          "name": "stderr",
          "text": [
            "\u001b[32m2024-06-12 11:30:12.117\u001b[0m | \u001b[1mINFO    \u001b[0m | \u001b[36m__main__\u001b[0m:\u001b[36mignite_video_processing\u001b[0m:\u001b[36m8\u001b[0m - \u001b[1mUsing target lagnuage code Russian\u001b[0m\n"
          ]
        },
        {
          "output_type": "stream",
          "name": "stdout",
          "text": [
            "Validating FFmpeg command for subtitle embedding...\n",
            "Translated SRT file: e2673d35-38a0-48c8-9326-e316e86ea060.srt\n",
            "ed0f69f4-9763-4ff1-82f6-234ef443c74a.srt\n"
          ]
        },
        {
          "output_type": "stream",
          "name": "stderr",
          "text": [
            "\u001b[32m2024-06-12 11:30:13.123\u001b[0m | \u001b[1mINFO    \u001b[0m | \u001b[36m__main__\u001b[0m:\u001b[36mignite_video_processing\u001b[0m:\u001b[36m8\u001b[0m - \u001b[1mUsing target lagnuage code Russian\u001b[0m\n"
          ]
        },
        {
          "output_type": "stream",
          "name": "stdout",
          "text": [
            "Validating FFmpeg command for subtitle embedding...\n",
            "Translated SRT file: ed0f69f4-9763-4ff1-82f6-234ef443c74a.srt\n",
            "3da4c79e-47a4-493c-8670-a9208a26ee87.srt\n"
          ]
        },
        {
          "output_type": "stream",
          "name": "stderr",
          "text": [
            "\u001b[32m2024-06-12 11:30:17.382\u001b[0m | \u001b[1mINFO    \u001b[0m | \u001b[36m__main__\u001b[0m:\u001b[36mignite_video_processing\u001b[0m:\u001b[36m8\u001b[0m - \u001b[1mUsing target lagnuage code Russian\u001b[0m\n"
          ]
        },
        {
          "output_type": "stream",
          "name": "stdout",
          "text": [
            "Validating FFmpeg command for subtitle embedding...\n",
            "Translated SRT file: 3da4c79e-47a4-493c-8670-a9208a26ee87.srt\n",
            "26810b66-1bbb-4137-80ee-0b600d7148b6.srt\n"
          ]
        },
        {
          "output_type": "stream",
          "name": "stderr",
          "text": [
            "\u001b[32m2024-06-12 11:30:22.612\u001b[0m | \u001b[1mINFO    \u001b[0m | \u001b[36m__main__\u001b[0m:\u001b[36mignite_video_processing\u001b[0m:\u001b[36m8\u001b[0m - \u001b[1mUsing target lagnuage code Russian\u001b[0m\n"
          ]
        },
        {
          "output_type": "stream",
          "name": "stdout",
          "text": [
            "Validating FFmpeg command for subtitle embedding...\n",
            "Translated SRT file: 26810b66-1bbb-4137-80ee-0b600d7148b6.srt\n",
            "5658054f-53f5-48c9-9f0c-c2db5de9f768.srt\n"
          ]
        },
        {
          "output_type": "stream",
          "name": "stderr",
          "text": [
            "\u001b[32m2024-06-12 11:30:26.077\u001b[0m | \u001b[1mINFO    \u001b[0m | \u001b[36m__main__\u001b[0m:\u001b[36mignite_video_processing\u001b[0m:\u001b[36m8\u001b[0m - \u001b[1mUsing target lagnuage code Russian\u001b[0m\n"
          ]
        },
        {
          "output_type": "stream",
          "name": "stdout",
          "text": [
            "Validating FFmpeg command for subtitle embedding...\n",
            "Translated SRT file: 5658054f-53f5-48c9-9f0c-c2db5de9f768.srt\n",
            "d0bd1fbf-9bdf-4885-b4a0-d0286570deac.srt\n"
          ]
        },
        {
          "output_type": "stream",
          "name": "stderr",
          "text": [
            "\u001b[32m2024-06-12 11:30:33.230\u001b[0m | \u001b[1mINFO    \u001b[0m | \u001b[36m__main__\u001b[0m:\u001b[36mignite_video_processing\u001b[0m:\u001b[36m8\u001b[0m - \u001b[1mUsing target lagnuage code Russian\u001b[0m\n"
          ]
        },
        {
          "output_type": "stream",
          "name": "stdout",
          "text": [
            "Validating FFmpeg command for subtitle embedding...\n",
            "Translated SRT file: d0bd1fbf-9bdf-4885-b4a0-d0286570deac.srt\n",
            "bbe672cc-a781-4782-8203-42b69dc7f65f.srt\n"
          ]
        },
        {
          "output_type": "stream",
          "name": "stderr",
          "text": [
            "\u001b[32m2024-06-12 11:30:36.739\u001b[0m | \u001b[1mINFO    \u001b[0m | \u001b[36m__main__\u001b[0m:\u001b[36mignite_video_processing\u001b[0m:\u001b[36m8\u001b[0m - \u001b[1mUsing target lagnuage code Russian\u001b[0m\n"
          ]
        },
        {
          "output_type": "stream",
          "name": "stdout",
          "text": [
            "Validating FFmpeg command for subtitle embedding...\n",
            "Translated SRT file: bbe672cc-a781-4782-8203-42b69dc7f65f.srt\n",
            "9f9b8867-a3b7-4bcf-a4b3-d17bd145c391.srt\n"
          ]
        },
        {
          "output_type": "stream",
          "name": "stderr",
          "text": [
            "\u001b[32m2024-06-12 11:30:42.582\u001b[0m | \u001b[1mINFO    \u001b[0m | \u001b[36m__main__\u001b[0m:\u001b[36mignite_video_processing\u001b[0m:\u001b[36m8\u001b[0m - \u001b[1mUsing target lagnuage code Russian\u001b[0m\n"
          ]
        },
        {
          "output_type": "stream",
          "name": "stdout",
          "text": [
            "Validating FFmpeg command for subtitle embedding...\n",
            "Translated SRT file: 9f9b8867-a3b7-4bcf-a4b3-d17bd145c391.srt\n",
            "3d4a3f87-9c96-46e2-ad09-323714b09952.srt\n"
          ]
        },
        {
          "output_type": "stream",
          "name": "stderr",
          "text": [
            "\u001b[32m2024-06-12 11:30:43.067\u001b[0m | \u001b[1mINFO    \u001b[0m | \u001b[36m__main__\u001b[0m:\u001b[36mignite_video_processing\u001b[0m:\u001b[36m8\u001b[0m - \u001b[1mUsing target lagnuage code Russian\u001b[0m\n"
          ]
        },
        {
          "output_type": "stream",
          "name": "stdout",
          "text": [
            "Validating FFmpeg command for subtitle embedding...\n",
            "Translated SRT file: 3d4a3f87-9c96-46e2-ad09-323714b09952.srt\n",
            "a03c4386-9093-4919-8513-d2479d6e65cd.srt\n"
          ]
        },
        {
          "output_type": "stream",
          "name": "stderr",
          "text": [
            "\u001b[32m2024-06-12 11:30:44.630\u001b[0m | \u001b[1mINFO    \u001b[0m | \u001b[36m__main__\u001b[0m:\u001b[36mignite_video_processing\u001b[0m:\u001b[36m8\u001b[0m - \u001b[1mUsing target lagnuage code Russian\u001b[0m\n"
          ]
        },
        {
          "output_type": "stream",
          "name": "stdout",
          "text": [
            "Validating FFmpeg command for subtitle embedding...\n",
            "Translated SRT file: a03c4386-9093-4919-8513-d2479d6e65cd.srt\n",
            "f66aff6e-5154-47ca-a9dc-80b99e5748fd.srt\n"
          ]
        },
        {
          "output_type": "stream",
          "name": "stderr",
          "text": [
            "\u001b[32m2024-06-12 11:30:45.268\u001b[0m | \u001b[1mINFO    \u001b[0m | \u001b[36m__main__\u001b[0m:\u001b[36mignite_video_processing\u001b[0m:\u001b[36m8\u001b[0m - \u001b[1mUsing target lagnuage code Russian\u001b[0m\n"
          ]
        },
        {
          "output_type": "stream",
          "name": "stdout",
          "text": [
            "Validating FFmpeg command for subtitle embedding...\n",
            "Translated SRT file: f66aff6e-5154-47ca-a9dc-80b99e5748fd.srt\n",
            "8c9fa51e-930c-41bb-b9a6-6da77502df4f.srt\n"
          ]
        },
        {
          "output_type": "stream",
          "name": "stderr",
          "text": [
            "\u001b[32m2024-06-12 11:30:50.185\u001b[0m | \u001b[1mINFO    \u001b[0m | \u001b[36m__main__\u001b[0m:\u001b[36mignite_video_processing\u001b[0m:\u001b[36m8\u001b[0m - \u001b[1mUsing target lagnuage code Russian\u001b[0m\n"
          ]
        },
        {
          "output_type": "stream",
          "name": "stdout",
          "text": [
            "Validating FFmpeg command for subtitle embedding...\n",
            "Translated SRT file: 8c9fa51e-930c-41bb-b9a6-6da77502df4f.srt\n",
            "a9c210e7-a85b-4b08-9446-241a0ee12c47.srt\n"
          ]
        },
        {
          "output_type": "stream",
          "name": "stderr",
          "text": [
            "\u001b[32m2024-06-12 11:31:06.482\u001b[0m | \u001b[1mINFO    \u001b[0m | \u001b[36m__main__\u001b[0m:\u001b[36mignite_video_processing\u001b[0m:\u001b[36m8\u001b[0m - \u001b[1mUsing target lagnuage code Russian\u001b[0m\n"
          ]
        },
        {
          "output_type": "stream",
          "name": "stdout",
          "text": [
            "Validating FFmpeg command for subtitle embedding...\n",
            "Translated SRT file: a9c210e7-a85b-4b08-9446-241a0ee12c47.srt\n",
            "a3f60635-f73d-444b-a901-0e08c5a4fb03.srt\n"
          ]
        },
        {
          "output_type": "stream",
          "name": "stderr",
          "text": [
            "\u001b[32m2024-06-12 11:31:12.635\u001b[0m | \u001b[1mINFO    \u001b[0m | \u001b[36m__main__\u001b[0m:\u001b[36mignite_video_processing\u001b[0m:\u001b[36m8\u001b[0m - \u001b[1mUsing target lagnuage code Russian\u001b[0m\n"
          ]
        },
        {
          "output_type": "stream",
          "name": "stdout",
          "text": [
            "Validating FFmpeg command for subtitle embedding...\n",
            "Translated SRT file: a3f60635-f73d-444b-a901-0e08c5a4fb03.srt\n",
            "4474a9a6-f398-4fa4-962c-a67c9ff4737a.srt\n"
          ]
        },
        {
          "output_type": "stream",
          "name": "stderr",
          "text": [
            "\u001b[32m2024-06-12 11:31:16.427\u001b[0m | \u001b[1mINFO    \u001b[0m | \u001b[36m__main__\u001b[0m:\u001b[36mignite_video_processing\u001b[0m:\u001b[36m8\u001b[0m - \u001b[1mUsing target lagnuage code Russian\u001b[0m\n"
          ]
        },
        {
          "output_type": "stream",
          "name": "stdout",
          "text": [
            "Validating FFmpeg command for subtitle embedding...\n",
            "Translated SRT file: 4474a9a6-f398-4fa4-962c-a67c9ff4737a.srt\n",
            "0ea7bf0a-72a2-43b7-b721-7966aaf230f5.srt\n",
            "Validating FFmpeg command for subtitle embedding...\n",
            "Translated SRT file: 0ea7bf0a-72a2-43b7-b721-7966aaf230f5.srt\n"
          ]
        },
        {
          "output_type": "stream",
          "name": "stderr",
          "text": [
            "\u001b[32m2024-06-12 11:31:25.166\u001b[0m | \u001b[1mINFO    \u001b[0m | \u001b[36m__main__\u001b[0m:\u001b[36mignite_video_processing\u001b[0m:\u001b[36m8\u001b[0m - \u001b[1mUsing target lagnuage code Russian\u001b[0m\n"
          ]
        },
        {
          "output_type": "stream",
          "name": "stdout",
          "text": [
            "4793b986-98c4-45de-9292-57abcf211dec.srt\n"
          ]
        },
        {
          "output_type": "stream",
          "name": "stderr",
          "text": [
            "\u001b[32m2024-06-12 11:31:28.782\u001b[0m | \u001b[1mINFO    \u001b[0m | \u001b[36m__main__\u001b[0m:\u001b[36mignite_video_processing\u001b[0m:\u001b[36m8\u001b[0m - \u001b[1mUsing target lagnuage code Russian\u001b[0m\n"
          ]
        },
        {
          "output_type": "stream",
          "name": "stdout",
          "text": [
            "Validating FFmpeg command for subtitle embedding...\n",
            "Translated SRT file: 4793b986-98c4-45de-9292-57abcf211dec.srt\n",
            "63e2ab66-ebff-4009-94fc-f41407059edc.srt\n"
          ]
        },
        {
          "output_type": "stream",
          "name": "stderr",
          "text": [
            "\u001b[32m2024-06-12 11:31:32.449\u001b[0m | \u001b[1mINFO    \u001b[0m | \u001b[36m__main__\u001b[0m:\u001b[36mignite_video_processing\u001b[0m:\u001b[36m8\u001b[0m - \u001b[1mUsing target lagnuage code Russian\u001b[0m\n"
          ]
        },
        {
          "output_type": "stream",
          "name": "stdout",
          "text": [
            "Validating FFmpeg command for subtitle embedding...\n",
            "Translated SRT file: 63e2ab66-ebff-4009-94fc-f41407059edc.srt\n",
            "29b21b8c-4bbd-4d7d-adca-48181a18856b.srt\n"
          ]
        },
        {
          "output_type": "stream",
          "name": "stderr",
          "text": [
            "\u001b[32m2024-06-12 11:31:41.267\u001b[0m | \u001b[1mINFO    \u001b[0m | \u001b[36m__main__\u001b[0m:\u001b[36mignite_video_processing\u001b[0m:\u001b[36m8\u001b[0m - \u001b[1mUsing target lagnuage code Russian\u001b[0m\n"
          ]
        },
        {
          "output_type": "stream",
          "name": "stdout",
          "text": [
            "Validating FFmpeg command for subtitle embedding...\n",
            "Translated SRT file: 29b21b8c-4bbd-4d7d-adca-48181a18856b.srt\n",
            "8182ff85-2d08-4b63-9202-2cc2a7210f1b.srt\n"
          ]
        },
        {
          "output_type": "stream",
          "name": "stderr",
          "text": [
            "\u001b[32m2024-06-12 11:31:46.817\u001b[0m | \u001b[1mINFO    \u001b[0m | \u001b[36m__main__\u001b[0m:\u001b[36mignite_video_processing\u001b[0m:\u001b[36m8\u001b[0m - \u001b[1mUsing target lagnuage code Russian\u001b[0m\n"
          ]
        },
        {
          "output_type": "stream",
          "name": "stdout",
          "text": [
            "Validating FFmpeg command for subtitle embedding...\n",
            "Translated SRT file: 8182ff85-2d08-4b63-9202-2cc2a7210f1b.srt\n",
            "e1d3bac8-33cf-4338-99f1-fa960c1e488c.srt\n"
          ]
        },
        {
          "output_type": "stream",
          "name": "stderr",
          "text": [
            "\u001b[32m2024-06-12 11:31:49.191\u001b[0m | \u001b[1mINFO    \u001b[0m | \u001b[36m__main__\u001b[0m:\u001b[36mignite_video_processing\u001b[0m:\u001b[36m8\u001b[0m - \u001b[1mUsing target lagnuage code Russian\u001b[0m\n"
          ]
        },
        {
          "output_type": "stream",
          "name": "stdout",
          "text": [
            "Validating FFmpeg command for subtitle embedding...\n",
            "Translated SRT file: e1d3bac8-33cf-4338-99f1-fa960c1e488c.srt\n",
            "4f3fafe0-0a55-4f9f-a208-440a976f7400.srt\n"
          ]
        },
        {
          "output_type": "stream",
          "name": "stderr",
          "text": [
            "\u001b[32m2024-06-12 11:32:06.205\u001b[0m | \u001b[1mINFO    \u001b[0m | \u001b[36m__main__\u001b[0m:\u001b[36mignite_video_processing\u001b[0m:\u001b[36m8\u001b[0m - \u001b[1mUsing target lagnuage code Russian\u001b[0m\n"
          ]
        },
        {
          "output_type": "stream",
          "name": "stdout",
          "text": [
            "Validating FFmpeg command for subtitle embedding...\n",
            "Translated SRT file: 4f3fafe0-0a55-4f9f-a208-440a976f7400.srt\n",
            "35fab110-865b-4b44-85c9-979fe6b98e29.srt\n"
          ]
        },
        {
          "output_type": "stream",
          "name": "stderr",
          "text": [
            "\u001b[32m2024-06-12 11:32:07.120\u001b[0m | \u001b[1mINFO    \u001b[0m | \u001b[36m__main__\u001b[0m:\u001b[36mignite_video_processing\u001b[0m:\u001b[36m8\u001b[0m - \u001b[1mUsing target lagnuage code Russian\u001b[0m\n"
          ]
        },
        {
          "output_type": "stream",
          "name": "stdout",
          "text": [
            "Validating FFmpeg command for subtitle embedding...\n",
            "Translated SRT file: 35fab110-865b-4b44-85c9-979fe6b98e29.srt\n",
            "02169d67-7cfe-4b30-b716-1873c7beeacb.srt\n"
          ]
        },
        {
          "output_type": "stream",
          "name": "stderr",
          "text": [
            "\u001b[32m2024-06-12 11:32:11.961\u001b[0m | \u001b[1mINFO    \u001b[0m | \u001b[36m__main__\u001b[0m:\u001b[36mignite_video_processing\u001b[0m:\u001b[36m8\u001b[0m - \u001b[1mUsing target lagnuage code Russian\u001b[0m\n"
          ]
        },
        {
          "output_type": "stream",
          "name": "stdout",
          "text": [
            "Validating FFmpeg command for subtitle embedding...\n",
            "Translated SRT file: 02169d67-7cfe-4b30-b716-1873c7beeacb.srt\n",
            "4b6adeea-edc1-48ee-b877-01b40e57fa2f.srt\n"
          ]
        },
        {
          "output_type": "stream",
          "name": "stderr",
          "text": [
            "\u001b[32m2024-06-12 11:32:12.432\u001b[0m | \u001b[1mINFO    \u001b[0m | \u001b[36m__main__\u001b[0m:\u001b[36mignite_video_processing\u001b[0m:\u001b[36m8\u001b[0m - \u001b[1mUsing target lagnuage code Russian\u001b[0m\n"
          ]
        },
        {
          "output_type": "stream",
          "name": "stdout",
          "text": [
            "Validating FFmpeg command for subtitle embedding...\n",
            "Translated SRT file: 4b6adeea-edc1-48ee-b877-01b40e57fa2f.srt\n",
            "11382987-bd61-4aa2-9ecb-702da5bf587d.srt\n"
          ]
        },
        {
          "output_type": "stream",
          "name": "stderr",
          "text": [
            "\u001b[32m2024-06-12 11:32:13.127\u001b[0m | \u001b[1mINFO    \u001b[0m | \u001b[36m__main__\u001b[0m:\u001b[36mignite_video_processing\u001b[0m:\u001b[36m8\u001b[0m - \u001b[1mUsing target lagnuage code Russian\u001b[0m\n"
          ]
        },
        {
          "output_type": "stream",
          "name": "stdout",
          "text": [
            "Validating FFmpeg command for subtitle embedding...\n",
            "Translated SRT file: 11382987-bd61-4aa2-9ecb-702da5bf587d.srt\n",
            "ef046beb-031b-4ef2-b4e8-bb19e1e14069.srt\n"
          ]
        },
        {
          "output_type": "stream",
          "name": "stderr",
          "text": [
            "\u001b[32m2024-06-12 11:32:17.209\u001b[0m | \u001b[1mINFO    \u001b[0m | \u001b[36m__main__\u001b[0m:\u001b[36mignite_video_processing\u001b[0m:\u001b[36m8\u001b[0m - \u001b[1mUsing target lagnuage code Russian\u001b[0m\n"
          ]
        },
        {
          "output_type": "stream",
          "name": "stdout",
          "text": [
            "Validating FFmpeg command for subtitle embedding...\n",
            "Translated SRT file: ef046beb-031b-4ef2-b4e8-bb19e1e14069.srt\n",
            "92eb5ac1-9b99-481a-9b23-019cbe12f977.srt\n"
          ]
        },
        {
          "output_type": "stream",
          "name": "stderr",
          "text": [
            "\u001b[32m2024-06-12 11:32:25.410\u001b[0m | \u001b[1mINFO    \u001b[0m | \u001b[36m__main__\u001b[0m:\u001b[36mignite_video_processing\u001b[0m:\u001b[36m8\u001b[0m - \u001b[1mUsing target lagnuage code Russian\u001b[0m\n"
          ]
        },
        {
          "output_type": "stream",
          "name": "stdout",
          "text": [
            "Validating FFmpeg command for subtitle embedding...\n",
            "Translated SRT file: 92eb5ac1-9b99-481a-9b23-019cbe12f977.srt\n",
            "2d8c4bf2-240b-4a4b-8e62-ec42e28594f2.srt\n"
          ]
        },
        {
          "output_type": "stream",
          "name": "stderr",
          "text": [
            "\u001b[32m2024-06-12 11:32:32.620\u001b[0m | \u001b[1mINFO    \u001b[0m | \u001b[36m__main__\u001b[0m:\u001b[36mignite_video_processing\u001b[0m:\u001b[36m8\u001b[0m - \u001b[1mUsing target lagnuage code Russian\u001b[0m\n"
          ]
        },
        {
          "output_type": "stream",
          "name": "stdout",
          "text": [
            "Validating FFmpeg command for subtitle embedding...\n",
            "Translated SRT file: 2d8c4bf2-240b-4a4b-8e62-ec42e28594f2.srt\n",
            "bb1f180a-2a86-43bc-9bc5-8370279af210.srt\n"
          ]
        },
        {
          "output_type": "stream",
          "name": "stderr",
          "text": [
            "\u001b[32m2024-06-12 11:32:36.343\u001b[0m | \u001b[1mINFO    \u001b[0m | \u001b[36m__main__\u001b[0m:\u001b[36mignite_video_processing\u001b[0m:\u001b[36m8\u001b[0m - \u001b[1mUsing target lagnuage code Russian\u001b[0m\n"
          ]
        },
        {
          "output_type": "stream",
          "name": "stdout",
          "text": [
            "Validating FFmpeg command for subtitle embedding...\n",
            "Translated SRT file: bb1f180a-2a86-43bc-9bc5-8370279af210.srt\n",
            "6ec67e72-1a4f-48b3-a7eb-228e3ef7ab01.srt\n"
          ]
        },
        {
          "output_type": "stream",
          "name": "stderr",
          "text": [
            "\u001b[32m2024-06-12 11:32:37.350\u001b[0m | \u001b[1mINFO    \u001b[0m | \u001b[36m__main__\u001b[0m:\u001b[36mignite_video_processing\u001b[0m:\u001b[36m8\u001b[0m - \u001b[1mUsing target lagnuage code Russian\u001b[0m\n"
          ]
        },
        {
          "output_type": "stream",
          "name": "stdout",
          "text": [
            "Validating FFmpeg command for subtitle embedding...\n",
            "Translated SRT file: 6ec67e72-1a4f-48b3-a7eb-228e3ef7ab01.srt\n",
            "26525d57-1e1f-467b-ab11-a2f382584246.srt\n",
            "Validating FFmpeg command for subtitle embedding...\n",
            "Translated SRT file: 26525d57-1e1f-467b-ab11-a2f382584246.srt\n"
          ]
        },
        {
          "output_type": "stream",
          "name": "stderr",
          "text": [
            "\u001b[32m2024-06-12 11:32:46.521\u001b[0m | \u001b[1mINFO    \u001b[0m | \u001b[36m__main__\u001b[0m:\u001b[36mignite_video_processing\u001b[0m:\u001b[36m8\u001b[0m - \u001b[1mUsing target lagnuage code Russian\u001b[0m\n"
          ]
        },
        {
          "output_type": "stream",
          "name": "stdout",
          "text": [
            "892c9827-b73a-4735-a310-5f9ce4c16583.srt\n"
          ]
        },
        {
          "output_type": "stream",
          "name": "stderr",
          "text": [
            "\u001b[32m2024-06-12 11:32:48.866\u001b[0m | \u001b[1mINFO    \u001b[0m | \u001b[36m__main__\u001b[0m:\u001b[36mignite_video_processing\u001b[0m:\u001b[36m8\u001b[0m - \u001b[1mUsing target lagnuage code Russian\u001b[0m\n"
          ]
        },
        {
          "output_type": "stream",
          "name": "stdout",
          "text": [
            "Validating FFmpeg command for subtitle embedding...\n",
            "Translated SRT file: 892c9827-b73a-4735-a310-5f9ce4c16583.srt\n",
            "2c76bcb6-a2c1-4a3c-9065-451a79677acb.srt\n"
          ]
        },
        {
          "output_type": "stream",
          "name": "stderr",
          "text": [
            "\u001b[32m2024-06-12 11:32:50.598\u001b[0m | \u001b[1mINFO    \u001b[0m | \u001b[36m__main__\u001b[0m:\u001b[36mignite_video_processing\u001b[0m:\u001b[36m8\u001b[0m - \u001b[1mUsing target lagnuage code Russian\u001b[0m\n"
          ]
        },
        {
          "output_type": "stream",
          "name": "stdout",
          "text": [
            "Validating FFmpeg command for subtitle embedding...\n",
            "Translated SRT file: 2c76bcb6-a2c1-4a3c-9065-451a79677acb.srt\n",
            "b50b2c7a-3887-4d7f-b179-a67bdd06d65f.srt\n"
          ]
        },
        {
          "output_type": "stream",
          "name": "stderr",
          "text": [
            "\u001b[32m2024-06-12 11:32:51.155\u001b[0m | \u001b[1mINFO    \u001b[0m | \u001b[36m__main__\u001b[0m:\u001b[36mignite_video_processing\u001b[0m:\u001b[36m8\u001b[0m - \u001b[1mUsing target lagnuage code Russian\u001b[0m\n"
          ]
        },
        {
          "output_type": "stream",
          "name": "stdout",
          "text": [
            "Validating FFmpeg command for subtitle embedding...\n",
            "Translated SRT file: b50b2c7a-3887-4d7f-b179-a67bdd06d65f.srt\n",
            "45baaaac-ff59-48e1-b37e-30310e1744a7.srt\n"
          ]
        },
        {
          "output_type": "stream",
          "name": "stderr",
          "text": [
            "\u001b[32m2024-06-12 11:32:54.510\u001b[0m | \u001b[1mINFO    \u001b[0m | \u001b[36m__main__\u001b[0m:\u001b[36mignite_video_processing\u001b[0m:\u001b[36m8\u001b[0m - \u001b[1mUsing target lagnuage code Russian\u001b[0m\n"
          ]
        },
        {
          "output_type": "stream",
          "name": "stdout",
          "text": [
            "Validating FFmpeg command for subtitle embedding...\n",
            "Translated SRT file: 45baaaac-ff59-48e1-b37e-30310e1744a7.srt\n",
            "d18ec970-2b02-4787-8ade-aeb28eb7c27d.srt\n"
          ]
        },
        {
          "output_type": "stream",
          "name": "stderr",
          "text": [
            "\u001b[32m2024-06-12 11:33:01.913\u001b[0m | \u001b[1mINFO    \u001b[0m | \u001b[36m__main__\u001b[0m:\u001b[36mignite_video_processing\u001b[0m:\u001b[36m8\u001b[0m - \u001b[1mUsing target lagnuage code Russian\u001b[0m\n"
          ]
        },
        {
          "output_type": "stream",
          "name": "stdout",
          "text": [
            "Validating FFmpeg command for subtitle embedding...\n",
            "Translated SRT file: d18ec970-2b02-4787-8ade-aeb28eb7c27d.srt\n",
            "956bb0fc-c13f-4822-8981-f0a1d71746d5.srt\n"
          ]
        },
        {
          "output_type": "stream",
          "name": "stderr",
          "text": [
            "\u001b[32m2024-06-12 11:33:03.105\u001b[0m | \u001b[1mINFO    \u001b[0m | \u001b[36m__main__\u001b[0m:\u001b[36mignite_video_processing\u001b[0m:\u001b[36m8\u001b[0m - \u001b[1mUsing target lagnuage code Russian\u001b[0m\n"
          ]
        },
        {
          "output_type": "stream",
          "name": "stdout",
          "text": [
            "Validating FFmpeg command for subtitle embedding...\n",
            "Translated SRT file: 956bb0fc-c13f-4822-8981-f0a1d71746d5.srt\n",
            "1abc30b4-b1f4-418b-a43c-ed21304f3a19.srt\n"
          ]
        },
        {
          "output_type": "stream",
          "name": "stderr",
          "text": [
            "\u001b[32m2024-06-12 11:33:10.289\u001b[0m | \u001b[1mINFO    \u001b[0m | \u001b[36m__main__\u001b[0m:\u001b[36mignite_video_processing\u001b[0m:\u001b[36m8\u001b[0m - \u001b[1mUsing target lagnuage code Russian\u001b[0m\n"
          ]
        },
        {
          "output_type": "stream",
          "name": "stdout",
          "text": [
            "Validating FFmpeg command for subtitle embedding...\n",
            "Translated SRT file: 1abc30b4-b1f4-418b-a43c-ed21304f3a19.srt\n",
            "24b8e5ec-a2bd-48f1-8e76-2f92b5903b4c.srt\n"
          ]
        },
        {
          "output_type": "stream",
          "name": "stderr",
          "text": [
            "\u001b[32m2024-06-12 11:33:16.648\u001b[0m | \u001b[1mINFO    \u001b[0m | \u001b[36m__main__\u001b[0m:\u001b[36mignite_video_processing\u001b[0m:\u001b[36m8\u001b[0m - \u001b[1mUsing target lagnuage code Russian\u001b[0m\n"
          ]
        },
        {
          "output_type": "stream",
          "name": "stdout",
          "text": [
            "Validating FFmpeg command for subtitle embedding...\n",
            "Translated SRT file: 24b8e5ec-a2bd-48f1-8e76-2f92b5903b4c.srt\n",
            "17d37a4e-fb76-4682-a7eb-54c6213847e6.srt\n"
          ]
        },
        {
          "output_type": "stream",
          "name": "stderr",
          "text": [
            "\u001b[32m2024-06-12 11:33:22.096\u001b[0m | \u001b[1mINFO    \u001b[0m | \u001b[36m__main__\u001b[0m:\u001b[36mignite_video_processing\u001b[0m:\u001b[36m8\u001b[0m - \u001b[1mUsing target lagnuage code Russian\u001b[0m\n"
          ]
        },
        {
          "output_type": "stream",
          "name": "stdout",
          "text": [
            "Validating FFmpeg command for subtitle embedding...\n",
            "Translated SRT file: 17d37a4e-fb76-4682-a7eb-54c6213847e6.srt\n",
            "6115e9aa-7317-476c-b005-187a4879daae.srt\n"
          ]
        },
        {
          "output_type": "stream",
          "name": "stderr",
          "text": [
            "\u001b[32m2024-06-12 11:33:26.090\u001b[0m | \u001b[1mINFO    \u001b[0m | \u001b[36m__main__\u001b[0m:\u001b[36mignite_video_processing\u001b[0m:\u001b[36m8\u001b[0m - \u001b[1mUsing target lagnuage code Russian\u001b[0m\n"
          ]
        },
        {
          "output_type": "stream",
          "name": "stdout",
          "text": [
            "Validating FFmpeg command for subtitle embedding...\n",
            "Translated SRT file: 6115e9aa-7317-476c-b005-187a4879daae.srt\n",
            "ce9599a9-7fcc-44d8-878e-319d07bfb012.srt\n"
          ]
        },
        {
          "output_type": "stream",
          "name": "stderr",
          "text": [
            "\u001b[32m2024-06-12 11:33:28.217\u001b[0m | \u001b[1mINFO    \u001b[0m | \u001b[36m__main__\u001b[0m:\u001b[36mignite_video_processing\u001b[0m:\u001b[36m8\u001b[0m - \u001b[1mUsing target lagnuage code Russian\u001b[0m\n"
          ]
        },
        {
          "output_type": "stream",
          "name": "stdout",
          "text": [
            "Validating FFmpeg command for subtitle embedding...\n",
            "Translated SRT file: ce9599a9-7fcc-44d8-878e-319d07bfb012.srt\n",
            "2ab95d5f-b74e-4c74-9db2-c832aac8e209.srt\n"
          ]
        },
        {
          "output_type": "stream",
          "name": "stderr",
          "text": [
            "\u001b[32m2024-06-12 11:33:30.824\u001b[0m | \u001b[1mINFO    \u001b[0m | \u001b[36m__main__\u001b[0m:\u001b[36mignite_video_processing\u001b[0m:\u001b[36m8\u001b[0m - \u001b[1mUsing target lagnuage code Russian\u001b[0m\n"
          ]
        },
        {
          "output_type": "stream",
          "name": "stdout",
          "text": [
            "Validating FFmpeg command for subtitle embedding...\n",
            "Translated SRT file: 2ab95d5f-b74e-4c74-9db2-c832aac8e209.srt\n",
            "8ffc75b6-c6a1-4ab5-bf52-7c23e419d597.srt\n"
          ]
        },
        {
          "output_type": "stream",
          "name": "stderr",
          "text": [
            "\u001b[32m2024-06-12 11:33:37.865\u001b[0m | \u001b[1mINFO    \u001b[0m | \u001b[36m__main__\u001b[0m:\u001b[36mignite_video_processing\u001b[0m:\u001b[36m8\u001b[0m - \u001b[1mUsing target lagnuage code Russian\u001b[0m\n"
          ]
        },
        {
          "output_type": "stream",
          "name": "stdout",
          "text": [
            "Validating FFmpeg command for subtitle embedding...\n",
            "Translated SRT file: 8ffc75b6-c6a1-4ab5-bf52-7c23e419d597.srt\n",
            "47fa786e-3bbb-4a72-abd2-983a6eedbed4.srt\n"
          ]
        },
        {
          "output_type": "stream",
          "name": "stderr",
          "text": [
            "\u001b[32m2024-06-12 11:33:38.291\u001b[0m | \u001b[1mINFO    \u001b[0m | \u001b[36m__main__\u001b[0m:\u001b[36mignite_video_processing\u001b[0m:\u001b[36m8\u001b[0m - \u001b[1mUsing target lagnuage code Russian\u001b[0m\n"
          ]
        },
        {
          "output_type": "stream",
          "name": "stdout",
          "text": [
            "Validating FFmpeg command for subtitle embedding...\n",
            "Translated SRT file: 47fa786e-3bbb-4a72-abd2-983a6eedbed4.srt\n",
            "7942965b-2400-489e-a67b-e332d79a0dd1.srt\n"
          ]
        },
        {
          "output_type": "stream",
          "name": "stderr",
          "text": [
            "\u001b[32m2024-06-12 11:33:41.065\u001b[0m | \u001b[1mINFO    \u001b[0m | \u001b[36m__main__\u001b[0m:\u001b[36mignite_video_processing\u001b[0m:\u001b[36m8\u001b[0m - \u001b[1mUsing target lagnuage code Russian\u001b[0m\n"
          ]
        },
        {
          "output_type": "stream",
          "name": "stdout",
          "text": [
            "Validating FFmpeg command for subtitle embedding...\n",
            "Translated SRT file: 7942965b-2400-489e-a67b-e332d79a0dd1.srt\n",
            "0286ee78-1d22-4466-95fb-39f62bc1b556.srt\n",
            "Validating FFmpeg command for subtitle embedding...\n",
            "Translated SRT file: 0286ee78-1d22-4466-95fb-39f62bc1b556.srt\n"
          ]
        },
        {
          "output_type": "stream",
          "name": "stderr",
          "text": [
            "\u001b[32m2024-06-12 11:33:53.294\u001b[0m | \u001b[1mINFO    \u001b[0m | \u001b[36m__main__\u001b[0m:\u001b[36mignite_video_processing\u001b[0m:\u001b[36m8\u001b[0m - \u001b[1mUsing target lagnuage code Russian\u001b[0m\n"
          ]
        },
        {
          "output_type": "stream",
          "name": "stdout",
          "text": [
            "0b3f96af-0d16-4ffa-a81f-bd2274bb7aa0.srt\n"
          ]
        },
        {
          "output_type": "stream",
          "name": "stderr",
          "text": [
            "\u001b[32m2024-06-12 11:33:53.831\u001b[0m | \u001b[1mINFO    \u001b[0m | \u001b[36m__main__\u001b[0m:\u001b[36mignite_video_processing\u001b[0m:\u001b[36m8\u001b[0m - \u001b[1mUsing target lagnuage code Russian\u001b[0m\n"
          ]
        },
        {
          "output_type": "stream",
          "name": "stdout",
          "text": [
            "Validating FFmpeg command for subtitle embedding...\n",
            "Translated SRT file: 0b3f96af-0d16-4ffa-a81f-bd2274bb7aa0.srt\n",
            "675c21dd-4071-4d3c-bc54-2665ca29f572.srt\n"
          ]
        },
        {
          "output_type": "stream",
          "name": "stderr",
          "text": [
            "\u001b[32m2024-06-12 11:33:55.636\u001b[0m | \u001b[1mINFO    \u001b[0m | \u001b[36m__main__\u001b[0m:\u001b[36mignite_video_processing\u001b[0m:\u001b[36m8\u001b[0m - \u001b[1mUsing target lagnuage code Russian\u001b[0m\n"
          ]
        },
        {
          "output_type": "stream",
          "name": "stdout",
          "text": [
            "Validating FFmpeg command for subtitle embedding...\n",
            "Translated SRT file: 675c21dd-4071-4d3c-bc54-2665ca29f572.srt\n",
            "175f10ae-f082-4776-9af8-9cc9fbb745c5.srt\n"
          ]
        },
        {
          "output_type": "stream",
          "name": "stderr",
          "text": [
            "\u001b[32m2024-06-12 11:33:59.332\u001b[0m | \u001b[1mINFO    \u001b[0m | \u001b[36m__main__\u001b[0m:\u001b[36mignite_video_processing\u001b[0m:\u001b[36m8\u001b[0m - \u001b[1mUsing target lagnuage code Russian\u001b[0m\n"
          ]
        },
        {
          "output_type": "stream",
          "name": "stdout",
          "text": [
            "Validating FFmpeg command for subtitle embedding...\n",
            "Translated SRT file: 175f10ae-f082-4776-9af8-9cc9fbb745c5.srt\n",
            "58a3a774-4573-4580-941e-c2412fdf5ce2.srt\n"
          ]
        },
        {
          "output_type": "stream",
          "name": "stderr",
          "text": [
            "\u001b[32m2024-06-12 11:34:01.315\u001b[0m | \u001b[1mINFO    \u001b[0m | \u001b[36m__main__\u001b[0m:\u001b[36mignite_video_processing\u001b[0m:\u001b[36m8\u001b[0m - \u001b[1mUsing target lagnuage code Russian\u001b[0m\n"
          ]
        },
        {
          "output_type": "stream",
          "name": "stdout",
          "text": [
            "Validating FFmpeg command for subtitle embedding...\n",
            "Translated SRT file: 58a3a774-4573-4580-941e-c2412fdf5ce2.srt\n",
            "6b6f507d-9722-46dc-b222-19ab442833ed.srt\n"
          ]
        },
        {
          "output_type": "stream",
          "name": "stderr",
          "text": [
            "\u001b[32m2024-06-12 11:34:04.004\u001b[0m | \u001b[1mINFO    \u001b[0m | \u001b[36m__main__\u001b[0m:\u001b[36mignite_video_processing\u001b[0m:\u001b[36m8\u001b[0m - \u001b[1mUsing target lagnuage code Russian\u001b[0m\n"
          ]
        },
        {
          "output_type": "stream",
          "name": "stdout",
          "text": [
            "Validating FFmpeg command for subtitle embedding...\n",
            "Translated SRT file: 6b6f507d-9722-46dc-b222-19ab442833ed.srt\n",
            "13b87f9c-1ede-4cf7-ac19-199c6eb7afe7.srt\n"
          ]
        },
        {
          "output_type": "stream",
          "name": "stderr",
          "text": [
            "\u001b[32m2024-06-12 11:34:05.413\u001b[0m | \u001b[1mINFO    \u001b[0m | \u001b[36m__main__\u001b[0m:\u001b[36mignite_video_processing\u001b[0m:\u001b[36m8\u001b[0m - \u001b[1mUsing target lagnuage code Russian\u001b[0m\n"
          ]
        },
        {
          "output_type": "stream",
          "name": "stdout",
          "text": [
            "Validating FFmpeg command for subtitle embedding...\n",
            "Translated SRT file: 13b87f9c-1ede-4cf7-ac19-199c6eb7afe7.srt\n",
            "3ea9f84e-a2ef-452d-a27b-4e552f2c856c.srt\n"
          ]
        },
        {
          "output_type": "stream",
          "name": "stderr",
          "text": [
            "\u001b[32m2024-06-12 11:34:11.762\u001b[0m | \u001b[1mINFO    \u001b[0m | \u001b[36m__main__\u001b[0m:\u001b[36mignite_video_processing\u001b[0m:\u001b[36m8\u001b[0m - \u001b[1mUsing target lagnuage code Russian\u001b[0m\n"
          ]
        },
        {
          "output_type": "stream",
          "name": "stdout",
          "text": [
            "Validating FFmpeg command for subtitle embedding...\n",
            "Translated SRT file: 3ea9f84e-a2ef-452d-a27b-4e552f2c856c.srt\n",
            "c1ee1f75-03ad-4e31-9bab-00b0796a30f1.srt\n"
          ]
        },
        {
          "output_type": "stream",
          "name": "stderr",
          "text": [
            "\u001b[32m2024-06-12 11:34:14.501\u001b[0m | \u001b[1mINFO    \u001b[0m | \u001b[36m__main__\u001b[0m:\u001b[36mignite_video_processing\u001b[0m:\u001b[36m8\u001b[0m - \u001b[1mUsing target lagnuage code Russian\u001b[0m\n"
          ]
        },
        {
          "output_type": "stream",
          "name": "stdout",
          "text": [
            "Validating FFmpeg command for subtitle embedding...\n",
            "Translated SRT file: c1ee1f75-03ad-4e31-9bab-00b0796a30f1.srt\n",
            "e5f6816b-e5d9-4bb8-bc65-cceba280bc21.srt\n"
          ]
        },
        {
          "output_type": "stream",
          "name": "stderr",
          "text": [
            "\u001b[32m2024-06-12 11:34:18.106\u001b[0m | \u001b[1mINFO    \u001b[0m | \u001b[36m__main__\u001b[0m:\u001b[36mignite_video_processing\u001b[0m:\u001b[36m8\u001b[0m - \u001b[1mUsing target lagnuage code Russian\u001b[0m\n"
          ]
        },
        {
          "output_type": "stream",
          "name": "stdout",
          "text": [
            "Validating FFmpeg command for subtitle embedding...\n",
            "Translated SRT file: e5f6816b-e5d9-4bb8-bc65-cceba280bc21.srt\n",
            "6d941e18-1be9-48a9-b304-d319ecaaf1a7.srt\n"
          ]
        },
        {
          "output_type": "stream",
          "name": "stderr",
          "text": [
            "\u001b[32m2024-06-12 11:34:22.737\u001b[0m | \u001b[1mINFO    \u001b[0m | \u001b[36m__main__\u001b[0m:\u001b[36mignite_video_processing\u001b[0m:\u001b[36m8\u001b[0m - \u001b[1mUsing target lagnuage code Russian\u001b[0m\n"
          ]
        },
        {
          "output_type": "stream",
          "name": "stdout",
          "text": [
            "Validating FFmpeg command for subtitle embedding...\n",
            "Translated SRT file: 6d941e18-1be9-48a9-b304-d319ecaaf1a7.srt\n",
            "5ae9241b-69c2-426e-949e-59461d73c034.srt\n"
          ]
        },
        {
          "output_type": "stream",
          "name": "stderr",
          "text": [
            "\u001b[32m2024-06-12 11:34:24.598\u001b[0m | \u001b[1mINFO    \u001b[0m | \u001b[36m__main__\u001b[0m:\u001b[36mignite_video_processing\u001b[0m:\u001b[36m8\u001b[0m - \u001b[1mUsing target lagnuage code Russian\u001b[0m\n"
          ]
        },
        {
          "output_type": "stream",
          "name": "stdout",
          "text": [
            "Validating FFmpeg command for subtitle embedding...\n",
            "Translated SRT file: 5ae9241b-69c2-426e-949e-59461d73c034.srt\n",
            "75376899-38f9-4641-ba14-280963834449.srt\n"
          ]
        },
        {
          "output_type": "stream",
          "name": "stderr",
          "text": [
            "\u001b[32m2024-06-12 11:34:31.906\u001b[0m | \u001b[1mINFO    \u001b[0m | \u001b[36m__main__\u001b[0m:\u001b[36mignite_video_processing\u001b[0m:\u001b[36m8\u001b[0m - \u001b[1mUsing target lagnuage code Russian\u001b[0m\n"
          ]
        },
        {
          "output_type": "stream",
          "name": "stdout",
          "text": [
            "Validating FFmpeg command for subtitle embedding...\n",
            "Translated SRT file: 75376899-38f9-4641-ba14-280963834449.srt\n",
            "5198d17d-ae95-4f59-8375-3bb02d87c53f.srt\n"
          ]
        },
        {
          "output_type": "stream",
          "name": "stderr",
          "text": [
            "\u001b[32m2024-06-12 11:34:36.476\u001b[0m | \u001b[1mINFO    \u001b[0m | \u001b[36m__main__\u001b[0m:\u001b[36mignite_video_processing\u001b[0m:\u001b[36m8\u001b[0m - \u001b[1mUsing target lagnuage code Russian\u001b[0m\n"
          ]
        },
        {
          "output_type": "stream",
          "name": "stdout",
          "text": [
            "Validating FFmpeg command for subtitle embedding...\n",
            "Translated SRT file: 5198d17d-ae95-4f59-8375-3bb02d87c53f.srt\n",
            "3f4e510b-06ba-402b-9f79-be4a913b1fbe.srt\n"
          ]
        },
        {
          "output_type": "stream",
          "name": "stderr",
          "text": [
            "\u001b[32m2024-06-12 11:34:40.518\u001b[0m | \u001b[1mINFO    \u001b[0m | \u001b[36m__main__\u001b[0m:\u001b[36mignite_video_processing\u001b[0m:\u001b[36m8\u001b[0m - \u001b[1mUsing target lagnuage code Russian\u001b[0m\n"
          ]
        },
        {
          "output_type": "stream",
          "name": "stdout",
          "text": [
            "Validating FFmpeg command for subtitle embedding...\n",
            "Translated SRT file: 3f4e510b-06ba-402b-9f79-be4a913b1fbe.srt\n",
            "b5c0e1c7-e430-4be7-8810-983c0a12dc80.srt\n"
          ]
        },
        {
          "output_type": "stream",
          "name": "stderr",
          "text": [
            "\u001b[32m2024-06-12 11:34:46.348\u001b[0m | \u001b[1mINFO    \u001b[0m | \u001b[36m__main__\u001b[0m:\u001b[36mignite_video_processing\u001b[0m:\u001b[36m8\u001b[0m - \u001b[1mUsing target lagnuage code Russian\u001b[0m\n"
          ]
        },
        {
          "output_type": "stream",
          "name": "stdout",
          "text": [
            "Validating FFmpeg command for subtitle embedding...\n",
            "Translated SRT file: b5c0e1c7-e430-4be7-8810-983c0a12dc80.srt\n",
            "9b10e546-3e80-40ae-87b1-7788169f2821.srt\n",
            "Validating FFmpeg command for subtitle embedding...\n",
            "Translated SRT file: 9b10e546-3e80-40ae-87b1-7788169f2821.srt\n"
          ]
        },
        {
          "output_type": "stream",
          "name": "stderr",
          "text": [
            "\u001b[32m2024-06-12 11:34:55.989\u001b[0m | \u001b[1mINFO    \u001b[0m | \u001b[36m__main__\u001b[0m:\u001b[36mignite_video_processing\u001b[0m:\u001b[36m8\u001b[0m - \u001b[1mUsing target lagnuage code Russian\u001b[0m\n"
          ]
        },
        {
          "output_type": "stream",
          "name": "stdout",
          "text": [
            "8653f633-dbad-4cc5-84be-80b7c685c1ba.srt\n"
          ]
        },
        {
          "output_type": "stream",
          "name": "stderr",
          "text": [
            "\u001b[32m2024-06-12 11:34:59.912\u001b[0m | \u001b[1mINFO    \u001b[0m | \u001b[36m__main__\u001b[0m:\u001b[36mignite_video_processing\u001b[0m:\u001b[36m8\u001b[0m - \u001b[1mUsing target lagnuage code Russian\u001b[0m\n"
          ]
        },
        {
          "output_type": "stream",
          "name": "stdout",
          "text": [
            "Validating FFmpeg command for subtitle embedding...\n",
            "Translated SRT file: 8653f633-dbad-4cc5-84be-80b7c685c1ba.srt\n",
            "6866ce8a-13ea-4ea7-93da-23da08eb9df5.srt\n"
          ]
        },
        {
          "output_type": "stream",
          "name": "stderr",
          "text": [
            "\u001b[32m2024-06-12 11:35:06.267\u001b[0m | \u001b[1mINFO    \u001b[0m | \u001b[36m__main__\u001b[0m:\u001b[36mignite_video_processing\u001b[0m:\u001b[36m8\u001b[0m - \u001b[1mUsing target lagnuage code Russian\u001b[0m\n"
          ]
        },
        {
          "output_type": "stream",
          "name": "stdout",
          "text": [
            "Validating FFmpeg command for subtitle embedding...\n",
            "Translated SRT file: 6866ce8a-13ea-4ea7-93da-23da08eb9df5.srt\n",
            "8562b2ff-fca7-47fa-aaba-3c043aeba4d5.srt\n"
          ]
        },
        {
          "output_type": "stream",
          "name": "stderr",
          "text": [
            "\u001b[32m2024-06-12 11:35:09.757\u001b[0m | \u001b[1mINFO    \u001b[0m | \u001b[36m__main__\u001b[0m:\u001b[36mignite_video_processing\u001b[0m:\u001b[36m8\u001b[0m - \u001b[1mUsing target lagnuage code Russian\u001b[0m\n"
          ]
        },
        {
          "output_type": "stream",
          "name": "stdout",
          "text": [
            "Validating FFmpeg command for subtitle embedding...\n",
            "Translated SRT file: 8562b2ff-fca7-47fa-aaba-3c043aeba4d5.srt\n",
            "d4fe62d9-718a-4caa-974b-3ae484503684.srt\n"
          ]
        },
        {
          "output_type": "stream",
          "name": "stderr",
          "text": [
            "\u001b[32m2024-06-12 11:35:16.205\u001b[0m | \u001b[1mINFO    \u001b[0m | \u001b[36m__main__\u001b[0m:\u001b[36mignite_video_processing\u001b[0m:\u001b[36m8\u001b[0m - \u001b[1mUsing target lagnuage code Russian\u001b[0m\n"
          ]
        },
        {
          "output_type": "stream",
          "name": "stdout",
          "text": [
            "Validating FFmpeg command for subtitle embedding...\n",
            "Translated SRT file: d4fe62d9-718a-4caa-974b-3ae484503684.srt\n",
            "dbcad216-3daa-4937-8593-fd3e8fb987f2.srt\n"
          ]
        },
        {
          "output_type": "stream",
          "name": "stderr",
          "text": [
            "\u001b[32m2024-06-12 11:35:18.851\u001b[0m | \u001b[1mINFO    \u001b[0m | \u001b[36m__main__\u001b[0m:\u001b[36mignite_video_processing\u001b[0m:\u001b[36m8\u001b[0m - \u001b[1mUsing target lagnuage code Russian\u001b[0m\n"
          ]
        },
        {
          "output_type": "stream",
          "name": "stdout",
          "text": [
            "Validating FFmpeg command for subtitle embedding...\n",
            "Translated SRT file: dbcad216-3daa-4937-8593-fd3e8fb987f2.srt\n",
            "9d6597b1-abef-4245-bd23-7f73793ffc34.srt\n"
          ]
        },
        {
          "output_type": "stream",
          "name": "stderr",
          "text": [
            "\u001b[32m2024-06-12 11:35:20.141\u001b[0m | \u001b[1mINFO    \u001b[0m | \u001b[36m__main__\u001b[0m:\u001b[36mignite_video_processing\u001b[0m:\u001b[36m8\u001b[0m - \u001b[1mUsing target lagnuage code Russian\u001b[0m\n"
          ]
        },
        {
          "output_type": "stream",
          "name": "stdout",
          "text": [
            "Validating FFmpeg command for subtitle embedding...\n",
            "Translated SRT file: 9d6597b1-abef-4245-bd23-7f73793ffc34.srt\n",
            "168e05fb-ad78-4e6d-bfd6-cafa79ec035b.srt\n"
          ]
        },
        {
          "output_type": "stream",
          "name": "stderr",
          "text": [
            "\u001b[32m2024-06-12 11:35:24.133\u001b[0m | \u001b[1mINFO    \u001b[0m | \u001b[36m__main__\u001b[0m:\u001b[36mignite_video_processing\u001b[0m:\u001b[36m8\u001b[0m - \u001b[1mUsing target lagnuage code Russian\u001b[0m\n"
          ]
        },
        {
          "output_type": "stream",
          "name": "stdout",
          "text": [
            "Validating FFmpeg command for subtitle embedding...\n",
            "Translated SRT file: 168e05fb-ad78-4e6d-bfd6-cafa79ec035b.srt\n",
            "a55bdc51-cf2a-49be-bba9-efd1ddc989d8.srt\n"
          ]
        },
        {
          "output_type": "stream",
          "name": "stderr",
          "text": [
            "\u001b[32m2024-06-12 11:35:26.495\u001b[0m | \u001b[1mINFO    \u001b[0m | \u001b[36m__main__\u001b[0m:\u001b[36mignite_video_processing\u001b[0m:\u001b[36m8\u001b[0m - \u001b[1mUsing target lagnuage code Russian\u001b[0m\n"
          ]
        },
        {
          "output_type": "stream",
          "name": "stdout",
          "text": [
            "Validating FFmpeg command for subtitle embedding...\n",
            "Translated SRT file: a55bdc51-cf2a-49be-bba9-efd1ddc989d8.srt\n",
            "c9c5c7ac-41b9-4141-b481-efef159f5071.srt\n"
          ]
        },
        {
          "output_type": "stream",
          "name": "stderr",
          "text": [
            "\u001b[32m2024-06-12 11:35:40.803\u001b[0m | \u001b[1mINFO    \u001b[0m | \u001b[36m__main__\u001b[0m:\u001b[36mignite_video_processing\u001b[0m:\u001b[36m8\u001b[0m - \u001b[1mUsing target lagnuage code Russian\u001b[0m\n"
          ]
        },
        {
          "output_type": "stream",
          "name": "stdout",
          "text": [
            "Validating FFmpeg command for subtitle embedding...\n",
            "Translated SRT file: c9c5c7ac-41b9-4141-b481-efef159f5071.srt\n",
            "87085c1c-ff65-4e23-89f7-2b439f72705c.srt\n"
          ]
        },
        {
          "output_type": "stream",
          "name": "stderr",
          "text": [
            "\u001b[32m2024-06-12 11:35:44.019\u001b[0m | \u001b[1mINFO    \u001b[0m | \u001b[36m__main__\u001b[0m:\u001b[36mignite_video_processing\u001b[0m:\u001b[36m8\u001b[0m - \u001b[1mUsing target lagnuage code Russian\u001b[0m\n"
          ]
        },
        {
          "output_type": "stream",
          "name": "stdout",
          "text": [
            "Validating FFmpeg command for subtitle embedding...\n",
            "Translated SRT file: 87085c1c-ff65-4e23-89f7-2b439f72705c.srt\n",
            "b1149c59-88bf-4777-bb25-c1b01fd8d6d1.srt\n"
          ]
        },
        {
          "output_type": "stream",
          "name": "stderr",
          "text": [
            "\u001b[32m2024-06-12 11:35:46.975\u001b[0m | \u001b[1mINFO    \u001b[0m | \u001b[36m__main__\u001b[0m:\u001b[36mignite_video_processing\u001b[0m:\u001b[36m8\u001b[0m - \u001b[1mUsing target lagnuage code Russian\u001b[0m\n"
          ]
        },
        {
          "output_type": "stream",
          "name": "stdout",
          "text": [
            "Validating FFmpeg command for subtitle embedding...\n",
            "Translated SRT file: b1149c59-88bf-4777-bb25-c1b01fd8d6d1.srt\n",
            "29f3cf19-f5aa-488b-8c07-a69ea03f7a28.srt\n"
          ]
        },
        {
          "output_type": "stream",
          "name": "stderr",
          "text": [
            "\u001b[32m2024-06-12 11:35:52.912\u001b[0m | \u001b[1mINFO    \u001b[0m | \u001b[36m__main__\u001b[0m:\u001b[36mignite_video_processing\u001b[0m:\u001b[36m8\u001b[0m - \u001b[1mUsing target lagnuage code Russian\u001b[0m\n"
          ]
        },
        {
          "output_type": "stream",
          "name": "stdout",
          "text": [
            "Validating FFmpeg command for subtitle embedding...\n",
            "Translated SRT file: 29f3cf19-f5aa-488b-8c07-a69ea03f7a28.srt\n",
            "7aafa2ad-02a1-4568-a825-51ee24e10cfd.srt\n"
          ]
        },
        {
          "output_type": "stream",
          "name": "stderr",
          "text": [
            "\u001b[32m2024-06-12 11:35:57.553\u001b[0m | \u001b[1mINFO    \u001b[0m | \u001b[36m__main__\u001b[0m:\u001b[36mignite_video_processing\u001b[0m:\u001b[36m8\u001b[0m - \u001b[1mUsing target lagnuage code Russian\u001b[0m\n"
          ]
        },
        {
          "output_type": "stream",
          "name": "stdout",
          "text": [
            "Validating FFmpeg command for subtitle embedding...\n",
            "Translated SRT file: 7aafa2ad-02a1-4568-a825-51ee24e10cfd.srt\n",
            "58eb18a4-77d6-41f7-bc5a-9563b6607639.srt\n"
          ]
        },
        {
          "output_type": "stream",
          "name": "stderr",
          "text": [
            "\u001b[32m2024-06-12 11:36:03.273\u001b[0m | \u001b[1mINFO    \u001b[0m | \u001b[36m__main__\u001b[0m:\u001b[36mignite_video_processing\u001b[0m:\u001b[36m8\u001b[0m - \u001b[1mUsing target lagnuage code Russian\u001b[0m\n"
          ]
        },
        {
          "output_type": "stream",
          "name": "stdout",
          "text": [
            "Validating FFmpeg command for subtitle embedding...\n",
            "Translated SRT file: 58eb18a4-77d6-41f7-bc5a-9563b6607639.srt\n",
            "4b15026b-a9f7-4763-b2e8-65d101236378.srt\n"
          ]
        },
        {
          "output_type": "stream",
          "name": "stderr",
          "text": [
            "\u001b[32m2024-06-12 11:36:07.134\u001b[0m | \u001b[1mINFO    \u001b[0m | \u001b[36m__main__\u001b[0m:\u001b[36mignite_video_processing\u001b[0m:\u001b[36m8\u001b[0m - \u001b[1mUsing target lagnuage code Russian\u001b[0m\n"
          ]
        },
        {
          "output_type": "stream",
          "name": "stdout",
          "text": [
            "Validating FFmpeg command for subtitle embedding...\n",
            "Translated SRT file: 4b15026b-a9f7-4763-b2e8-65d101236378.srt\n",
            "e7b32e0c-cff8-4ebe-8cdc-54e632f0f1d9.srt\n",
            "Validating FFmpeg command for subtitle embedding...\n",
            "Translated SRT file: e7b32e0c-cff8-4ebe-8cdc-54e632f0f1d9.srt\n"
          ]
        },
        {
          "output_type": "stream",
          "name": "stderr",
          "text": [
            "\u001b[32m2024-06-12 11:36:18.202\u001b[0m | \u001b[1mINFO    \u001b[0m | \u001b[36m__main__\u001b[0m:\u001b[36mignite_video_processing\u001b[0m:\u001b[36m8\u001b[0m - \u001b[1mUsing target lagnuage code Russian\u001b[0m\n"
          ]
        },
        {
          "output_type": "stream",
          "name": "stdout",
          "text": [
            "5b833064-8538-4f01-8ca6-e8d829e4a27b.srt\n"
          ]
        },
        {
          "output_type": "stream",
          "name": "stderr",
          "text": [
            "\u001b[32m2024-06-12 11:36:32.851\u001b[0m | \u001b[1mINFO    \u001b[0m | \u001b[36m__main__\u001b[0m:\u001b[36mignite_video_processing\u001b[0m:\u001b[36m8\u001b[0m - \u001b[1mUsing target lagnuage code Russian\u001b[0m\n"
          ]
        },
        {
          "output_type": "stream",
          "name": "stdout",
          "text": [
            "Validating FFmpeg command for subtitle embedding...\n",
            "Translated SRT file: 5b833064-8538-4f01-8ca6-e8d829e4a27b.srt\n",
            "a1bd7860-cfe2-4b47-b60b-f9d85312a1ee.srt\n"
          ]
        },
        {
          "output_type": "stream",
          "name": "stderr",
          "text": [
            "\u001b[32m2024-06-12 11:36:39.503\u001b[0m | \u001b[1mINFO    \u001b[0m | \u001b[36m__main__\u001b[0m:\u001b[36mignite_video_processing\u001b[0m:\u001b[36m8\u001b[0m - \u001b[1mUsing target lagnuage code Russian\u001b[0m\n"
          ]
        },
        {
          "output_type": "stream",
          "name": "stdout",
          "text": [
            "Validating FFmpeg command for subtitle embedding...\n",
            "Translated SRT file: a1bd7860-cfe2-4b47-b60b-f9d85312a1ee.srt\n",
            "4988147e-f08e-4191-858c-845cd8703b5d.srt\n"
          ]
        },
        {
          "output_type": "stream",
          "name": "stderr",
          "text": [
            "\u001b[32m2024-06-12 11:36:40.996\u001b[0m | \u001b[1mINFO    \u001b[0m | \u001b[36m__main__\u001b[0m:\u001b[36mignite_video_processing\u001b[0m:\u001b[36m8\u001b[0m - \u001b[1mUsing target lagnuage code Russian\u001b[0m\n"
          ]
        },
        {
          "output_type": "stream",
          "name": "stdout",
          "text": [
            "Validating FFmpeg command for subtitle embedding...\n",
            "Translated SRT file: 4988147e-f08e-4191-858c-845cd8703b5d.srt\n",
            "2f77b0b1-fa49-4a73-b377-ffcbc6f89c9a.srt\n"
          ]
        },
        {
          "output_type": "stream",
          "name": "stderr",
          "text": [
            "\u001b[32m2024-06-12 11:36:41.820\u001b[0m | \u001b[1mINFO    \u001b[0m | \u001b[36m__main__\u001b[0m:\u001b[36mignite_video_processing\u001b[0m:\u001b[36m8\u001b[0m - \u001b[1mUsing target lagnuage code Russian\u001b[0m\n"
          ]
        },
        {
          "output_type": "stream",
          "name": "stdout",
          "text": [
            "Validating FFmpeg command for subtitle embedding...\n",
            "Translated SRT file: 2f77b0b1-fa49-4a73-b377-ffcbc6f89c9a.srt\n",
            "15e9c425-e14c-4a84-8732-47458cc12e2b.srt\n"
          ]
        },
        {
          "output_type": "stream",
          "name": "stderr",
          "text": [
            "\u001b[32m2024-06-12 11:36:45.462\u001b[0m | \u001b[1mINFO    \u001b[0m | \u001b[36m__main__\u001b[0m:\u001b[36mignite_video_processing\u001b[0m:\u001b[36m8\u001b[0m - \u001b[1mUsing target lagnuage code Russian\u001b[0m\n"
          ]
        },
        {
          "output_type": "stream",
          "name": "stdout",
          "text": [
            "Validating FFmpeg command for subtitle embedding...\n",
            "Translated SRT file: 15e9c425-e14c-4a84-8732-47458cc12e2b.srt\n",
            "121cd3fb-e32c-498f-9e51-dd0a337818bb.srt\n"
          ]
        },
        {
          "output_type": "stream",
          "name": "stderr",
          "text": [
            "\u001b[32m2024-06-12 11:36:49.649\u001b[0m | \u001b[1mINFO    \u001b[0m | \u001b[36m__main__\u001b[0m:\u001b[36mignite_video_processing\u001b[0m:\u001b[36m8\u001b[0m - \u001b[1mUsing target lagnuage code Russian\u001b[0m\n"
          ]
        },
        {
          "output_type": "stream",
          "name": "stdout",
          "text": [
            "Validating FFmpeg command for subtitle embedding...\n",
            "Translated SRT file: 121cd3fb-e32c-498f-9e51-dd0a337818bb.srt\n",
            "d041684e-65af-4c40-b93b-1b64e90047cd.srt\n"
          ]
        },
        {
          "output_type": "stream",
          "name": "stderr",
          "text": [
            "\u001b[32m2024-06-12 11:36:53.120\u001b[0m | \u001b[1mINFO    \u001b[0m | \u001b[36m__main__\u001b[0m:\u001b[36mignite_video_processing\u001b[0m:\u001b[36m8\u001b[0m - \u001b[1mUsing target lagnuage code Russian\u001b[0m\n"
          ]
        },
        {
          "output_type": "stream",
          "name": "stdout",
          "text": [
            "Validating FFmpeg command for subtitle embedding...\n",
            "Translated SRT file: d041684e-65af-4c40-b93b-1b64e90047cd.srt\n",
            "581ae993-2247-4099-8ba8-7d2bbae811ed.srt\n"
          ]
        },
        {
          "output_type": "stream",
          "name": "stderr",
          "text": [
            "\u001b[32m2024-06-12 11:36:55.155\u001b[0m | \u001b[1mINFO    \u001b[0m | \u001b[36m__main__\u001b[0m:\u001b[36mignite_video_processing\u001b[0m:\u001b[36m8\u001b[0m - \u001b[1mUsing target lagnuage code Russian\u001b[0m\n"
          ]
        },
        {
          "output_type": "stream",
          "name": "stdout",
          "text": [
            "Validating FFmpeg command for subtitle embedding...\n",
            "Translated SRT file: 581ae993-2247-4099-8ba8-7d2bbae811ed.srt\n",
            "b5672c3e-0014-45b0-b47f-5a3c86c18881.srt\n"
          ]
        },
        {
          "output_type": "stream",
          "name": "stderr",
          "text": [
            "\u001b[32m2024-06-12 11:37:03.200\u001b[0m | \u001b[1mINFO    \u001b[0m | \u001b[36m__main__\u001b[0m:\u001b[36mignite_video_processing\u001b[0m:\u001b[36m8\u001b[0m - \u001b[1mUsing target lagnuage code Russian\u001b[0m\n"
          ]
        },
        {
          "output_type": "stream",
          "name": "stdout",
          "text": [
            "Validating FFmpeg command for subtitle embedding...\n",
            "Translated SRT file: b5672c3e-0014-45b0-b47f-5a3c86c18881.srt\n",
            "0118d23a-4ad0-4127-b8fd-f4dbcead58f8.srt\n"
          ]
        },
        {
          "output_type": "stream",
          "name": "stderr",
          "text": [
            "\u001b[32m2024-06-12 11:37:07.055\u001b[0m | \u001b[1mINFO    \u001b[0m | \u001b[36m__main__\u001b[0m:\u001b[36mignite_video_processing\u001b[0m:\u001b[36m8\u001b[0m - \u001b[1mUsing target lagnuage code Russian\u001b[0m\n"
          ]
        },
        {
          "output_type": "stream",
          "name": "stdout",
          "text": [
            "Validating FFmpeg command for subtitle embedding...\n",
            "Translated SRT file: 0118d23a-4ad0-4127-b8fd-f4dbcead58f8.srt\n",
            "c78c9953-9622-43ce-8d4c-e0b364aba675.srt\n"
          ]
        },
        {
          "output_type": "stream",
          "name": "stderr",
          "text": [
            "\u001b[32m2024-06-12 11:37:13.346\u001b[0m | \u001b[1mINFO    \u001b[0m | \u001b[36m__main__\u001b[0m:\u001b[36mignite_video_processing\u001b[0m:\u001b[36m8\u001b[0m - \u001b[1mUsing target lagnuage code Russian\u001b[0m\n"
          ]
        },
        {
          "output_type": "stream",
          "name": "stdout",
          "text": [
            "Validating FFmpeg command for subtitle embedding...\n",
            "Translated SRT file: c78c9953-9622-43ce-8d4c-e0b364aba675.srt\n",
            "daf84994-919b-445b-83e8-70fd0a18de20.srt\n"
          ]
        },
        {
          "output_type": "stream",
          "name": "stderr",
          "text": [
            "\u001b[32m2024-06-12 11:37:17.300\u001b[0m | \u001b[1mINFO    \u001b[0m | \u001b[36m__main__\u001b[0m:\u001b[36mignite_video_processing\u001b[0m:\u001b[36m8\u001b[0m - \u001b[1mUsing target lagnuage code Russian\u001b[0m\n"
          ]
        },
        {
          "output_type": "stream",
          "name": "stdout",
          "text": [
            "Validating FFmpeg command for subtitle embedding...\n",
            "Translated SRT file: daf84994-919b-445b-83e8-70fd0a18de20.srt\n",
            "821468e9-afde-47ca-8331-ae736b771af3.srt\n"
          ]
        },
        {
          "output_type": "stream",
          "name": "stderr",
          "text": [
            "\u001b[32m2024-06-12 11:37:19.513\u001b[0m | \u001b[1mINFO    \u001b[0m | \u001b[36m__main__\u001b[0m:\u001b[36mignite_video_processing\u001b[0m:\u001b[36m8\u001b[0m - \u001b[1mUsing target lagnuage code Russian\u001b[0m\n"
          ]
        },
        {
          "output_type": "stream",
          "name": "stdout",
          "text": [
            "Validating FFmpeg command for subtitle embedding...\n",
            "Translated SRT file: 821468e9-afde-47ca-8331-ae736b771af3.srt\n",
            "edc98c6f-9394-4a5f-827d-f697d12dd0ac.srt\n"
          ]
        },
        {
          "output_type": "stream",
          "name": "stderr",
          "text": [
            "\u001b[32m2024-06-12 11:37:22.924\u001b[0m | \u001b[1mINFO    \u001b[0m | \u001b[36m__main__\u001b[0m:\u001b[36mignite_video_processing\u001b[0m:\u001b[36m8\u001b[0m - \u001b[1mUsing target lagnuage code Russian\u001b[0m\n"
          ]
        },
        {
          "output_type": "stream",
          "name": "stdout",
          "text": [
            "Validating FFmpeg command for subtitle embedding...\n",
            "Translated SRT file: edc98c6f-9394-4a5f-827d-f697d12dd0ac.srt\n",
            "88a4262f-dec7-4d58-9274-66329e0ca07d.srt\n"
          ]
        },
        {
          "output_type": "stream",
          "name": "stderr",
          "text": [
            "\u001b[32m2024-06-12 11:37:23.943\u001b[0m | \u001b[1mINFO    \u001b[0m | \u001b[36m__main__\u001b[0m:\u001b[36mignite_video_processing\u001b[0m:\u001b[36m8\u001b[0m - \u001b[1mUsing target lagnuage code Russian\u001b[0m\n"
          ]
        },
        {
          "output_type": "stream",
          "name": "stdout",
          "text": [
            "Validating FFmpeg command for subtitle embedding...\n",
            "Translated SRT file: 88a4262f-dec7-4d58-9274-66329e0ca07d.srt\n",
            "57b94e3c-e1fa-4e68-8263-1d6e5b68be00.srt\n",
            "Validating FFmpeg command for subtitle embedding...\n",
            "Translated SRT file: 57b94e3c-e1fa-4e68-8263-1d6e5b68be00.srt\n"
          ]
        },
        {
          "output_type": "stream",
          "name": "stderr",
          "text": [
            "\u001b[32m2024-06-12 11:37:34.379\u001b[0m | \u001b[1mINFO    \u001b[0m | \u001b[36m__main__\u001b[0m:\u001b[36mignite_video_processing\u001b[0m:\u001b[36m8\u001b[0m - \u001b[1mUsing target lagnuage code Russian\u001b[0m\n"
          ]
        },
        {
          "output_type": "stream",
          "name": "stdout",
          "text": [
            "d86803aa-1feb-499e-98af-2159392e074f.srt\n"
          ]
        },
        {
          "output_type": "stream",
          "name": "stderr",
          "text": [
            "\u001b[32m2024-06-12 11:37:50.768\u001b[0m | \u001b[1mINFO    \u001b[0m | \u001b[36m__main__\u001b[0m:\u001b[36mignite_video_processing\u001b[0m:\u001b[36m8\u001b[0m - \u001b[1mUsing target lagnuage code Russian\u001b[0m\n"
          ]
        },
        {
          "output_type": "stream",
          "name": "stdout",
          "text": [
            "Validating FFmpeg command for subtitle embedding...\n",
            "Translated SRT file: d86803aa-1feb-499e-98af-2159392e074f.srt\n",
            "8dbdf44b-a8db-40b1-ad91-433756eee5e9.srt\n"
          ]
        },
        {
          "output_type": "stream",
          "name": "stderr",
          "text": [
            "\u001b[32m2024-06-12 11:37:54.171\u001b[0m | \u001b[1mINFO    \u001b[0m | \u001b[36m__main__\u001b[0m:\u001b[36mignite_video_processing\u001b[0m:\u001b[36m8\u001b[0m - \u001b[1mUsing target lagnuage code Russian\u001b[0m\n"
          ]
        },
        {
          "output_type": "stream",
          "name": "stdout",
          "text": [
            "Validating FFmpeg command for subtitle embedding...\n",
            "Translated SRT file: 8dbdf44b-a8db-40b1-ad91-433756eee5e9.srt\n",
            "f4ca98ac-d0cd-4b63-8a3a-67e111d39fba.srt\n"
          ]
        },
        {
          "output_type": "stream",
          "name": "stderr",
          "text": [
            "\u001b[32m2024-06-12 11:37:56.206\u001b[0m | \u001b[1mINFO    \u001b[0m | \u001b[36m__main__\u001b[0m:\u001b[36mignite_video_processing\u001b[0m:\u001b[36m8\u001b[0m - \u001b[1mUsing target lagnuage code Russian\u001b[0m\n"
          ]
        },
        {
          "output_type": "stream",
          "name": "stdout",
          "text": [
            "Validating FFmpeg command for subtitle embedding...\n",
            "Translated SRT file: f4ca98ac-d0cd-4b63-8a3a-67e111d39fba.srt\n",
            "a2233f9b-e0f5-4307-8453-b963848ad4e9.srt\n"
          ]
        },
        {
          "output_type": "stream",
          "name": "stderr",
          "text": [
            "\u001b[32m2024-06-12 11:37:58.243\u001b[0m | \u001b[1mINFO    \u001b[0m | \u001b[36m__main__\u001b[0m:\u001b[36mignite_video_processing\u001b[0m:\u001b[36m8\u001b[0m - \u001b[1mUsing target lagnuage code Russian\u001b[0m\n"
          ]
        },
        {
          "output_type": "stream",
          "name": "stdout",
          "text": [
            "Validating FFmpeg command for subtitle embedding...\n",
            "Translated SRT file: a2233f9b-e0f5-4307-8453-b963848ad4e9.srt\n",
            "9cde2f74-8c8c-43b5-9769-43b84d72dcd2.srt\n"
          ]
        },
        {
          "output_type": "stream",
          "name": "stderr",
          "text": [
            "\u001b[32m2024-06-12 11:37:58.607\u001b[0m | \u001b[1mINFO    \u001b[0m | \u001b[36m__main__\u001b[0m:\u001b[36mignite_video_processing\u001b[0m:\u001b[36m8\u001b[0m - \u001b[1mUsing target lagnuage code Russian\u001b[0m\n"
          ]
        },
        {
          "output_type": "stream",
          "name": "stdout",
          "text": [
            "Validating FFmpeg command for subtitle embedding...\n",
            "Translated SRT file: 9cde2f74-8c8c-43b5-9769-43b84d72dcd2.srt\n",
            "93b6e014-2155-4553-b326-69b9af644c0c.srt\n"
          ]
        },
        {
          "output_type": "stream",
          "name": "stderr",
          "text": [
            "\u001b[32m2024-06-12 11:38:00.288\u001b[0m | \u001b[1mINFO    \u001b[0m | \u001b[36m__main__\u001b[0m:\u001b[36mignite_video_processing\u001b[0m:\u001b[36m8\u001b[0m - \u001b[1mUsing target lagnuage code Russian\u001b[0m\n"
          ]
        },
        {
          "output_type": "stream",
          "name": "stdout",
          "text": [
            "Validating FFmpeg command for subtitle embedding...\n",
            "Translated SRT file: 93b6e014-2155-4553-b326-69b9af644c0c.srt\n",
            "b628bf5f-ff1e-46a9-9fb2-7ad445317e92.srt\n"
          ]
        },
        {
          "output_type": "stream",
          "name": "stderr",
          "text": [
            "\u001b[32m2024-06-12 11:38:02.794\u001b[0m | \u001b[1mINFO    \u001b[0m | \u001b[36m__main__\u001b[0m:\u001b[36mignite_video_processing\u001b[0m:\u001b[36m8\u001b[0m - \u001b[1mUsing target lagnuage code Russian\u001b[0m\n"
          ]
        },
        {
          "output_type": "stream",
          "name": "stdout",
          "text": [
            "Validating FFmpeg command for subtitle embedding...\n",
            "Translated SRT file: b628bf5f-ff1e-46a9-9fb2-7ad445317e92.srt\n",
            "d2f6876a-782d-448d-bda9-7f87b86ea1da.srt\n"
          ]
        },
        {
          "output_type": "stream",
          "name": "stderr",
          "text": [
            "\u001b[32m2024-06-12 11:38:03.449\u001b[0m | \u001b[1mINFO    \u001b[0m | \u001b[36m__main__\u001b[0m:\u001b[36mignite_video_processing\u001b[0m:\u001b[36m8\u001b[0m - \u001b[1mUsing target lagnuage code Russian\u001b[0m\n"
          ]
        },
        {
          "output_type": "stream",
          "name": "stdout",
          "text": [
            "Validating FFmpeg command for subtitle embedding...\n",
            "Translated SRT file: d2f6876a-782d-448d-bda9-7f87b86ea1da.srt\n",
            "8929f081-b638-4747-805b-78846d160da3.srt\n"
          ]
        },
        {
          "output_type": "stream",
          "name": "stderr",
          "text": [
            "\u001b[32m2024-06-12 11:38:18.288\u001b[0m | \u001b[1mINFO    \u001b[0m | \u001b[36m__main__\u001b[0m:\u001b[36mignite_video_processing\u001b[0m:\u001b[36m8\u001b[0m - \u001b[1mUsing target lagnuage code Russian\u001b[0m\n"
          ]
        },
        {
          "output_type": "stream",
          "name": "stdout",
          "text": [
            "Validating FFmpeg command for subtitle embedding...\n",
            "Translated SRT file: 8929f081-b638-4747-805b-78846d160da3.srt\n",
            "12c4fba2-1815-4aed-9ef7-4cd6b5424270.srt\n"
          ]
        },
        {
          "output_type": "stream",
          "name": "stderr",
          "text": [
            "\u001b[32m2024-06-12 11:38:24.120\u001b[0m | \u001b[1mINFO    \u001b[0m | \u001b[36m__main__\u001b[0m:\u001b[36mignite_video_processing\u001b[0m:\u001b[36m8\u001b[0m - \u001b[1mUsing target lagnuage code Russian\u001b[0m\n"
          ]
        },
        {
          "output_type": "stream",
          "name": "stdout",
          "text": [
            "Validating FFmpeg command for subtitle embedding...\n",
            "Translated SRT file: 12c4fba2-1815-4aed-9ef7-4cd6b5424270.srt\n",
            "2162ab54-45ee-4567-a427-1905df024680.srt\n"
          ]
        },
        {
          "output_type": "stream",
          "name": "stderr",
          "text": [
            "\u001b[32m2024-06-12 11:38:29.926\u001b[0m | \u001b[1mINFO    \u001b[0m | \u001b[36m__main__\u001b[0m:\u001b[36mignite_video_processing\u001b[0m:\u001b[36m8\u001b[0m - \u001b[1mUsing target lagnuage code Russian\u001b[0m\n"
          ]
        },
        {
          "output_type": "stream",
          "name": "stdout",
          "text": [
            "Validating FFmpeg command for subtitle embedding...\n",
            "Translated SRT file: 2162ab54-45ee-4567-a427-1905df024680.srt\n",
            "a6f12b79-5ffe-4173-9c5b-390e4534d4f1.srt\n"
          ]
        },
        {
          "output_type": "stream",
          "name": "stderr",
          "text": [
            "\u001b[32m2024-06-12 11:38:30.733\u001b[0m | \u001b[1mINFO    \u001b[0m | \u001b[36m__main__\u001b[0m:\u001b[36mignite_video_processing\u001b[0m:\u001b[36m8\u001b[0m - \u001b[1mUsing target lagnuage code Russian\u001b[0m\n"
          ]
        },
        {
          "output_type": "stream",
          "name": "stdout",
          "text": [
            "Validating FFmpeg command for subtitle embedding...\n",
            "Translated SRT file: a6f12b79-5ffe-4173-9c5b-390e4534d4f1.srt\n",
            "1738bc64-b2d3-4c93-8bf3-a8263cbb6774.srt\n"
          ]
        },
        {
          "output_type": "stream",
          "name": "stderr",
          "text": [
            "\u001b[32m2024-06-12 11:38:36.216\u001b[0m | \u001b[1mINFO    \u001b[0m | \u001b[36m__main__\u001b[0m:\u001b[36mignite_video_processing\u001b[0m:\u001b[36m8\u001b[0m - \u001b[1mUsing target lagnuage code Russian\u001b[0m\n"
          ]
        },
        {
          "output_type": "stream",
          "name": "stdout",
          "text": [
            "Validating FFmpeg command for subtitle embedding...\n",
            "Translated SRT file: 1738bc64-b2d3-4c93-8bf3-a8263cbb6774.srt\n",
            "5f908c78-ad4e-46ab-89a2-193bb6955f14.srt\n"
          ]
        },
        {
          "output_type": "stream",
          "name": "stderr",
          "text": [
            "\u001b[32m2024-06-12 11:38:38.999\u001b[0m | \u001b[1mINFO    \u001b[0m | \u001b[36m__main__\u001b[0m:\u001b[36mignite_video_processing\u001b[0m:\u001b[36m8\u001b[0m - \u001b[1mUsing target lagnuage code Russian\u001b[0m\n"
          ]
        },
        {
          "output_type": "stream",
          "name": "stdout",
          "text": [
            "Validating FFmpeg command for subtitle embedding...\n",
            "Translated SRT file: 5f908c78-ad4e-46ab-89a2-193bb6955f14.srt\n",
            "f67a1b5c-917d-4a7d-a5eb-8e7cfab53ac5.srt\n"
          ]
        },
        {
          "output_type": "stream",
          "name": "stderr",
          "text": [
            "\u001b[32m2024-06-12 11:38:40.240\u001b[0m | \u001b[1mINFO    \u001b[0m | \u001b[36m__main__\u001b[0m:\u001b[36mignite_video_processing\u001b[0m:\u001b[36m8\u001b[0m - \u001b[1mUsing target lagnuage code Russian\u001b[0m\n"
          ]
        },
        {
          "output_type": "stream",
          "name": "stdout",
          "text": [
            "Validating FFmpeg command for subtitle embedding...\n",
            "Translated SRT file: f67a1b5c-917d-4a7d-a5eb-8e7cfab53ac5.srt\n",
            "a728d1b7-c7a3-43da-ace7-38c6980ea59f.srt\n",
            "Validating FFmpeg command for subtitle embedding...\n",
            "Translated SRT file: a728d1b7-c7a3-43da-ace7-38c6980ea59f.srt\n"
          ]
        },
        {
          "output_type": "stream",
          "name": "stderr",
          "text": [
            "\u001b[32m2024-06-12 11:38:48.700\u001b[0m | \u001b[1mINFO    \u001b[0m | \u001b[36m__main__\u001b[0m:\u001b[36mignite_video_processing\u001b[0m:\u001b[36m8\u001b[0m - \u001b[1mUsing target lagnuage code Russian\u001b[0m\n"
          ]
        },
        {
          "output_type": "stream",
          "name": "stdout",
          "text": [
            "01ded17b-dbd0-44a6-a2a1-fcab956d48df.srt\n"
          ]
        },
        {
          "output_type": "stream",
          "name": "stderr",
          "text": [
            "\u001b[32m2024-06-12 11:38:54.034\u001b[0m | \u001b[1mINFO    \u001b[0m | \u001b[36m__main__\u001b[0m:\u001b[36mignite_video_processing\u001b[0m:\u001b[36m8\u001b[0m - \u001b[1mUsing target lagnuage code Russian\u001b[0m\n"
          ]
        },
        {
          "output_type": "stream",
          "name": "stdout",
          "text": [
            "Validating FFmpeg command for subtitle embedding...\n",
            "Translated SRT file: 01ded17b-dbd0-44a6-a2a1-fcab956d48df.srt\n",
            "31504621-dbc5-4ca4-9172-45b556a9344a.srt\n"
          ]
        },
        {
          "output_type": "stream",
          "name": "stderr",
          "text": [
            "\u001b[32m2024-06-12 11:38:58.761\u001b[0m | \u001b[1mINFO    \u001b[0m | \u001b[36m__main__\u001b[0m:\u001b[36mignite_video_processing\u001b[0m:\u001b[36m8\u001b[0m - \u001b[1mUsing target lagnuage code Russian\u001b[0m\n"
          ]
        },
        {
          "output_type": "stream",
          "name": "stdout",
          "text": [
            "Validating FFmpeg command for subtitle embedding...\n",
            "Translated SRT file: 31504621-dbc5-4ca4-9172-45b556a9344a.srt\n",
            "5ea904d5-9f4b-4dc8-97d1-48b873154fe9.srt\n"
          ]
        },
        {
          "output_type": "stream",
          "name": "stderr",
          "text": [
            "\u001b[32m2024-06-12 11:39:04.067\u001b[0m | \u001b[1mINFO    \u001b[0m | \u001b[36m__main__\u001b[0m:\u001b[36mignite_video_processing\u001b[0m:\u001b[36m8\u001b[0m - \u001b[1mUsing target lagnuage code Russian\u001b[0m\n"
          ]
        },
        {
          "output_type": "stream",
          "name": "stdout",
          "text": [
            "Validating FFmpeg command for subtitle embedding...\n",
            "Translated SRT file: 5ea904d5-9f4b-4dc8-97d1-48b873154fe9.srt\n",
            "4139f369-1106-4318-a1be-caf475a884f0.srt\n"
          ]
        },
        {
          "output_type": "stream",
          "name": "stderr",
          "text": [
            "\u001b[32m2024-06-12 11:39:07.669\u001b[0m | \u001b[1mINFO    \u001b[0m | \u001b[36m__main__\u001b[0m:\u001b[36mignite_video_processing\u001b[0m:\u001b[36m8\u001b[0m - \u001b[1mUsing target lagnuage code Russian\u001b[0m\n"
          ]
        },
        {
          "output_type": "stream",
          "name": "stdout",
          "text": [
            "Validating FFmpeg command for subtitle embedding...\n",
            "Translated SRT file: 4139f369-1106-4318-a1be-caf475a884f0.srt\n",
            "8d7dcee0-3d75-49e5-9c2d-4b02622a37fa.srt\n"
          ]
        },
        {
          "output_type": "stream",
          "name": "stderr",
          "text": [
            "\u001b[32m2024-06-12 11:39:11.318\u001b[0m | \u001b[1mINFO    \u001b[0m | \u001b[36m__main__\u001b[0m:\u001b[36mignite_video_processing\u001b[0m:\u001b[36m8\u001b[0m - \u001b[1mUsing target lagnuage code Russian\u001b[0m\n"
          ]
        },
        {
          "output_type": "stream",
          "name": "stdout",
          "text": [
            "Validating FFmpeg command for subtitle embedding...\n",
            "Translated SRT file: 8d7dcee0-3d75-49e5-9c2d-4b02622a37fa.srt\n",
            "e4e55c47-0777-475d-bde7-e9fe97547d81.srt\n"
          ]
        },
        {
          "output_type": "stream",
          "name": "stderr",
          "text": [
            "\u001b[32m2024-06-12 11:39:16.036\u001b[0m | \u001b[1mINFO    \u001b[0m | \u001b[36m__main__\u001b[0m:\u001b[36mignite_video_processing\u001b[0m:\u001b[36m8\u001b[0m - \u001b[1mUsing target lagnuage code Russian\u001b[0m\n"
          ]
        },
        {
          "output_type": "stream",
          "name": "stdout",
          "text": [
            "Validating FFmpeg command for subtitle embedding...\n",
            "Translated SRT file: e4e55c47-0777-475d-bde7-e9fe97547d81.srt\n",
            "9b162c9e-196f-42fa-bd23-b8387873c62f.srt\n"
          ]
        },
        {
          "output_type": "stream",
          "name": "stderr",
          "text": [
            "\u001b[32m2024-06-12 11:39:21.775\u001b[0m | \u001b[1mINFO    \u001b[0m | \u001b[36m__main__\u001b[0m:\u001b[36mignite_video_processing\u001b[0m:\u001b[36m8\u001b[0m - \u001b[1mUsing target lagnuage code Russian\u001b[0m\n"
          ]
        },
        {
          "output_type": "stream",
          "name": "stdout",
          "text": [
            "Validating FFmpeg command for subtitle embedding...\n",
            "Translated SRT file: 9b162c9e-196f-42fa-bd23-b8387873c62f.srt\n",
            "5b92609e-add9-464c-bec1-c92bbe794c90.srt\n"
          ]
        },
        {
          "output_type": "stream",
          "name": "stderr",
          "text": [
            "\u001b[32m2024-06-12 11:39:29.246\u001b[0m | \u001b[1mINFO    \u001b[0m | \u001b[36m__main__\u001b[0m:\u001b[36mignite_video_processing\u001b[0m:\u001b[36m8\u001b[0m - \u001b[1mUsing target lagnuage code Russian\u001b[0m\n"
          ]
        },
        {
          "output_type": "stream",
          "name": "stdout",
          "text": [
            "Validating FFmpeg command for subtitle embedding...\n",
            "Translated SRT file: 5b92609e-add9-464c-bec1-c92bbe794c90.srt\n",
            "09eaa29f-0253-4b5f-9bb5-d7dfa08ffa13.srt\n"
          ]
        },
        {
          "output_type": "stream",
          "name": "stderr",
          "text": [
            "\u001b[32m2024-06-12 11:39:35.435\u001b[0m | \u001b[1mINFO    \u001b[0m | \u001b[36m__main__\u001b[0m:\u001b[36mignite_video_processing\u001b[0m:\u001b[36m8\u001b[0m - \u001b[1mUsing target lagnuage code Russian\u001b[0m\n"
          ]
        },
        {
          "output_type": "stream",
          "name": "stdout",
          "text": [
            "Validating FFmpeg command for subtitle embedding...\n",
            "Translated SRT file: 09eaa29f-0253-4b5f-9bb5-d7dfa08ffa13.srt\n",
            "8217ae3b-b03a-4411-b2d3-40d016e70288.srt\n"
          ]
        },
        {
          "output_type": "stream",
          "name": "stderr",
          "text": [
            "\u001b[32m2024-06-12 11:39:38.124\u001b[0m | \u001b[1mINFO    \u001b[0m | \u001b[36m__main__\u001b[0m:\u001b[36mignite_video_processing\u001b[0m:\u001b[36m8\u001b[0m - \u001b[1mUsing target lagnuage code Russian\u001b[0m\n"
          ]
        },
        {
          "output_type": "stream",
          "name": "stdout",
          "text": [
            "Validating FFmpeg command for subtitle embedding...\n",
            "Translated SRT file: 8217ae3b-b03a-4411-b2d3-40d016e70288.srt\n",
            "63209ddd-977e-4bdf-892a-688223584295.srt\n"
          ]
        },
        {
          "output_type": "stream",
          "name": "stderr",
          "text": [
            "\u001b[32m2024-06-12 11:39:40.169\u001b[0m | \u001b[1mINFO    \u001b[0m | \u001b[36m__main__\u001b[0m:\u001b[36mignite_video_processing\u001b[0m:\u001b[36m8\u001b[0m - \u001b[1mUsing target lagnuage code Russian\u001b[0m\n"
          ]
        },
        {
          "output_type": "stream",
          "name": "stdout",
          "text": [
            "Validating FFmpeg command for subtitle embedding...\n",
            "Translated SRT file: 63209ddd-977e-4bdf-892a-688223584295.srt\n",
            "92a64926-46d4-4d13-9f80-c980dfec01b3.srt\n"
          ]
        },
        {
          "output_type": "stream",
          "name": "stderr",
          "text": [
            "\u001b[32m2024-06-12 11:39:45.891\u001b[0m | \u001b[1mINFO    \u001b[0m | \u001b[36m__main__\u001b[0m:\u001b[36mignite_video_processing\u001b[0m:\u001b[36m8\u001b[0m - \u001b[1mUsing target lagnuage code Russian\u001b[0m\n"
          ]
        },
        {
          "output_type": "stream",
          "name": "stdout",
          "text": [
            "Validating FFmpeg command for subtitle embedding...\n",
            "Translated SRT file: 92a64926-46d4-4d13-9f80-c980dfec01b3.srt\n",
            "23c1b632-aed7-4f54-b256-cfe9a1e2a459.srt\n"
          ]
        },
        {
          "output_type": "stream",
          "name": "stderr",
          "text": [
            "\u001b[32m2024-06-12 11:39:49.073\u001b[0m | \u001b[1mINFO    \u001b[0m | \u001b[36m__main__\u001b[0m:\u001b[36mignite_video_processing\u001b[0m:\u001b[36m8\u001b[0m - \u001b[1mUsing target lagnuage code Russian\u001b[0m\n"
          ]
        },
        {
          "output_type": "stream",
          "name": "stdout",
          "text": [
            "Validating FFmpeg command for subtitle embedding...\n",
            "Translated SRT file: 23c1b632-aed7-4f54-b256-cfe9a1e2a459.srt\n",
            "0aea5bd6-08f3-48b7-a514-880f3a2316b0.srt\n"
          ]
        },
        {
          "output_type": "stream",
          "name": "stderr",
          "text": [
            "\u001b[32m2024-06-12 11:39:52.182\u001b[0m | \u001b[1mINFO    \u001b[0m | \u001b[36m__main__\u001b[0m:\u001b[36mignite_video_processing\u001b[0m:\u001b[36m8\u001b[0m - \u001b[1mUsing target lagnuage code Russian\u001b[0m\n"
          ]
        },
        {
          "output_type": "stream",
          "name": "stdout",
          "text": [
            "Validating FFmpeg command for subtitle embedding...\n",
            "Translated SRT file: 0aea5bd6-08f3-48b7-a514-880f3a2316b0.srt\n",
            "a024e8d2-887e-463c-99b4-d7a6970c5e40.srt\n"
          ]
        },
        {
          "output_type": "stream",
          "name": "stderr",
          "text": [
            "\u001b[32m2024-06-12 11:39:57.185\u001b[0m | \u001b[1mINFO    \u001b[0m | \u001b[36m__main__\u001b[0m:\u001b[36mignite_video_processing\u001b[0m:\u001b[36m8\u001b[0m - \u001b[1mUsing target lagnuage code Russian\u001b[0m\n"
          ]
        },
        {
          "output_type": "stream",
          "name": "stdout",
          "text": [
            "Validating FFmpeg command for subtitle embedding...\n",
            "Translated SRT file: a024e8d2-887e-463c-99b4-d7a6970c5e40.srt\n",
            "27a3fe95-edd2-4ef5-bd55-2c7445caf334.srt\n",
            "Validating FFmpeg command for subtitle embedding...\n",
            "Translated SRT file: 27a3fe95-edd2-4ef5-bd55-2c7445caf334.srt\n"
          ]
        },
        {
          "output_type": "stream",
          "name": "stderr",
          "text": [
            "\u001b[32m2024-06-12 11:40:04.899\u001b[0m | \u001b[1mINFO    \u001b[0m | \u001b[36m__main__\u001b[0m:\u001b[36mignite_video_processing\u001b[0m:\u001b[36m8\u001b[0m - \u001b[1mUsing target lagnuage code Russian\u001b[0m\n"
          ]
        },
        {
          "output_type": "stream",
          "name": "stdout",
          "text": [
            "74a4def1-4b9e-4501-91e8-19bd32f79b03.srt\n"
          ]
        },
        {
          "output_type": "stream",
          "name": "stderr",
          "text": [
            "\u001b[32m2024-06-12 11:40:09.681\u001b[0m | \u001b[1mINFO    \u001b[0m | \u001b[36m__main__\u001b[0m:\u001b[36mignite_video_processing\u001b[0m:\u001b[36m8\u001b[0m - \u001b[1mUsing target lagnuage code Russian\u001b[0m\n"
          ]
        },
        {
          "output_type": "stream",
          "name": "stdout",
          "text": [
            "Validating FFmpeg command for subtitle embedding...\n",
            "Translated SRT file: 74a4def1-4b9e-4501-91e8-19bd32f79b03.srt\n",
            "4be0f9ba-b88e-4901-a200-2415ede197ad.srt\n"
          ]
        },
        {
          "output_type": "stream",
          "name": "stderr",
          "text": [
            "\u001b[32m2024-06-12 11:40:14.378\u001b[0m | \u001b[1mINFO    \u001b[0m | \u001b[36m__main__\u001b[0m:\u001b[36mignite_video_processing\u001b[0m:\u001b[36m8\u001b[0m - \u001b[1mUsing target lagnuage code Russian\u001b[0m\n"
          ]
        },
        {
          "output_type": "stream",
          "name": "stdout",
          "text": [
            "Validating FFmpeg command for subtitle embedding...\n",
            "Translated SRT file: 4be0f9ba-b88e-4901-a200-2415ede197ad.srt\n",
            "c1d0dea2-0d13-4ae3-ae2f-64c50bc1eacb.srt\n"
          ]
        },
        {
          "output_type": "stream",
          "name": "stderr",
          "text": [
            "\u001b[32m2024-06-12 11:40:18.437\u001b[0m | \u001b[1mINFO    \u001b[0m | \u001b[36m__main__\u001b[0m:\u001b[36mignite_video_processing\u001b[0m:\u001b[36m8\u001b[0m - \u001b[1mUsing target lagnuage code Russian\u001b[0m\n"
          ]
        },
        {
          "output_type": "stream",
          "name": "stdout",
          "text": [
            "Validating FFmpeg command for subtitle embedding...\n",
            "Translated SRT file: c1d0dea2-0d13-4ae3-ae2f-64c50bc1eacb.srt\n",
            "7752bfab-db5b-4975-a7fa-834915a4b20f.srt\n"
          ]
        },
        {
          "output_type": "stream",
          "name": "stderr",
          "text": [
            "\u001b[32m2024-06-12 11:40:22.972\u001b[0m | \u001b[1mINFO    \u001b[0m | \u001b[36m__main__\u001b[0m:\u001b[36mignite_video_processing\u001b[0m:\u001b[36m8\u001b[0m - \u001b[1mUsing target lagnuage code Russian\u001b[0m\n"
          ]
        },
        {
          "output_type": "stream",
          "name": "stdout",
          "text": [
            "Validating FFmpeg command for subtitle embedding...\n",
            "Translated SRT file: 7752bfab-db5b-4975-a7fa-834915a4b20f.srt\n",
            "ca570a6e-bd32-436d-af81-aef7f1c93c7e.srt\n"
          ]
        },
        {
          "output_type": "stream",
          "name": "stderr",
          "text": [
            "\u001b[32m2024-06-12 11:40:26.637\u001b[0m | \u001b[1mINFO    \u001b[0m | \u001b[36m__main__\u001b[0m:\u001b[36mignite_video_processing\u001b[0m:\u001b[36m8\u001b[0m - \u001b[1mUsing target lagnuage code Russian\u001b[0m\n"
          ]
        },
        {
          "output_type": "stream",
          "name": "stdout",
          "text": [
            "Validating FFmpeg command for subtitle embedding...\n",
            "Translated SRT file: ca570a6e-bd32-436d-af81-aef7f1c93c7e.srt\n",
            "4a53142c-c930-4c9a-914b-b5bcb5c07e20.srt\n"
          ]
        },
        {
          "output_type": "stream",
          "name": "stderr",
          "text": [
            "\u001b[32m2024-06-12 11:40:31.544\u001b[0m | \u001b[1mINFO    \u001b[0m | \u001b[36m__main__\u001b[0m:\u001b[36mignite_video_processing\u001b[0m:\u001b[36m8\u001b[0m - \u001b[1mUsing target lagnuage code Russian\u001b[0m\n"
          ]
        },
        {
          "output_type": "stream",
          "name": "stdout",
          "text": [
            "Validating FFmpeg command for subtitle embedding...\n",
            "Translated SRT file: 4a53142c-c930-4c9a-914b-b5bcb5c07e20.srt\n",
            "835e4285-fa7a-4743-8443-c1de05ab71d1.srt\n"
          ]
        },
        {
          "output_type": "stream",
          "name": "stderr",
          "text": [
            "\u001b[32m2024-06-12 11:40:39.967\u001b[0m | \u001b[1mINFO    \u001b[0m | \u001b[36m__main__\u001b[0m:\u001b[36mignite_video_processing\u001b[0m:\u001b[36m8\u001b[0m - \u001b[1mUsing target lagnuage code Russian\u001b[0m\n"
          ]
        },
        {
          "output_type": "stream",
          "name": "stdout",
          "text": [
            "Validating FFmpeg command for subtitle embedding...\n",
            "Translated SRT file: 835e4285-fa7a-4743-8443-c1de05ab71d1.srt\n",
            "09c3fbfb-01fe-4707-9166-d97bf2621c80.srt\n"
          ]
        },
        {
          "output_type": "stream",
          "name": "stderr",
          "text": [
            "\u001b[32m2024-06-12 11:40:40.721\u001b[0m | \u001b[1mINFO    \u001b[0m | \u001b[36m__main__\u001b[0m:\u001b[36mignite_video_processing\u001b[0m:\u001b[36m8\u001b[0m - \u001b[1mUsing target lagnuage code Russian\u001b[0m\n"
          ]
        },
        {
          "output_type": "stream",
          "name": "stdout",
          "text": [
            "Validating FFmpeg command for subtitle embedding...\n",
            "Translated SRT file: 09c3fbfb-01fe-4707-9166-d97bf2621c80.srt\n",
            "13cecc98-5a43-4f9b-baee-64f99322c52d.srt\n"
          ]
        }
      ],
      "source": [
        "pl_res = pl.DataFrame(schema={\"url\": str, \"ans\": str})\n",
        "\n",
        "for i, docs_batch in tqdm(enumerate(chunked(docs[offset:], batch_size))):\n",
        "    docs_paths = await asio.gather(*[parallel_download(doc) for doc in docs_batch])\n",
        "    prob_paths = [dict(url=doc, idx=idx) for doc, idx in zip(docs_batch, docs_paths) if not Path(idx).exists()]\n",
        "    probs.extend(prob_paths)\n",
        "    docs_paths = [dpi for dpi in docs_paths if Path(dpi).exists()]\n",
        "    resx_trans = await asio.gather(*[ignite_video_processing(dp, google_lang_codes) for dp in docs_paths])\n",
        "    response = []\n",
        "    for url, ans in zip(docs_batch, resx_trans):\n",
        "      response.append(dict(\n",
        "          url=url,\n",
        "          ans=\" \".join(ans)\n",
        "      ))\n",
        "    pl_response = pl.from_dicts(response)\n",
        "    pl_res = pl.concat([pl_res, pl_response])\n",
        "    if (i + 1) %  10 == 0:\n",
        "        pl_res.write_csv(f\"./drive/MyDrive/YAPPI/top-{str(i + 1)}_transcript_{snapshot_name}_response.csv\") # to disk save"
      ]
    },
    {
      "cell_type": "code",
      "source": [
        "!rm -rf /content/*.mp4\n",
        "!rm -rf /content/*.srt"
      ],
      "metadata": {
        "id": "dJXRaElZlofT"
      },
      "execution_count": null,
      "outputs": []
    },
    {
      "cell_type": "code",
      "source": [
        "pl_res.write_csv(f\"./drive/MyDrive/YAPPI/top-{str(i + 1)}_transcript_response.csv\") # to disk save"
      ],
      "metadata": {
        "id": "ysqYdtz3fkO-"
      },
      "execution_count": null,
      "outputs": []
    },
    {
      "cell_type": "code",
      "execution_count": null,
      "metadata": {
        "id": "KPNO_EixYfh6",
        "colab": {
          "base_uri": "https://localhost:8080/"
        },
        "outputId": "da0e62f1-c8ff-4b14-ecd8-fcb59ef02087"
      },
      "outputs": [
        {
          "output_type": "execute_result",
          "data": {
            "text/plain": [
              "PosixPath('https:/cdn-st.rutubelist.ru/media/b0/e9/ef285e0241139fc611318ed33071/fhd.mp4')"
            ]
          },
          "metadata": {},
          "execution_count": 41
        }
      ],
      "source": [
        "Path(docs_batch[0])"
      ]
    },
    {
      "cell_type": "code",
      "source": [
        "docs_paths = await asio.gather(*[parallel_download(doc) for doc in docs_batch])"
      ],
      "metadata": {
        "id": "TSOG4SDUUH3S"
      },
      "execution_count": null,
      "outputs": []
    },
    {
      "cell_type": "code",
      "source": [
        "Path(docs_paths[1]).stem"
      ],
      "metadata": {
        "colab": {
          "base_uri": "https://localhost:8080/",
          "height": 35
        },
        "id": "bo9wRLdIUJpU",
        "outputId": "590c9369-6b9c-4fd3-efa7-13b48525cd98"
      },
      "execution_count": null,
      "outputs": [
        {
          "output_type": "execute_result",
          "data": {
            "text/plain": [
              "'f0928a98-c0f4-452a-931a-06be354a88b2'"
            ],
            "application/vnd.google.colaboratory.intrinsic+json": {
              "type": "string"
            }
          },
          "metadata": {},
          "execution_count": 84
        }
      ]
    },
    {
      "cell_type": "code",
      "source": [
        "result = await ignite_video_processing(docs_paths[1], google_lang_codes)"
      ],
      "metadata": {
        "colab": {
          "base_uri": "https://localhost:8080/"
        },
        "id": "9yLNfc2EUwwA",
        "outputId": "fa56bcd4-1261-4b1a-c99d-c4b3d1ccb203"
      },
      "execution_count": null,
      "outputs": [
        {
          "output_type": "stream",
          "name": "stderr",
          "text": [
            "\u001b[32m2024-06-11 22:28:33.449\u001b[0m | \u001b[1mINFO    \u001b[0m | \u001b[36m__main__\u001b[0m:\u001b[36mignite_video_processing\u001b[0m:\u001b[36m8\u001b[0m - \u001b[1mUsing target lagnuage code Russian\u001b[0m\n"
          ]
        },
        {
          "output_type": "stream",
          "name": "stdout",
          "text": [
            "f0928a98-c0f4-452a-931a-06be354a88b2.srt\n",
            "Validating FFmpeg command for subtitle embedding...\n",
            "Translated SRT file: f0928a98-c0f4-452a-931a-06be354a88b2.srt\n"
          ]
        }
      ]
    },
    {
      "cell_type": "code",
      "source": [
        "result"
      ],
      "metadata": {
        "colab": {
          "base_uri": "https://localhost:8080/"
        },
        "id": "uVifB1XwXspT",
        "outputId": "2cc80dad-10fc-4ca9-faae-279eb8cc7c89"
      },
      "execution_count": null,
      "outputs": [
        {
          "output_type": "execute_result",
          "data": {
            "text/plain": [
              "['1\\n',\n",
              " '00:00:00,000 --> 00:00:02,500\\n',\n",
              " 'Сейчас я тебе покажу секретную команду в Роблоксе!\\n',\n",
              " '\\n',\n",
              " '2\\n',\n",
              " '00:00:02,500 --> 00:00:06,600\\n',\n",
              " 'Чтобы её активировать, поставь лайк и подпишись, а также введи в чат команду ILOVEYOU!\\n',\n",
              " '\\n',\n",
              " '3\\n',\n",
              " '00:00:06,600 --> 00:00:10,099\\n',\n",
              " 'Когда вы её введёте, у вас на экране появится вот такой клоун!\\n',\n",
              " '\\n',\n",
              " '4\\n',\n",
              " '00:00:10,099 --> 00:00:15,099\\n',\n",
              " 'Скрипт был создан одним из создателей Роблокса и работает только в играх, где есть Роблокс Девелопер Сервис.\\n',\n",
              " '\\n',\n",
              " '5\\n',\n",
              " '00:00:15,099 --> 00:00:18,600\\n',\n",
              " 'Чтобы брать скример нужно всего-то выйти из игры, но лучше не проверяй!\\n',\n",
              " '\\n']"
            ]
          },
          "metadata": {},
          "execution_count": 86
        }
      ]
    },
    {
      "cell_type": "code",
      "source": [
        "!pwd"
      ],
      "metadata": {
        "colab": {
          "base_uri": "https://localhost:8080/"
        },
        "id": "_x34A_Y4XwsA",
        "outputId": "19717384-b41e-493a-c597-e45333f28651"
      },
      "execution_count": null,
      "outputs": [
        {
          "output_type": "stream",
          "name": "stdout",
          "text": [
            "/content\n"
          ]
        }
      ]
    },
    {
      "cell_type": "code",
      "source": [],
      "metadata": {
        "id": "07qyXcIRYWlC"
      },
      "execution_count": null,
      "outputs": []
    }
  ],
  "metadata": {
    "accelerator": "GPU",
    "colab": {
      "gpuType": "A100",
      "machine_shape": "hm",
      "provenance": [],
      "authorship_tag": "ABX9TyPMneJZyHuIN3GGA03o7x3C",
      "include_colab_link": true
    },
    "kernelspec": {
      "display_name": "Python 3",
      "name": "python3"
    },
    "language_info": {
      "name": "python"
    },
    "widgets": {
      "application/vnd.jupyter.widget-state+json": {
        "f4851802d61045d69cc7f04fa5bf20ed": {
          "model_module": "@jupyter-widgets/controls",
          "model_name": "HBoxModel",
          "model_module_version": "1.5.0",
          "state": {
            "_dom_classes": [],
            "_model_module": "@jupyter-widgets/controls",
            "_model_module_version": "1.5.0",
            "_model_name": "HBoxModel",
            "_view_count": null,
            "_view_module": "@jupyter-widgets/controls",
            "_view_module_version": "1.5.0",
            "_view_name": "HBoxView",
            "box_style": "",
            "children": [
              "IPY_MODEL_0e853b9d067442dcb5bf6766bc41299d",
              "IPY_MODEL_ea55eb1aa6de4f3f86b24603bc43e3ef",
              "IPY_MODEL_af4c1a9cc1b643248ba02ffe91d25bc0"
            ],
            "layout": "IPY_MODEL_bcccc9e3fcd54c649bf27b82938edd27"
          }
        },
        "0e853b9d067442dcb5bf6766bc41299d": {
          "model_module": "@jupyter-widgets/controls",
          "model_name": "HTMLModel",
          "model_module_version": "1.5.0",
          "state": {
            "_dom_classes": [],
            "_model_module": "@jupyter-widgets/controls",
            "_model_module_version": "1.5.0",
            "_model_name": "HTMLModel",
            "_view_count": null,
            "_view_module": "@jupyter-widgets/controls",
            "_view_module_version": "1.5.0",
            "_view_name": "HTMLView",
            "description": "",
            "description_tooltip": null,
            "layout": "IPY_MODEL_918e60d7f58349aeb66f013e17b32baa",
            "placeholder": "​",
            "style": "IPY_MODEL_4fa559a3110a432e99c86b6dc66784e0",
            "value": "model.bin: 100%"
          }
        },
        "ea55eb1aa6de4f3f86b24603bc43e3ef": {
          "model_module": "@jupyter-widgets/controls",
          "model_name": "FloatProgressModel",
          "model_module_version": "1.5.0",
          "state": {
            "_dom_classes": [],
            "_model_module": "@jupyter-widgets/controls",
            "_model_module_version": "1.5.0",
            "_model_name": "FloatProgressModel",
            "_view_count": null,
            "_view_module": "@jupyter-widgets/controls",
            "_view_module_version": "1.5.0",
            "_view_name": "ProgressView",
            "bar_style": "success",
            "description": "",
            "description_tooltip": null,
            "layout": "IPY_MODEL_618d7fe591604deeb09b7bffaf3cc5e9",
            "max": 3086912962,
            "min": 0,
            "orientation": "horizontal",
            "style": "IPY_MODEL_364226866b86422f92166ad5a311fa2b",
            "value": 3086912962
          }
        },
        "af4c1a9cc1b643248ba02ffe91d25bc0": {
          "model_module": "@jupyter-widgets/controls",
          "model_name": "HTMLModel",
          "model_module_version": "1.5.0",
          "state": {
            "_dom_classes": [],
            "_model_module": "@jupyter-widgets/controls",
            "_model_module_version": "1.5.0",
            "_model_name": "HTMLModel",
            "_view_count": null,
            "_view_module": "@jupyter-widgets/controls",
            "_view_module_version": "1.5.0",
            "_view_name": "HTMLView",
            "description": "",
            "description_tooltip": null,
            "layout": "IPY_MODEL_96669472034841da828308a0baf5375c",
            "placeholder": "​",
            "style": "IPY_MODEL_7c7fb4dc5b054a76b84a6e8f06777650",
            "value": " 3.09G/3.09G [00:07&lt;00:00, 375MB/s]"
          }
        },
        "bcccc9e3fcd54c649bf27b82938edd27": {
          "model_module": "@jupyter-widgets/base",
          "model_name": "LayoutModel",
          "model_module_version": "1.2.0",
          "state": {
            "_model_module": "@jupyter-widgets/base",
            "_model_module_version": "1.2.0",
            "_model_name": "LayoutModel",
            "_view_count": null,
            "_view_module": "@jupyter-widgets/base",
            "_view_module_version": "1.2.0",
            "_view_name": "LayoutView",
            "align_content": null,
            "align_items": null,
            "align_self": null,
            "border": null,
            "bottom": null,
            "display": null,
            "flex": null,
            "flex_flow": null,
            "grid_area": null,
            "grid_auto_columns": null,
            "grid_auto_flow": null,
            "grid_auto_rows": null,
            "grid_column": null,
            "grid_gap": null,
            "grid_row": null,
            "grid_template_areas": null,
            "grid_template_columns": null,
            "grid_template_rows": null,
            "height": null,
            "justify_content": null,
            "justify_items": null,
            "left": null,
            "margin": null,
            "max_height": null,
            "max_width": null,
            "min_height": null,
            "min_width": null,
            "object_fit": null,
            "object_position": null,
            "order": null,
            "overflow": null,
            "overflow_x": null,
            "overflow_y": null,
            "padding": null,
            "right": null,
            "top": null,
            "visibility": null,
            "width": null
          }
        },
        "918e60d7f58349aeb66f013e17b32baa": {
          "model_module": "@jupyter-widgets/base",
          "model_name": "LayoutModel",
          "model_module_version": "1.2.0",
          "state": {
            "_model_module": "@jupyter-widgets/base",
            "_model_module_version": "1.2.0",
            "_model_name": "LayoutModel",
            "_view_count": null,
            "_view_module": "@jupyter-widgets/base",
            "_view_module_version": "1.2.0",
            "_view_name": "LayoutView",
            "align_content": null,
            "align_items": null,
            "align_self": null,
            "border": null,
            "bottom": null,
            "display": null,
            "flex": null,
            "flex_flow": null,
            "grid_area": null,
            "grid_auto_columns": null,
            "grid_auto_flow": null,
            "grid_auto_rows": null,
            "grid_column": null,
            "grid_gap": null,
            "grid_row": null,
            "grid_template_areas": null,
            "grid_template_columns": null,
            "grid_template_rows": null,
            "height": null,
            "justify_content": null,
            "justify_items": null,
            "left": null,
            "margin": null,
            "max_height": null,
            "max_width": null,
            "min_height": null,
            "min_width": null,
            "object_fit": null,
            "object_position": null,
            "order": null,
            "overflow": null,
            "overflow_x": null,
            "overflow_y": null,
            "padding": null,
            "right": null,
            "top": null,
            "visibility": null,
            "width": null
          }
        },
        "4fa559a3110a432e99c86b6dc66784e0": {
          "model_module": "@jupyter-widgets/controls",
          "model_name": "DescriptionStyleModel",
          "model_module_version": "1.5.0",
          "state": {
            "_model_module": "@jupyter-widgets/controls",
            "_model_module_version": "1.5.0",
            "_model_name": "DescriptionStyleModel",
            "_view_count": null,
            "_view_module": "@jupyter-widgets/base",
            "_view_module_version": "1.2.0",
            "_view_name": "StyleView",
            "description_width": ""
          }
        },
        "618d7fe591604deeb09b7bffaf3cc5e9": {
          "model_module": "@jupyter-widgets/base",
          "model_name": "LayoutModel",
          "model_module_version": "1.2.0",
          "state": {
            "_model_module": "@jupyter-widgets/base",
            "_model_module_version": "1.2.0",
            "_model_name": "LayoutModel",
            "_view_count": null,
            "_view_module": "@jupyter-widgets/base",
            "_view_module_version": "1.2.0",
            "_view_name": "LayoutView",
            "align_content": null,
            "align_items": null,
            "align_self": null,
            "border": null,
            "bottom": null,
            "display": null,
            "flex": null,
            "flex_flow": null,
            "grid_area": null,
            "grid_auto_columns": null,
            "grid_auto_flow": null,
            "grid_auto_rows": null,
            "grid_column": null,
            "grid_gap": null,
            "grid_row": null,
            "grid_template_areas": null,
            "grid_template_columns": null,
            "grid_template_rows": null,
            "height": null,
            "justify_content": null,
            "justify_items": null,
            "left": null,
            "margin": null,
            "max_height": null,
            "max_width": null,
            "min_height": null,
            "min_width": null,
            "object_fit": null,
            "object_position": null,
            "order": null,
            "overflow": null,
            "overflow_x": null,
            "overflow_y": null,
            "padding": null,
            "right": null,
            "top": null,
            "visibility": null,
            "width": null
          }
        },
        "364226866b86422f92166ad5a311fa2b": {
          "model_module": "@jupyter-widgets/controls",
          "model_name": "ProgressStyleModel",
          "model_module_version": "1.5.0",
          "state": {
            "_model_module": "@jupyter-widgets/controls",
            "_model_module_version": "1.5.0",
            "_model_name": "ProgressStyleModel",
            "_view_count": null,
            "_view_module": "@jupyter-widgets/base",
            "_view_module_version": "1.2.0",
            "_view_name": "StyleView",
            "bar_color": null,
            "description_width": ""
          }
        },
        "96669472034841da828308a0baf5375c": {
          "model_module": "@jupyter-widgets/base",
          "model_name": "LayoutModel",
          "model_module_version": "1.2.0",
          "state": {
            "_model_module": "@jupyter-widgets/base",
            "_model_module_version": "1.2.0",
            "_model_name": "LayoutModel",
            "_view_count": null,
            "_view_module": "@jupyter-widgets/base",
            "_view_module_version": "1.2.0",
            "_view_name": "LayoutView",
            "align_content": null,
            "align_items": null,
            "align_self": null,
            "border": null,
            "bottom": null,
            "display": null,
            "flex": null,
            "flex_flow": null,
            "grid_area": null,
            "grid_auto_columns": null,
            "grid_auto_flow": null,
            "grid_auto_rows": null,
            "grid_column": null,
            "grid_gap": null,
            "grid_row": null,
            "grid_template_areas": null,
            "grid_template_columns": null,
            "grid_template_rows": null,
            "height": null,
            "justify_content": null,
            "justify_items": null,
            "left": null,
            "margin": null,
            "max_height": null,
            "max_width": null,
            "min_height": null,
            "min_width": null,
            "object_fit": null,
            "object_position": null,
            "order": null,
            "overflow": null,
            "overflow_x": null,
            "overflow_y": null,
            "padding": null,
            "right": null,
            "top": null,
            "visibility": null,
            "width": null
          }
        },
        "7c7fb4dc5b054a76b84a6e8f06777650": {
          "model_module": "@jupyter-widgets/controls",
          "model_name": "DescriptionStyleModel",
          "model_module_version": "1.5.0",
          "state": {
            "_model_module": "@jupyter-widgets/controls",
            "_model_module_version": "1.5.0",
            "_model_name": "DescriptionStyleModel",
            "_view_count": null,
            "_view_module": "@jupyter-widgets/base",
            "_view_module_version": "1.2.0",
            "_view_name": "StyleView",
            "description_width": ""
          }
        },
        "a6d78050136d4b32998969992162a155": {
          "model_module": "@jupyter-widgets/controls",
          "model_name": "HBoxModel",
          "model_module_version": "1.5.0",
          "state": {
            "_dom_classes": [],
            "_model_module": "@jupyter-widgets/controls",
            "_model_module_version": "1.5.0",
            "_model_name": "HBoxModel",
            "_view_count": null,
            "_view_module": "@jupyter-widgets/controls",
            "_view_module_version": "1.5.0",
            "_view_name": "HBoxView",
            "box_style": "",
            "children": [
              "IPY_MODEL_e75ddc3b6b8d480e86f11586645cbb31",
              "IPY_MODEL_fc3ded38285340d9b16ec84aadb800b9",
              "IPY_MODEL_b49b29413b2d4eecad51be4aa7dd41f1"
            ],
            "layout": "IPY_MODEL_7cdfc5c79c354970b5d6a315fd1ee4e1"
          }
        },
        "e75ddc3b6b8d480e86f11586645cbb31": {
          "model_module": "@jupyter-widgets/controls",
          "model_name": "HTMLModel",
          "model_module_version": "1.5.0",
          "state": {
            "_dom_classes": [],
            "_model_module": "@jupyter-widgets/controls",
            "_model_module_version": "1.5.0",
            "_model_name": "HTMLModel",
            "_view_count": null,
            "_view_module": "@jupyter-widgets/controls",
            "_view_module_version": "1.5.0",
            "_view_name": "HTMLView",
            "description": "",
            "description_tooltip": null,
            "layout": "IPY_MODEL_8cb52c5222534b978917be908a32f7e7",
            "placeholder": "​",
            "style": "IPY_MODEL_efe4224173fa4d0da888b60494e8a26a",
            "value": "vocabulary.txt: 100%"
          }
        },
        "fc3ded38285340d9b16ec84aadb800b9": {
          "model_module": "@jupyter-widgets/controls",
          "model_name": "FloatProgressModel",
          "model_module_version": "1.5.0",
          "state": {
            "_dom_classes": [],
            "_model_module": "@jupyter-widgets/controls",
            "_model_module_version": "1.5.0",
            "_model_name": "FloatProgressModel",
            "_view_count": null,
            "_view_module": "@jupyter-widgets/controls",
            "_view_module_version": "1.5.0",
            "_view_name": "ProgressView",
            "bar_style": "success",
            "description": "",
            "description_tooltip": null,
            "layout": "IPY_MODEL_0b4da49595b04813891eabdc3cc5ceb3",
            "max": 459861,
            "min": 0,
            "orientation": "horizontal",
            "style": "IPY_MODEL_de69f08f55144847b4ae9ac2fc2f24fa",
            "value": 459861
          }
        },
        "b49b29413b2d4eecad51be4aa7dd41f1": {
          "model_module": "@jupyter-widgets/controls",
          "model_name": "HTMLModel",
          "model_module_version": "1.5.0",
          "state": {
            "_dom_classes": [],
            "_model_module": "@jupyter-widgets/controls",
            "_model_module_version": "1.5.0",
            "_model_name": "HTMLModel",
            "_view_count": null,
            "_view_module": "@jupyter-widgets/controls",
            "_view_module_version": "1.5.0",
            "_view_name": "HTMLView",
            "description": "",
            "description_tooltip": null,
            "layout": "IPY_MODEL_45510befe08048f5980ec0a208959cc8",
            "placeholder": "​",
            "style": "IPY_MODEL_6c35b66f61ea43f3b4a3511068ed035e",
            "value": " 460k/460k [00:00&lt;00:00, 1.96MB/s]"
          }
        },
        "7cdfc5c79c354970b5d6a315fd1ee4e1": {
          "model_module": "@jupyter-widgets/base",
          "model_name": "LayoutModel",
          "model_module_version": "1.2.0",
          "state": {
            "_model_module": "@jupyter-widgets/base",
            "_model_module_version": "1.2.0",
            "_model_name": "LayoutModel",
            "_view_count": null,
            "_view_module": "@jupyter-widgets/base",
            "_view_module_version": "1.2.0",
            "_view_name": "LayoutView",
            "align_content": null,
            "align_items": null,
            "align_self": null,
            "border": null,
            "bottom": null,
            "display": null,
            "flex": null,
            "flex_flow": null,
            "grid_area": null,
            "grid_auto_columns": null,
            "grid_auto_flow": null,
            "grid_auto_rows": null,
            "grid_column": null,
            "grid_gap": null,
            "grid_row": null,
            "grid_template_areas": null,
            "grid_template_columns": null,
            "grid_template_rows": null,
            "height": null,
            "justify_content": null,
            "justify_items": null,
            "left": null,
            "margin": null,
            "max_height": null,
            "max_width": null,
            "min_height": null,
            "min_width": null,
            "object_fit": null,
            "object_position": null,
            "order": null,
            "overflow": null,
            "overflow_x": null,
            "overflow_y": null,
            "padding": null,
            "right": null,
            "top": null,
            "visibility": null,
            "width": null
          }
        },
        "8cb52c5222534b978917be908a32f7e7": {
          "model_module": "@jupyter-widgets/base",
          "model_name": "LayoutModel",
          "model_module_version": "1.2.0",
          "state": {
            "_model_module": "@jupyter-widgets/base",
            "_model_module_version": "1.2.0",
            "_model_name": "LayoutModel",
            "_view_count": null,
            "_view_module": "@jupyter-widgets/base",
            "_view_module_version": "1.2.0",
            "_view_name": "LayoutView",
            "align_content": null,
            "align_items": null,
            "align_self": null,
            "border": null,
            "bottom": null,
            "display": null,
            "flex": null,
            "flex_flow": null,
            "grid_area": null,
            "grid_auto_columns": null,
            "grid_auto_flow": null,
            "grid_auto_rows": null,
            "grid_column": null,
            "grid_gap": null,
            "grid_row": null,
            "grid_template_areas": null,
            "grid_template_columns": null,
            "grid_template_rows": null,
            "height": null,
            "justify_content": null,
            "justify_items": null,
            "left": null,
            "margin": null,
            "max_height": null,
            "max_width": null,
            "min_height": null,
            "min_width": null,
            "object_fit": null,
            "object_position": null,
            "order": null,
            "overflow": null,
            "overflow_x": null,
            "overflow_y": null,
            "padding": null,
            "right": null,
            "top": null,
            "visibility": null,
            "width": null
          }
        },
        "efe4224173fa4d0da888b60494e8a26a": {
          "model_module": "@jupyter-widgets/controls",
          "model_name": "DescriptionStyleModel",
          "model_module_version": "1.5.0",
          "state": {
            "_model_module": "@jupyter-widgets/controls",
            "_model_module_version": "1.5.0",
            "_model_name": "DescriptionStyleModel",
            "_view_count": null,
            "_view_module": "@jupyter-widgets/base",
            "_view_module_version": "1.2.0",
            "_view_name": "StyleView",
            "description_width": ""
          }
        },
        "0b4da49595b04813891eabdc3cc5ceb3": {
          "model_module": "@jupyter-widgets/base",
          "model_name": "LayoutModel",
          "model_module_version": "1.2.0",
          "state": {
            "_model_module": "@jupyter-widgets/base",
            "_model_module_version": "1.2.0",
            "_model_name": "LayoutModel",
            "_view_count": null,
            "_view_module": "@jupyter-widgets/base",
            "_view_module_version": "1.2.0",
            "_view_name": "LayoutView",
            "align_content": null,
            "align_items": null,
            "align_self": null,
            "border": null,
            "bottom": null,
            "display": null,
            "flex": null,
            "flex_flow": null,
            "grid_area": null,
            "grid_auto_columns": null,
            "grid_auto_flow": null,
            "grid_auto_rows": null,
            "grid_column": null,
            "grid_gap": null,
            "grid_row": null,
            "grid_template_areas": null,
            "grid_template_columns": null,
            "grid_template_rows": null,
            "height": null,
            "justify_content": null,
            "justify_items": null,
            "left": null,
            "margin": null,
            "max_height": null,
            "max_width": null,
            "min_height": null,
            "min_width": null,
            "object_fit": null,
            "object_position": null,
            "order": null,
            "overflow": null,
            "overflow_x": null,
            "overflow_y": null,
            "padding": null,
            "right": null,
            "top": null,
            "visibility": null,
            "width": null
          }
        },
        "de69f08f55144847b4ae9ac2fc2f24fa": {
          "model_module": "@jupyter-widgets/controls",
          "model_name": "ProgressStyleModel",
          "model_module_version": "1.5.0",
          "state": {
            "_model_module": "@jupyter-widgets/controls",
            "_model_module_version": "1.5.0",
            "_model_name": "ProgressStyleModel",
            "_view_count": null,
            "_view_module": "@jupyter-widgets/base",
            "_view_module_version": "1.2.0",
            "_view_name": "StyleView",
            "bar_color": null,
            "description_width": ""
          }
        },
        "45510befe08048f5980ec0a208959cc8": {
          "model_module": "@jupyter-widgets/base",
          "model_name": "LayoutModel",
          "model_module_version": "1.2.0",
          "state": {
            "_model_module": "@jupyter-widgets/base",
            "_model_module_version": "1.2.0",
            "_model_name": "LayoutModel",
            "_view_count": null,
            "_view_module": "@jupyter-widgets/base",
            "_view_module_version": "1.2.0",
            "_view_name": "LayoutView",
            "align_content": null,
            "align_items": null,
            "align_self": null,
            "border": null,
            "bottom": null,
            "display": null,
            "flex": null,
            "flex_flow": null,
            "grid_area": null,
            "grid_auto_columns": null,
            "grid_auto_flow": null,
            "grid_auto_rows": null,
            "grid_column": null,
            "grid_gap": null,
            "grid_row": null,
            "grid_template_areas": null,
            "grid_template_columns": null,
            "grid_template_rows": null,
            "height": null,
            "justify_content": null,
            "justify_items": null,
            "left": null,
            "margin": null,
            "max_height": null,
            "max_width": null,
            "min_height": null,
            "min_width": null,
            "object_fit": null,
            "object_position": null,
            "order": null,
            "overflow": null,
            "overflow_x": null,
            "overflow_y": null,
            "padding": null,
            "right": null,
            "top": null,
            "visibility": null,
            "width": null
          }
        },
        "6c35b66f61ea43f3b4a3511068ed035e": {
          "model_module": "@jupyter-widgets/controls",
          "model_name": "DescriptionStyleModel",
          "model_module_version": "1.5.0",
          "state": {
            "_model_module": "@jupyter-widgets/controls",
            "_model_module_version": "1.5.0",
            "_model_name": "DescriptionStyleModel",
            "_view_count": null,
            "_view_module": "@jupyter-widgets/base",
            "_view_module_version": "1.2.0",
            "_view_name": "StyleView",
            "description_width": ""
          }
        },
        "102792717f3a46369f48f03e3370d4df": {
          "model_module": "@jupyter-widgets/controls",
          "model_name": "HBoxModel",
          "model_module_version": "1.5.0",
          "state": {
            "_dom_classes": [],
            "_model_module": "@jupyter-widgets/controls",
            "_model_module_version": "1.5.0",
            "_model_name": "HBoxModel",
            "_view_count": null,
            "_view_module": "@jupyter-widgets/controls",
            "_view_module_version": "1.5.0",
            "_view_name": "HBoxView",
            "box_style": "",
            "children": [
              "IPY_MODEL_c7e5fac1a0da4da9844900d0cb4655c9",
              "IPY_MODEL_637298a782fb4d2f918cdd3f99ca259c",
              "IPY_MODEL_76e819c13b434bccad56fd65c7ef72dd"
            ],
            "layout": "IPY_MODEL_d0bd3f2da7b3444683fd537e234c54db"
          }
        },
        "c7e5fac1a0da4da9844900d0cb4655c9": {
          "model_module": "@jupyter-widgets/controls",
          "model_name": "HTMLModel",
          "model_module_version": "1.5.0",
          "state": {
            "_dom_classes": [],
            "_model_module": "@jupyter-widgets/controls",
            "_model_module_version": "1.5.0",
            "_model_name": "HTMLModel",
            "_view_count": null,
            "_view_module": "@jupyter-widgets/controls",
            "_view_module_version": "1.5.0",
            "_view_name": "HTMLView",
            "description": "",
            "description_tooltip": null,
            "layout": "IPY_MODEL_1182786e72834675ab97760e097a135d",
            "placeholder": "​",
            "style": "IPY_MODEL_9db2f8992895441abc22f90ddde560e2",
            "value": "tokenizer.json: 100%"
          }
        },
        "637298a782fb4d2f918cdd3f99ca259c": {
          "model_module": "@jupyter-widgets/controls",
          "model_name": "FloatProgressModel",
          "model_module_version": "1.5.0",
          "state": {
            "_dom_classes": [],
            "_model_module": "@jupyter-widgets/controls",
            "_model_module_version": "1.5.0",
            "_model_name": "FloatProgressModel",
            "_view_count": null,
            "_view_module": "@jupyter-widgets/controls",
            "_view_module_version": "1.5.0",
            "_view_name": "ProgressView",
            "bar_style": "success",
            "description": "",
            "description_tooltip": null,
            "layout": "IPY_MODEL_666f26738d1c4584a8e663fd2ad28b78",
            "max": 2203239,
            "min": 0,
            "orientation": "horizontal",
            "style": "IPY_MODEL_9018ab5453744948b94e6a60630e570f",
            "value": 2203239
          }
        },
        "76e819c13b434bccad56fd65c7ef72dd": {
          "model_module": "@jupyter-widgets/controls",
          "model_name": "HTMLModel",
          "model_module_version": "1.5.0",
          "state": {
            "_dom_classes": [],
            "_model_module": "@jupyter-widgets/controls",
            "_model_module_version": "1.5.0",
            "_model_name": "HTMLModel",
            "_view_count": null,
            "_view_module": "@jupyter-widgets/controls",
            "_view_module_version": "1.5.0",
            "_view_name": "HTMLView",
            "description": "",
            "description_tooltip": null,
            "layout": "IPY_MODEL_d7fb9f3b0b3241e695c77f216823b532",
            "placeholder": "​",
            "style": "IPY_MODEL_d4a67a2f41ab4aee94764df6489f3b2e",
            "value": " 2.20M/2.20M [00:00&lt;00:00, 8.89MB/s]"
          }
        },
        "d0bd3f2da7b3444683fd537e234c54db": {
          "model_module": "@jupyter-widgets/base",
          "model_name": "LayoutModel",
          "model_module_version": "1.2.0",
          "state": {
            "_model_module": "@jupyter-widgets/base",
            "_model_module_version": "1.2.0",
            "_model_name": "LayoutModel",
            "_view_count": null,
            "_view_module": "@jupyter-widgets/base",
            "_view_module_version": "1.2.0",
            "_view_name": "LayoutView",
            "align_content": null,
            "align_items": null,
            "align_self": null,
            "border": null,
            "bottom": null,
            "display": null,
            "flex": null,
            "flex_flow": null,
            "grid_area": null,
            "grid_auto_columns": null,
            "grid_auto_flow": null,
            "grid_auto_rows": null,
            "grid_column": null,
            "grid_gap": null,
            "grid_row": null,
            "grid_template_areas": null,
            "grid_template_columns": null,
            "grid_template_rows": null,
            "height": null,
            "justify_content": null,
            "justify_items": null,
            "left": null,
            "margin": null,
            "max_height": null,
            "max_width": null,
            "min_height": null,
            "min_width": null,
            "object_fit": null,
            "object_position": null,
            "order": null,
            "overflow": null,
            "overflow_x": null,
            "overflow_y": null,
            "padding": null,
            "right": null,
            "top": null,
            "visibility": null,
            "width": null
          }
        },
        "1182786e72834675ab97760e097a135d": {
          "model_module": "@jupyter-widgets/base",
          "model_name": "LayoutModel",
          "model_module_version": "1.2.0",
          "state": {
            "_model_module": "@jupyter-widgets/base",
            "_model_module_version": "1.2.0",
            "_model_name": "LayoutModel",
            "_view_count": null,
            "_view_module": "@jupyter-widgets/base",
            "_view_module_version": "1.2.0",
            "_view_name": "LayoutView",
            "align_content": null,
            "align_items": null,
            "align_self": null,
            "border": null,
            "bottom": null,
            "display": null,
            "flex": null,
            "flex_flow": null,
            "grid_area": null,
            "grid_auto_columns": null,
            "grid_auto_flow": null,
            "grid_auto_rows": null,
            "grid_column": null,
            "grid_gap": null,
            "grid_row": null,
            "grid_template_areas": null,
            "grid_template_columns": null,
            "grid_template_rows": null,
            "height": null,
            "justify_content": null,
            "justify_items": null,
            "left": null,
            "margin": null,
            "max_height": null,
            "max_width": null,
            "min_height": null,
            "min_width": null,
            "object_fit": null,
            "object_position": null,
            "order": null,
            "overflow": null,
            "overflow_x": null,
            "overflow_y": null,
            "padding": null,
            "right": null,
            "top": null,
            "visibility": null,
            "width": null
          }
        },
        "9db2f8992895441abc22f90ddde560e2": {
          "model_module": "@jupyter-widgets/controls",
          "model_name": "DescriptionStyleModel",
          "model_module_version": "1.5.0",
          "state": {
            "_model_module": "@jupyter-widgets/controls",
            "_model_module_version": "1.5.0",
            "_model_name": "DescriptionStyleModel",
            "_view_count": null,
            "_view_module": "@jupyter-widgets/base",
            "_view_module_version": "1.2.0",
            "_view_name": "StyleView",
            "description_width": ""
          }
        },
        "666f26738d1c4584a8e663fd2ad28b78": {
          "model_module": "@jupyter-widgets/base",
          "model_name": "LayoutModel",
          "model_module_version": "1.2.0",
          "state": {
            "_model_module": "@jupyter-widgets/base",
            "_model_module_version": "1.2.0",
            "_model_name": "LayoutModel",
            "_view_count": null,
            "_view_module": "@jupyter-widgets/base",
            "_view_module_version": "1.2.0",
            "_view_name": "LayoutView",
            "align_content": null,
            "align_items": null,
            "align_self": null,
            "border": null,
            "bottom": null,
            "display": null,
            "flex": null,
            "flex_flow": null,
            "grid_area": null,
            "grid_auto_columns": null,
            "grid_auto_flow": null,
            "grid_auto_rows": null,
            "grid_column": null,
            "grid_gap": null,
            "grid_row": null,
            "grid_template_areas": null,
            "grid_template_columns": null,
            "grid_template_rows": null,
            "height": null,
            "justify_content": null,
            "justify_items": null,
            "left": null,
            "margin": null,
            "max_height": null,
            "max_width": null,
            "min_height": null,
            "min_width": null,
            "object_fit": null,
            "object_position": null,
            "order": null,
            "overflow": null,
            "overflow_x": null,
            "overflow_y": null,
            "padding": null,
            "right": null,
            "top": null,
            "visibility": null,
            "width": null
          }
        },
        "9018ab5453744948b94e6a60630e570f": {
          "model_module": "@jupyter-widgets/controls",
          "model_name": "ProgressStyleModel",
          "model_module_version": "1.5.0",
          "state": {
            "_model_module": "@jupyter-widgets/controls",
            "_model_module_version": "1.5.0",
            "_model_name": "ProgressStyleModel",
            "_view_count": null,
            "_view_module": "@jupyter-widgets/base",
            "_view_module_version": "1.2.0",
            "_view_name": "StyleView",
            "bar_color": null,
            "description_width": ""
          }
        },
        "d7fb9f3b0b3241e695c77f216823b532": {
          "model_module": "@jupyter-widgets/base",
          "model_name": "LayoutModel",
          "model_module_version": "1.2.0",
          "state": {
            "_model_module": "@jupyter-widgets/base",
            "_model_module_version": "1.2.0",
            "_model_name": "LayoutModel",
            "_view_count": null,
            "_view_module": "@jupyter-widgets/base",
            "_view_module_version": "1.2.0",
            "_view_name": "LayoutView",
            "align_content": null,
            "align_items": null,
            "align_self": null,
            "border": null,
            "bottom": null,
            "display": null,
            "flex": null,
            "flex_flow": null,
            "grid_area": null,
            "grid_auto_columns": null,
            "grid_auto_flow": null,
            "grid_auto_rows": null,
            "grid_column": null,
            "grid_gap": null,
            "grid_row": null,
            "grid_template_areas": null,
            "grid_template_columns": null,
            "grid_template_rows": null,
            "height": null,
            "justify_content": null,
            "justify_items": null,
            "left": null,
            "margin": null,
            "max_height": null,
            "max_width": null,
            "min_height": null,
            "min_width": null,
            "object_fit": null,
            "object_position": null,
            "order": null,
            "overflow": null,
            "overflow_x": null,
            "overflow_y": null,
            "padding": null,
            "right": null,
            "top": null,
            "visibility": null,
            "width": null
          }
        },
        "d4a67a2f41ab4aee94764df6489f3b2e": {
          "model_module": "@jupyter-widgets/controls",
          "model_name": "DescriptionStyleModel",
          "model_module_version": "1.5.0",
          "state": {
            "_model_module": "@jupyter-widgets/controls",
            "_model_module_version": "1.5.0",
            "_model_name": "DescriptionStyleModel",
            "_view_count": null,
            "_view_module": "@jupyter-widgets/base",
            "_view_module_version": "1.2.0",
            "_view_name": "StyleView",
            "description_width": ""
          }
        },
        "2efba6fcb2d341688641865c71f9a8f0": {
          "model_module": "@jupyter-widgets/controls",
          "model_name": "HBoxModel",
          "model_module_version": "1.5.0",
          "state": {
            "_dom_classes": [],
            "_model_module": "@jupyter-widgets/controls",
            "_model_module_version": "1.5.0",
            "_model_name": "HBoxModel",
            "_view_count": null,
            "_view_module": "@jupyter-widgets/controls",
            "_view_module_version": "1.5.0",
            "_view_name": "HBoxView",
            "box_style": "",
            "children": [
              "IPY_MODEL_abc7443e98734f7c91d7f38076241fef",
              "IPY_MODEL_ec965228c44e422f895a4bb4df294016",
              "IPY_MODEL_7aa2c2da9faf4702bea5151738a8e93f"
            ],
            "layout": "IPY_MODEL_fead4aca18b742f39f26790c36541802"
          }
        },
        "abc7443e98734f7c91d7f38076241fef": {
          "model_module": "@jupyter-widgets/controls",
          "model_name": "HTMLModel",
          "model_module_version": "1.5.0",
          "state": {
            "_dom_classes": [],
            "_model_module": "@jupyter-widgets/controls",
            "_model_module_version": "1.5.0",
            "_model_name": "HTMLModel",
            "_view_count": null,
            "_view_module": "@jupyter-widgets/controls",
            "_view_module_version": "1.5.0",
            "_view_name": "HTMLView",
            "description": "",
            "description_tooltip": null,
            "layout": "IPY_MODEL_75649df3ada24c528a1f4b547de3c0a6",
            "placeholder": "​",
            "style": "IPY_MODEL_fbe85ec3631b479e916ae7d113400fdb",
            "value": "config.json: 100%"
          }
        },
        "ec965228c44e422f895a4bb4df294016": {
          "model_module": "@jupyter-widgets/controls",
          "model_name": "FloatProgressModel",
          "model_module_version": "1.5.0",
          "state": {
            "_dom_classes": [],
            "_model_module": "@jupyter-widgets/controls",
            "_model_module_version": "1.5.0",
            "_model_name": "FloatProgressModel",
            "_view_count": null,
            "_view_module": "@jupyter-widgets/controls",
            "_view_module_version": "1.5.0",
            "_view_name": "ProgressView",
            "bar_style": "success",
            "description": "",
            "description_tooltip": null,
            "layout": "IPY_MODEL_9dfec27ecf8e4bdeb5b070698d89caf7",
            "max": 2796,
            "min": 0,
            "orientation": "horizontal",
            "style": "IPY_MODEL_9efb5ec18fab4309992dcbccdd625a85",
            "value": 2796
          }
        },
        "7aa2c2da9faf4702bea5151738a8e93f": {
          "model_module": "@jupyter-widgets/controls",
          "model_name": "HTMLModel",
          "model_module_version": "1.5.0",
          "state": {
            "_dom_classes": [],
            "_model_module": "@jupyter-widgets/controls",
            "_model_module_version": "1.5.0",
            "_model_name": "HTMLModel",
            "_view_count": null,
            "_view_module": "@jupyter-widgets/controls",
            "_view_module_version": "1.5.0",
            "_view_name": "HTMLView",
            "description": "",
            "description_tooltip": null,
            "layout": "IPY_MODEL_6b20f934ca094330be6400f7e8f0f7dd",
            "placeholder": "​",
            "style": "IPY_MODEL_aa33c0d6247741a184eccc92d4ebbf63",
            "value": " 2.80k/2.80k [00:00&lt;00:00, 170kB/s]"
          }
        },
        "fead4aca18b742f39f26790c36541802": {
          "model_module": "@jupyter-widgets/base",
          "model_name": "LayoutModel",
          "model_module_version": "1.2.0",
          "state": {
            "_model_module": "@jupyter-widgets/base",
            "_model_module_version": "1.2.0",
            "_model_name": "LayoutModel",
            "_view_count": null,
            "_view_module": "@jupyter-widgets/base",
            "_view_module_version": "1.2.0",
            "_view_name": "LayoutView",
            "align_content": null,
            "align_items": null,
            "align_self": null,
            "border": null,
            "bottom": null,
            "display": null,
            "flex": null,
            "flex_flow": null,
            "grid_area": null,
            "grid_auto_columns": null,
            "grid_auto_flow": null,
            "grid_auto_rows": null,
            "grid_column": null,
            "grid_gap": null,
            "grid_row": null,
            "grid_template_areas": null,
            "grid_template_columns": null,
            "grid_template_rows": null,
            "height": null,
            "justify_content": null,
            "justify_items": null,
            "left": null,
            "margin": null,
            "max_height": null,
            "max_width": null,
            "min_height": null,
            "min_width": null,
            "object_fit": null,
            "object_position": null,
            "order": null,
            "overflow": null,
            "overflow_x": null,
            "overflow_y": null,
            "padding": null,
            "right": null,
            "top": null,
            "visibility": null,
            "width": null
          }
        },
        "75649df3ada24c528a1f4b547de3c0a6": {
          "model_module": "@jupyter-widgets/base",
          "model_name": "LayoutModel",
          "model_module_version": "1.2.0",
          "state": {
            "_model_module": "@jupyter-widgets/base",
            "_model_module_version": "1.2.0",
            "_model_name": "LayoutModel",
            "_view_count": null,
            "_view_module": "@jupyter-widgets/base",
            "_view_module_version": "1.2.0",
            "_view_name": "LayoutView",
            "align_content": null,
            "align_items": null,
            "align_self": null,
            "border": null,
            "bottom": null,
            "display": null,
            "flex": null,
            "flex_flow": null,
            "grid_area": null,
            "grid_auto_columns": null,
            "grid_auto_flow": null,
            "grid_auto_rows": null,
            "grid_column": null,
            "grid_gap": null,
            "grid_row": null,
            "grid_template_areas": null,
            "grid_template_columns": null,
            "grid_template_rows": null,
            "height": null,
            "justify_content": null,
            "justify_items": null,
            "left": null,
            "margin": null,
            "max_height": null,
            "max_width": null,
            "min_height": null,
            "min_width": null,
            "object_fit": null,
            "object_position": null,
            "order": null,
            "overflow": null,
            "overflow_x": null,
            "overflow_y": null,
            "padding": null,
            "right": null,
            "top": null,
            "visibility": null,
            "width": null
          }
        },
        "fbe85ec3631b479e916ae7d113400fdb": {
          "model_module": "@jupyter-widgets/controls",
          "model_name": "DescriptionStyleModel",
          "model_module_version": "1.5.0",
          "state": {
            "_model_module": "@jupyter-widgets/controls",
            "_model_module_version": "1.5.0",
            "_model_name": "DescriptionStyleModel",
            "_view_count": null,
            "_view_module": "@jupyter-widgets/base",
            "_view_module_version": "1.2.0",
            "_view_name": "StyleView",
            "description_width": ""
          }
        },
        "9dfec27ecf8e4bdeb5b070698d89caf7": {
          "model_module": "@jupyter-widgets/base",
          "model_name": "LayoutModel",
          "model_module_version": "1.2.0",
          "state": {
            "_model_module": "@jupyter-widgets/base",
            "_model_module_version": "1.2.0",
            "_model_name": "LayoutModel",
            "_view_count": null,
            "_view_module": "@jupyter-widgets/base",
            "_view_module_version": "1.2.0",
            "_view_name": "LayoutView",
            "align_content": null,
            "align_items": null,
            "align_self": null,
            "border": null,
            "bottom": null,
            "display": null,
            "flex": null,
            "flex_flow": null,
            "grid_area": null,
            "grid_auto_columns": null,
            "grid_auto_flow": null,
            "grid_auto_rows": null,
            "grid_column": null,
            "grid_gap": null,
            "grid_row": null,
            "grid_template_areas": null,
            "grid_template_columns": null,
            "grid_template_rows": null,
            "height": null,
            "justify_content": null,
            "justify_items": null,
            "left": null,
            "margin": null,
            "max_height": null,
            "max_width": null,
            "min_height": null,
            "min_width": null,
            "object_fit": null,
            "object_position": null,
            "order": null,
            "overflow": null,
            "overflow_x": null,
            "overflow_y": null,
            "padding": null,
            "right": null,
            "top": null,
            "visibility": null,
            "width": null
          }
        },
        "9efb5ec18fab4309992dcbccdd625a85": {
          "model_module": "@jupyter-widgets/controls",
          "model_name": "ProgressStyleModel",
          "model_module_version": "1.5.0",
          "state": {
            "_model_module": "@jupyter-widgets/controls",
            "_model_module_version": "1.5.0",
            "_model_name": "ProgressStyleModel",
            "_view_count": null,
            "_view_module": "@jupyter-widgets/base",
            "_view_module_version": "1.2.0",
            "_view_name": "StyleView",
            "bar_color": null,
            "description_width": ""
          }
        },
        "6b20f934ca094330be6400f7e8f0f7dd": {
          "model_module": "@jupyter-widgets/base",
          "model_name": "LayoutModel",
          "model_module_version": "1.2.0",
          "state": {
            "_model_module": "@jupyter-widgets/base",
            "_model_module_version": "1.2.0",
            "_model_name": "LayoutModel",
            "_view_count": null,
            "_view_module": "@jupyter-widgets/base",
            "_view_module_version": "1.2.0",
            "_view_name": "LayoutView",
            "align_content": null,
            "align_items": null,
            "align_self": null,
            "border": null,
            "bottom": null,
            "display": null,
            "flex": null,
            "flex_flow": null,
            "grid_area": null,
            "grid_auto_columns": null,
            "grid_auto_flow": null,
            "grid_auto_rows": null,
            "grid_column": null,
            "grid_gap": null,
            "grid_row": null,
            "grid_template_areas": null,
            "grid_template_columns": null,
            "grid_template_rows": null,
            "height": null,
            "justify_content": null,
            "justify_items": null,
            "left": null,
            "margin": null,
            "max_height": null,
            "max_width": null,
            "min_height": null,
            "min_width": null,
            "object_fit": null,
            "object_position": null,
            "order": null,
            "overflow": null,
            "overflow_x": null,
            "overflow_y": null,
            "padding": null,
            "right": null,
            "top": null,
            "visibility": null,
            "width": null
          }
        },
        "aa33c0d6247741a184eccc92d4ebbf63": {
          "model_module": "@jupyter-widgets/controls",
          "model_name": "DescriptionStyleModel",
          "model_module_version": "1.5.0",
          "state": {
            "_model_module": "@jupyter-widgets/controls",
            "_model_module_version": "1.5.0",
            "_model_name": "DescriptionStyleModel",
            "_view_count": null,
            "_view_module": "@jupyter-widgets/base",
            "_view_module_version": "1.2.0",
            "_view_name": "StyleView",
            "description_width": ""
          }
        },
        "28c28e0e44634fd0aa1f68fae5da76e4": {
          "model_module": "@jupyter-widgets/controls",
          "model_name": "HBoxModel",
          "model_module_version": "1.5.0",
          "state": {
            "_dom_classes": [],
            "_model_module": "@jupyter-widgets/controls",
            "_model_module_version": "1.5.0",
            "_model_name": "HBoxModel",
            "_view_count": null,
            "_view_module": "@jupyter-widgets/controls",
            "_view_module_version": "1.5.0",
            "_view_name": "HBoxView",
            "box_style": "",
            "children": [
              "IPY_MODEL_5e1e1992df014d448da357447634d253",
              "IPY_MODEL_f5e4ab5cf5154a188544eb21051b1c07",
              "IPY_MODEL_b6c7a36243814311ae14bae9b2cf2a7f"
            ],
            "layout": "IPY_MODEL_aaf55a984ee14737a66504279d8ba507"
          }
        },
        "5e1e1992df014d448da357447634d253": {
          "model_module": "@jupyter-widgets/controls",
          "model_name": "HTMLModel",
          "model_module_version": "1.5.0",
          "state": {
            "_dom_classes": [],
            "_model_module": "@jupyter-widgets/controls",
            "_model_module_version": "1.5.0",
            "_model_name": "HTMLModel",
            "_view_count": null,
            "_view_module": "@jupyter-widgets/controls",
            "_view_module_version": "1.5.0",
            "_view_name": "HTMLView",
            "description": "",
            "description_tooltip": null,
            "layout": "IPY_MODEL_d5b9bee1cfca4d29838ac91b06b4192f",
            "placeholder": "​",
            "style": "IPY_MODEL_0489f744d1734341b1b9b656d156b438",
            "value": ""
          }
        },
        "f5e4ab5cf5154a188544eb21051b1c07": {
          "model_module": "@jupyter-widgets/controls",
          "model_name": "FloatProgressModel",
          "model_module_version": "1.5.0",
          "state": {
            "_dom_classes": [],
            "_model_module": "@jupyter-widgets/controls",
            "_model_module_version": "1.5.0",
            "_model_name": "FloatProgressModel",
            "_view_count": null,
            "_view_module": "@jupyter-widgets/controls",
            "_view_module_version": "1.5.0",
            "_view_name": "ProgressView",
            "bar_style": "info",
            "description": "",
            "description_tooltip": null,
            "layout": "IPY_MODEL_a567cd46bb19473f9275cb3cce663d2f",
            "max": 1,
            "min": 0,
            "orientation": "horizontal",
            "style": "IPY_MODEL_4a291fc4695445cfb30eaba1a6b30e78",
            "value": 1
          }
        },
        "b6c7a36243814311ae14bae9b2cf2a7f": {
          "model_module": "@jupyter-widgets/controls",
          "model_name": "HTMLModel",
          "model_module_version": "1.5.0",
          "state": {
            "_dom_classes": [],
            "_model_module": "@jupyter-widgets/controls",
            "_model_module_version": "1.5.0",
            "_model_name": "HTMLModel",
            "_view_count": null,
            "_view_module": "@jupyter-widgets/controls",
            "_view_module_version": "1.5.0",
            "_view_name": "HTMLView",
            "description": "",
            "description_tooltip": null,
            "layout": "IPY_MODEL_4893ab31d95c4cd3b60fd3b7005bee6a",
            "placeholder": "​",
            "style": "IPY_MODEL_f376a00c09e642158eb57cd04ed1a4a9",
            "value": " 17/? [19:52&lt;00:00, 74.70s/it]"
          }
        },
        "aaf55a984ee14737a66504279d8ba507": {
          "model_module": "@jupyter-widgets/base",
          "model_name": "LayoutModel",
          "model_module_version": "1.2.0",
          "state": {
            "_model_module": "@jupyter-widgets/base",
            "_model_module_version": "1.2.0",
            "_model_name": "LayoutModel",
            "_view_count": null,
            "_view_module": "@jupyter-widgets/base",
            "_view_module_version": "1.2.0",
            "_view_name": "LayoutView",
            "align_content": null,
            "align_items": null,
            "align_self": null,
            "border": null,
            "bottom": null,
            "display": null,
            "flex": null,
            "flex_flow": null,
            "grid_area": null,
            "grid_auto_columns": null,
            "grid_auto_flow": null,
            "grid_auto_rows": null,
            "grid_column": null,
            "grid_gap": null,
            "grid_row": null,
            "grid_template_areas": null,
            "grid_template_columns": null,
            "grid_template_rows": null,
            "height": null,
            "justify_content": null,
            "justify_items": null,
            "left": null,
            "margin": null,
            "max_height": null,
            "max_width": null,
            "min_height": null,
            "min_width": null,
            "object_fit": null,
            "object_position": null,
            "order": null,
            "overflow": null,
            "overflow_x": null,
            "overflow_y": null,
            "padding": null,
            "right": null,
            "top": null,
            "visibility": null,
            "width": null
          }
        },
        "d5b9bee1cfca4d29838ac91b06b4192f": {
          "model_module": "@jupyter-widgets/base",
          "model_name": "LayoutModel",
          "model_module_version": "1.2.0",
          "state": {
            "_model_module": "@jupyter-widgets/base",
            "_model_module_version": "1.2.0",
            "_model_name": "LayoutModel",
            "_view_count": null,
            "_view_module": "@jupyter-widgets/base",
            "_view_module_version": "1.2.0",
            "_view_name": "LayoutView",
            "align_content": null,
            "align_items": null,
            "align_self": null,
            "border": null,
            "bottom": null,
            "display": null,
            "flex": null,
            "flex_flow": null,
            "grid_area": null,
            "grid_auto_columns": null,
            "grid_auto_flow": null,
            "grid_auto_rows": null,
            "grid_column": null,
            "grid_gap": null,
            "grid_row": null,
            "grid_template_areas": null,
            "grid_template_columns": null,
            "grid_template_rows": null,
            "height": null,
            "justify_content": null,
            "justify_items": null,
            "left": null,
            "margin": null,
            "max_height": null,
            "max_width": null,
            "min_height": null,
            "min_width": null,
            "object_fit": null,
            "object_position": null,
            "order": null,
            "overflow": null,
            "overflow_x": null,
            "overflow_y": null,
            "padding": null,
            "right": null,
            "top": null,
            "visibility": null,
            "width": null
          }
        },
        "0489f744d1734341b1b9b656d156b438": {
          "model_module": "@jupyter-widgets/controls",
          "model_name": "DescriptionStyleModel",
          "model_module_version": "1.5.0",
          "state": {
            "_model_module": "@jupyter-widgets/controls",
            "_model_module_version": "1.5.0",
            "_model_name": "DescriptionStyleModel",
            "_view_count": null,
            "_view_module": "@jupyter-widgets/base",
            "_view_module_version": "1.2.0",
            "_view_name": "StyleView",
            "description_width": ""
          }
        },
        "a567cd46bb19473f9275cb3cce663d2f": {
          "model_module": "@jupyter-widgets/base",
          "model_name": "LayoutModel",
          "model_module_version": "1.2.0",
          "state": {
            "_model_module": "@jupyter-widgets/base",
            "_model_module_version": "1.2.0",
            "_model_name": "LayoutModel",
            "_view_count": null,
            "_view_module": "@jupyter-widgets/base",
            "_view_module_version": "1.2.0",
            "_view_name": "LayoutView",
            "align_content": null,
            "align_items": null,
            "align_self": null,
            "border": null,
            "bottom": null,
            "display": null,
            "flex": null,
            "flex_flow": null,
            "grid_area": null,
            "grid_auto_columns": null,
            "grid_auto_flow": null,
            "grid_auto_rows": null,
            "grid_column": null,
            "grid_gap": null,
            "grid_row": null,
            "grid_template_areas": null,
            "grid_template_columns": null,
            "grid_template_rows": null,
            "height": null,
            "justify_content": null,
            "justify_items": null,
            "left": null,
            "margin": null,
            "max_height": null,
            "max_width": null,
            "min_height": null,
            "min_width": null,
            "object_fit": null,
            "object_position": null,
            "order": null,
            "overflow": null,
            "overflow_x": null,
            "overflow_y": null,
            "padding": null,
            "right": null,
            "top": null,
            "visibility": null,
            "width": "20px"
          }
        },
        "4a291fc4695445cfb30eaba1a6b30e78": {
          "model_module": "@jupyter-widgets/controls",
          "model_name": "ProgressStyleModel",
          "model_module_version": "1.5.0",
          "state": {
            "_model_module": "@jupyter-widgets/controls",
            "_model_module_version": "1.5.0",
            "_model_name": "ProgressStyleModel",
            "_view_count": null,
            "_view_module": "@jupyter-widgets/base",
            "_view_module_version": "1.2.0",
            "_view_name": "StyleView",
            "bar_color": null,
            "description_width": ""
          }
        },
        "4893ab31d95c4cd3b60fd3b7005bee6a": {
          "model_module": "@jupyter-widgets/base",
          "model_name": "LayoutModel",
          "model_module_version": "1.2.0",
          "state": {
            "_model_module": "@jupyter-widgets/base",
            "_model_module_version": "1.2.0",
            "_model_name": "LayoutModel",
            "_view_count": null,
            "_view_module": "@jupyter-widgets/base",
            "_view_module_version": "1.2.0",
            "_view_name": "LayoutView",
            "align_content": null,
            "align_items": null,
            "align_self": null,
            "border": null,
            "bottom": null,
            "display": null,
            "flex": null,
            "flex_flow": null,
            "grid_area": null,
            "grid_auto_columns": null,
            "grid_auto_flow": null,
            "grid_auto_rows": null,
            "grid_column": null,
            "grid_gap": null,
            "grid_row": null,
            "grid_template_areas": null,
            "grid_template_columns": null,
            "grid_template_rows": null,
            "height": null,
            "justify_content": null,
            "justify_items": null,
            "left": null,
            "margin": null,
            "max_height": null,
            "max_width": null,
            "min_height": null,
            "min_width": null,
            "object_fit": null,
            "object_position": null,
            "order": null,
            "overflow": null,
            "overflow_x": null,
            "overflow_y": null,
            "padding": null,
            "right": null,
            "top": null,
            "visibility": null,
            "width": null
          }
        },
        "f376a00c09e642158eb57cd04ed1a4a9": {
          "model_module": "@jupyter-widgets/controls",
          "model_name": "DescriptionStyleModel",
          "model_module_version": "1.5.0",
          "state": {
            "_model_module": "@jupyter-widgets/controls",
            "_model_module_version": "1.5.0",
            "_model_name": "DescriptionStyleModel",
            "_view_count": null,
            "_view_module": "@jupyter-widgets/base",
            "_view_module_version": "1.2.0",
            "_view_name": "StyleView",
            "description_width": ""
          }
        }
      }
    }
  },
  "nbformat": 4,
  "nbformat_minor": 0
}